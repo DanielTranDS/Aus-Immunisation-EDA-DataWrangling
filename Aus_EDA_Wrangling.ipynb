{
 "cells": [
  {
   "cell_type": "markdown",
   "metadata": {},
   "source": [
    "# Data Wrangling and EDA for Indigenous Australian Population and Australian Immunisation rates data\n",
    "\n",
    "\n",
    "\n",
    "\n",
    "\n",
    "\n",
    "\n",
    "## Table of Content\n",
    "\n",
    "1. [Investigate the size of Indigenous Australian Population](#1)\n",
    "    - 1.1 [Investigate the Distribution of Indigenous Autralians](#1.1)\n",
    "    - 1.2 [Investigate the Ages of Indigenous Australians](#1.2)\n",
    "2. [Exploratory Analysis on Australian Immunisation rates](#2)\n",
    "    - 2.1 [Values and Variables](#2.1)\n",
    "    - 2.2 [Variations in rates over Time, Age and Location](#2.2)"
   ]
  },
  {
   "cell_type": "markdown",
   "metadata": {},
   "source": [
    "## Install packages (if needed)"
   ]
  },
  {
   "cell_type": "code",
   "execution_count": 11,
   "metadata": {},
   "outputs": [],
   "source": [
    "# install.packages('googleVis')\n",
    "# install.packages('visdat')\n",
    "# install.packages('dplyr')"
   ]
  },
  {
   "cell_type": "markdown",
   "metadata": {},
   "source": [
    "## 1. Investigate the size of Indigenous Australian Population <a class=\"anchor\" id=\"1\"></a>\n",
    "\n",
    "First, we need to perform some data wrangling, to ensure the quality of the data"
   ]
  },
  {
   "cell_type": "code",
   "execution_count": 2,
   "metadata": {},
   "outputs": [],
   "source": [
    "#Load tidyverse library\n",
    "library(tidyverse)"
   ]
  },
  {
   "cell_type": "code",
   "execution_count": 21,
   "metadata": {},
   "outputs": [
    {
     "name": "stderr",
     "output_type": "stream",
     "text": [
      "\n",
      "\u001b[36m--\u001b[39m \u001b[1m\u001b[1mColumn specification\u001b[1m\u001b[22m \u001b[36m------------------------------------------------------------------------------------------------\u001b[39m\n",
      "cols(\n",
      "  INDIGENOUS_REGION = \u001b[32mcol_double()\u001b[39m,\n",
      "  `Indigenous region` = \u001b[31mcol_character()\u001b[39m,\n",
      "  Age = \u001b[31mcol_character()\u001b[39m,\n",
      "  TIME = \u001b[32mcol_double()\u001b[39m,\n",
      "  Value = \u001b[32mcol_double()\u001b[39m,\n",
      "  `Projection series` = \u001b[31mcol_character()\u001b[39m,\n",
      "  Frequency = \u001b[31mcol_character()\u001b[39m\n",
      ")\n",
      "\n"
     ]
    },
    {
     "data": {
      "text/html": [
       "<table>\n",
       "<thead><tr><th scope=col>INDIGENOUS_REGION</th><th scope=col>Indigenous region</th><th scope=col>Age</th><th scope=col>TIME</th><th scope=col>Value</th><th scope=col>Projection series</th><th scope=col>Frequency</th></tr></thead>\n",
       "<tbody>\n",
       "\t<tr><td>801     </td><td>ACT     </td><td>Oct-14  </td><td>2016    </td><td> 694    </td><td>Series A</td><td>Annual  </td></tr>\n",
       "\t<tr><td>801     </td><td>ACT     </td><td>Oct-14  </td><td>2017    </td><td> 696    </td><td>Series A</td><td>Annual  </td></tr>\n",
       "\t<tr><td>801     </td><td>ACT     </td><td>Oct-14  </td><td>2018    </td><td> 697    </td><td>Series A</td><td>Annual  </td></tr>\n",
       "\t<tr><td>801     </td><td>ACT     </td><td>Oct-14  </td><td>2019    </td><td> 722    </td><td>Series A</td><td>Annual  </td></tr>\n",
       "\t<tr><td>801     </td><td>ACT     </td><td>Oct-14  </td><td>2020    </td><td> 776    </td><td>Series A</td><td>Annual  </td></tr>\n",
       "\t<tr><td>801     </td><td>ACT     </td><td>Oct-14  </td><td>2021    </td><td> 792    </td><td>Series A</td><td>Annual  </td></tr>\n",
       "\t<tr><td>801     </td><td>ACT     </td><td>Oct-14  </td><td>2022    </td><td> 812    </td><td>Series A</td><td>Annual  </td></tr>\n",
       "\t<tr><td>801     </td><td>ACT     </td><td>Oct-14  </td><td>2023    </td><td> 857    </td><td>Series A</td><td>Annual  </td></tr>\n",
       "\t<tr><td>801     </td><td>ACT     </td><td>Oct-14  </td><td>2024    </td><td> 859    </td><td>Series A</td><td>Annual  </td></tr>\n",
       "\t<tr><td>801     </td><td>ACT     </td><td>Oct-14  </td><td>2025    </td><td> 841    </td><td>Series A</td><td>Annual  </td></tr>\n",
       "\t<tr><td>801     </td><td>ACT     </td><td>Oct-14  </td><td>2026    </td><td> 839    </td><td>Series A</td><td>Annual  </td></tr>\n",
       "\t<tr><td>801     </td><td>ACT     </td><td>Oct-14  </td><td>2027    </td><td> 842    </td><td>Series A</td><td>Annual  </td></tr>\n",
       "\t<tr><td>801     </td><td>ACT     </td><td>Oct-14  </td><td>2028    </td><td> 825    </td><td>Series A</td><td>Annual  </td></tr>\n",
       "\t<tr><td>801     </td><td>ACT     </td><td>Oct-14  </td><td>2029    </td><td> 836    </td><td>Series A</td><td>Annual  </td></tr>\n",
       "\t<tr><td>801     </td><td>ACT     </td><td>Oct-14  </td><td>2030    </td><td> 856    </td><td>Series A</td><td>Annual  </td></tr>\n",
       "\t<tr><td>801     </td><td>ACT     </td><td>Oct-14  </td><td>2031    </td><td> 886    </td><td>Series A</td><td>Annual  </td></tr>\n",
       "\t<tr><td>401     </td><td>Adelaide</td><td>Oct-14  </td><td>2016    </td><td>3295    </td><td>Series A</td><td>Annual  </td></tr>\n",
       "\t<tr><td>401     </td><td>Adelaide</td><td>Oct-14  </td><td>2017    </td><td>3357    </td><td>Series A</td><td>Annual  </td></tr>\n",
       "\t<tr><td>401     </td><td>Adelaide</td><td>Oct-14  </td><td>2018    </td><td>3466    </td><td>Series A</td><td>Annual  </td></tr>\n",
       "\t<tr><td>401     </td><td>Adelaide</td><td>Oct-14  </td><td>2019    </td><td>3566    </td><td>Series A</td><td>Annual  </td></tr>\n",
       "\t<tr><td>401     </td><td>Adelaide</td><td>Oct-14  </td><td>2020    </td><td>3683    </td><td>Series A</td><td>Annual  </td></tr>\n",
       "\t<tr><td>401     </td><td>Adelaide</td><td>Oct-14  </td><td>2021    </td><td>3738    </td><td>Series A</td><td>Annual  </td></tr>\n",
       "\t<tr><td>401     </td><td>Adelaide</td><td>Oct-14  </td><td>2022    </td><td>3796    </td><td>Series A</td><td>Annual  </td></tr>\n",
       "\t<tr><td>401     </td><td>Adelaide</td><td>Oct-14  </td><td>2023    </td><td>3827    </td><td>Series A</td><td>Annual  </td></tr>\n",
       "\t<tr><td>401     </td><td>Adelaide</td><td>Oct-14  </td><td>2024    </td><td>3838    </td><td>Series A</td><td>Annual  </td></tr>\n",
       "\t<tr><td>401     </td><td>Adelaide</td><td>Oct-14  </td><td>2025    </td><td>3823    </td><td>Series A</td><td>Annual  </td></tr>\n",
       "\t<tr><td>401     </td><td>Adelaide</td><td>Oct-14  </td><td>2026    </td><td>3829    </td><td>Series A</td><td>Annual  </td></tr>\n",
       "\t<tr><td>401     </td><td>Adelaide</td><td>Oct-14  </td><td>2027    </td><td>3863    </td><td>Series A</td><td>Annual  </td></tr>\n",
       "\t<tr><td>401     </td><td>Adelaide</td><td>Oct-14  </td><td>2028    </td><td>3890    </td><td>Series A</td><td>Annual  </td></tr>\n",
       "\t<tr><td>401     </td><td>Adelaide</td><td>Oct-14  </td><td>2029    </td><td>3984    </td><td>Series A</td><td>Annual  </td></tr>\n",
       "\t<tr><td>...</td><td>...</td><td>...</td><td>...</td><td>...</td><td>...</td><td>...</td></tr>\n",
       "\t<tr><td>202                    </td><td>Victoria exc. Melbourne</td><td>65 and over            </td><td>2018                   </td><td>1598                   </td><td>Series A               </td><td>Annual                 </td></tr>\n",
       "\t<tr><td>202                    </td><td>Victoria exc. Melbourne</td><td>65 and over            </td><td>2019                   </td><td>1723                   </td><td>Series A               </td><td>Annual                 </td></tr>\n",
       "\t<tr><td>202                    </td><td>Victoria exc. Melbourne</td><td>65 and over            </td><td>2020                   </td><td>1841                   </td><td>Series A               </td><td>Annual                 </td></tr>\n",
       "\t<tr><td>202                    </td><td>Victoria exc. Melbourne</td><td>65 and over            </td><td>2021                   </td><td>1972                   </td><td>Series A               </td><td>Annual                 </td></tr>\n",
       "\t<tr><td>202                    </td><td>Victoria exc. Melbourne</td><td>65 and over            </td><td>2022                   </td><td>2123                   </td><td>Series A               </td><td>Annual                 </td></tr>\n",
       "\t<tr><td>202                    </td><td>Victoria exc. Melbourne</td><td>65 and over            </td><td>2023                   </td><td>2289                   </td><td>Series A               </td><td>Annual                 </td></tr>\n",
       "\t<tr><td>202                    </td><td>Victoria exc. Melbourne</td><td>65 and over            </td><td>2024                   </td><td>2438                   </td><td>Series A               </td><td>Annual                 </td></tr>\n",
       "\t<tr><td>202                    </td><td>Victoria exc. Melbourne</td><td>65 and over            </td><td>2025                   </td><td>2612                   </td><td>Series A               </td><td>Annual                 </td></tr>\n",
       "\t<tr><td>202                    </td><td>Victoria exc. Melbourne</td><td>65 and over            </td><td>2026                   </td><td>2783                   </td><td>Series A               </td><td>Annual                 </td></tr>\n",
       "\t<tr><td>202                    </td><td>Victoria exc. Melbourne</td><td>65 and over            </td><td>2027                   </td><td>2966                   </td><td>Series A               </td><td>Annual                 </td></tr>\n",
       "\t<tr><td>202                    </td><td>Victoria exc. Melbourne</td><td>65 and over            </td><td>2028                   </td><td>3121                   </td><td>Series A               </td><td>Annual                 </td></tr>\n",
       "\t<tr><td>202                    </td><td>Victoria exc. Melbourne</td><td>65 and over            </td><td>2029                   </td><td>3318                   </td><td>Series A               </td><td>Annual                 </td></tr>\n",
       "\t<tr><td>202                    </td><td>Victoria exc. Melbourne</td><td>65 and over            </td><td>2030                   </td><td>3507                   </td><td>Series A               </td><td>Annual                 </td></tr>\n",
       "\t<tr><td>202                    </td><td>Victoria exc. Melbourne</td><td>65 and over            </td><td>2031                   </td><td>3736                   </td><td>Series A               </td><td>Annual                 </td></tr>\n",
       "\t<tr><td>508                    </td><td>West Kimberley         </td><td>65 and over            </td><td>2016                   </td><td> 251                   </td><td>Series A               </td><td>Annual                 </td></tr>\n",
       "\t<tr><td>508                    </td><td>West Kimberley         </td><td>65 and over            </td><td>2017                   </td><td> 262                   </td><td>Series A               </td><td>Annual                 </td></tr>\n",
       "\t<tr><td>508                    </td><td>West Kimberley         </td><td>65 and over            </td><td>2018                   </td><td> 275                   </td><td>Series A               </td><td>Annual                 </td></tr>\n",
       "\t<tr><td>508                    </td><td>West Kimberley         </td><td>65 and over            </td><td>2019                   </td><td> 288                   </td><td>Series A               </td><td>Annual                 </td></tr>\n",
       "\t<tr><td>508                    </td><td>West Kimberley         </td><td>65 and over            </td><td>2020                   </td><td> 289                   </td><td>Series A               </td><td>Annual                 </td></tr>\n",
       "\t<tr><td>508                    </td><td>West Kimberley         </td><td>65 and over            </td><td>2021                   </td><td> 321                   </td><td>Series A               </td><td>Annual                 </td></tr>\n",
       "\t<tr><td>508                    </td><td>West Kimberley         </td><td>65 and over            </td><td>2022                   </td><td> 363                   </td><td>Series A               </td><td>Annual                 </td></tr>\n",
       "\t<tr><td>508                    </td><td>West Kimberley         </td><td>65 and over            </td><td>2023                   </td><td> 379                   </td><td>Series A               </td><td>Annual                 </td></tr>\n",
       "\t<tr><td>508                    </td><td>West Kimberley         </td><td>65 and over            </td><td>2024                   </td><td> 405                   </td><td>Series A               </td><td>Annual                 </td></tr>\n",
       "\t<tr><td>508                    </td><td>West Kimberley         </td><td>65 and over            </td><td>2025                   </td><td> 434                   </td><td>Series A               </td><td>Annual                 </td></tr>\n",
       "\t<tr><td>508                    </td><td>West Kimberley         </td><td>65 and over            </td><td>2026                   </td><td> 460                   </td><td>Series A               </td><td>Annual                 </td></tr>\n",
       "\t<tr><td>508                    </td><td>West Kimberley         </td><td>65 and over            </td><td>2027                   </td><td> 480                   </td><td>Series A               </td><td>Annual                 </td></tr>\n",
       "\t<tr><td>508                    </td><td>West Kimberley         </td><td>65 and over            </td><td>2028                   </td><td> 522                   </td><td>Series A               </td><td>Annual                 </td></tr>\n",
       "\t<tr><td>508                    </td><td>West Kimberley         </td><td>65 and over            </td><td>2029                   </td><td> 549                   </td><td>Series A               </td><td>Annual                 </td></tr>\n",
       "\t<tr><td>508                    </td><td>West Kimberley         </td><td>65 and over            </td><td>2030                   </td><td> 587                   </td><td>Series A               </td><td>Annual                 </td></tr>\n",
       "\t<tr><td>508                    </td><td>West Kimberley         </td><td>65 and over            </td><td>2031                   </td><td> 620                   </td><td>Series A               </td><td>Annual                 </td></tr>\n",
       "</tbody>\n",
       "</table>\n"
      ],
      "text/latex": [
       "\\begin{tabular}{r|lllllll}\n",
       " INDIGENOUS\\_REGION & Indigenous region & Age & TIME & Value & Projection series & Frequency\\\\\n",
       "\\hline\n",
       "\t 801      & ACT      & Oct-14   & 2016     &  694     & Series A & Annual  \\\\\n",
       "\t 801      & ACT      & Oct-14   & 2017     &  696     & Series A & Annual  \\\\\n",
       "\t 801      & ACT      & Oct-14   & 2018     &  697     & Series A & Annual  \\\\\n",
       "\t 801      & ACT      & Oct-14   & 2019     &  722     & Series A & Annual  \\\\\n",
       "\t 801      & ACT      & Oct-14   & 2020     &  776     & Series A & Annual  \\\\\n",
       "\t 801      & ACT      & Oct-14   & 2021     &  792     & Series A & Annual  \\\\\n",
       "\t 801      & ACT      & Oct-14   & 2022     &  812     & Series A & Annual  \\\\\n",
       "\t 801      & ACT      & Oct-14   & 2023     &  857     & Series A & Annual  \\\\\n",
       "\t 801      & ACT      & Oct-14   & 2024     &  859     & Series A & Annual  \\\\\n",
       "\t 801      & ACT      & Oct-14   & 2025     &  841     & Series A & Annual  \\\\\n",
       "\t 801      & ACT      & Oct-14   & 2026     &  839     & Series A & Annual  \\\\\n",
       "\t 801      & ACT      & Oct-14   & 2027     &  842     & Series A & Annual  \\\\\n",
       "\t 801      & ACT      & Oct-14   & 2028     &  825     & Series A & Annual  \\\\\n",
       "\t 801      & ACT      & Oct-14   & 2029     &  836     & Series A & Annual  \\\\\n",
       "\t 801      & ACT      & Oct-14   & 2030     &  856     & Series A & Annual  \\\\\n",
       "\t 801      & ACT      & Oct-14   & 2031     &  886     & Series A & Annual  \\\\\n",
       "\t 401      & Adelaide & Oct-14   & 2016     & 3295     & Series A & Annual  \\\\\n",
       "\t 401      & Adelaide & Oct-14   & 2017     & 3357     & Series A & Annual  \\\\\n",
       "\t 401      & Adelaide & Oct-14   & 2018     & 3466     & Series A & Annual  \\\\\n",
       "\t 401      & Adelaide & Oct-14   & 2019     & 3566     & Series A & Annual  \\\\\n",
       "\t 401      & Adelaide & Oct-14   & 2020     & 3683     & Series A & Annual  \\\\\n",
       "\t 401      & Adelaide & Oct-14   & 2021     & 3738     & Series A & Annual  \\\\\n",
       "\t 401      & Adelaide & Oct-14   & 2022     & 3796     & Series A & Annual  \\\\\n",
       "\t 401      & Adelaide & Oct-14   & 2023     & 3827     & Series A & Annual  \\\\\n",
       "\t 401      & Adelaide & Oct-14   & 2024     & 3838     & Series A & Annual  \\\\\n",
       "\t 401      & Adelaide & Oct-14   & 2025     & 3823     & Series A & Annual  \\\\\n",
       "\t 401      & Adelaide & Oct-14   & 2026     & 3829     & Series A & Annual  \\\\\n",
       "\t 401      & Adelaide & Oct-14   & 2027     & 3863     & Series A & Annual  \\\\\n",
       "\t 401      & Adelaide & Oct-14   & 2028     & 3890     & Series A & Annual  \\\\\n",
       "\t 401      & Adelaide & Oct-14   & 2029     & 3984     & Series A & Annual  \\\\\n",
       "\t ... & ... & ... & ... & ... & ... & ...\\\\\n",
       "\t 202                     & Victoria exc. Melbourne & 65 and over             & 2018                    & 1598                    & Series A                & Annual                 \\\\\n",
       "\t 202                     & Victoria exc. Melbourne & 65 and over             & 2019                    & 1723                    & Series A                & Annual                 \\\\\n",
       "\t 202                     & Victoria exc. Melbourne & 65 and over             & 2020                    & 1841                    & Series A                & Annual                 \\\\\n",
       "\t 202                     & Victoria exc. Melbourne & 65 and over             & 2021                    & 1972                    & Series A                & Annual                 \\\\\n",
       "\t 202                     & Victoria exc. Melbourne & 65 and over             & 2022                    & 2123                    & Series A                & Annual                 \\\\\n",
       "\t 202                     & Victoria exc. Melbourne & 65 and over             & 2023                    & 2289                    & Series A                & Annual                 \\\\\n",
       "\t 202                     & Victoria exc. Melbourne & 65 and over             & 2024                    & 2438                    & Series A                & Annual                 \\\\\n",
       "\t 202                     & Victoria exc. Melbourne & 65 and over             & 2025                    & 2612                    & Series A                & Annual                 \\\\\n",
       "\t 202                     & Victoria exc. Melbourne & 65 and over             & 2026                    & 2783                    & Series A                & Annual                 \\\\\n",
       "\t 202                     & Victoria exc. Melbourne & 65 and over             & 2027                    & 2966                    & Series A                & Annual                 \\\\\n",
       "\t 202                     & Victoria exc. Melbourne & 65 and over             & 2028                    & 3121                    & Series A                & Annual                 \\\\\n",
       "\t 202                     & Victoria exc. Melbourne & 65 and over             & 2029                    & 3318                    & Series A                & Annual                 \\\\\n",
       "\t 202                     & Victoria exc. Melbourne & 65 and over             & 2030                    & 3507                    & Series A                & Annual                 \\\\\n",
       "\t 202                     & Victoria exc. Melbourne & 65 and over             & 2031                    & 3736                    & Series A                & Annual                 \\\\\n",
       "\t 508                     & West Kimberley          & 65 and over             & 2016                    &  251                    & Series A                & Annual                 \\\\\n",
       "\t 508                     & West Kimberley          & 65 and over             & 2017                    &  262                    & Series A                & Annual                 \\\\\n",
       "\t 508                     & West Kimberley          & 65 and over             & 2018                    &  275                    & Series A                & Annual                 \\\\\n",
       "\t 508                     & West Kimberley          & 65 and over             & 2019                    &  288                    & Series A                & Annual                 \\\\\n",
       "\t 508                     & West Kimberley          & 65 and over             & 2020                    &  289                    & Series A                & Annual                 \\\\\n",
       "\t 508                     & West Kimberley          & 65 and over             & 2021                    &  321                    & Series A                & Annual                 \\\\\n",
       "\t 508                     & West Kimberley          & 65 and over             & 2022                    &  363                    & Series A                & Annual                 \\\\\n",
       "\t 508                     & West Kimberley          & 65 and over             & 2023                    &  379                    & Series A                & Annual                 \\\\\n",
       "\t 508                     & West Kimberley          & 65 and over             & 2024                    &  405                    & Series A                & Annual                 \\\\\n",
       "\t 508                     & West Kimberley          & 65 and over             & 2025                    &  434                    & Series A                & Annual                 \\\\\n",
       "\t 508                     & West Kimberley          & 65 and over             & 2026                    &  460                    & Series A                & Annual                 \\\\\n",
       "\t 508                     & West Kimberley          & 65 and over             & 2027                    &  480                    & Series A                & Annual                 \\\\\n",
       "\t 508                     & West Kimberley          & 65 and over             & 2028                    &  522                    & Series A                & Annual                 \\\\\n",
       "\t 508                     & West Kimberley          & 65 and over             & 2029                    &  549                    & Series A                & Annual                 \\\\\n",
       "\t 508                     & West Kimberley          & 65 and over             & 2030                    &  587                    & Series A                & Annual                 \\\\\n",
       "\t 508                     & West Kimberley          & 65 and over             & 2031                    &  620                    & Series A                & Annual                 \\\\\n",
       "\\end{tabular}\n"
      ],
      "text/markdown": [
       "\n",
       "| INDIGENOUS_REGION | Indigenous region | Age | TIME | Value | Projection series | Frequency |\n",
       "|---|---|---|---|---|---|---|\n",
       "| 801      | ACT      | Oct-14   | 2016     |  694     | Series A | Annual   |\n",
       "| 801      | ACT      | Oct-14   | 2017     |  696     | Series A | Annual   |\n",
       "| 801      | ACT      | Oct-14   | 2018     |  697     | Series A | Annual   |\n",
       "| 801      | ACT      | Oct-14   | 2019     |  722     | Series A | Annual   |\n",
       "| 801      | ACT      | Oct-14   | 2020     |  776     | Series A | Annual   |\n",
       "| 801      | ACT      | Oct-14   | 2021     |  792     | Series A | Annual   |\n",
       "| 801      | ACT      | Oct-14   | 2022     |  812     | Series A | Annual   |\n",
       "| 801      | ACT      | Oct-14   | 2023     |  857     | Series A | Annual   |\n",
       "| 801      | ACT      | Oct-14   | 2024     |  859     | Series A | Annual   |\n",
       "| 801      | ACT      | Oct-14   | 2025     |  841     | Series A | Annual   |\n",
       "| 801      | ACT      | Oct-14   | 2026     |  839     | Series A | Annual   |\n",
       "| 801      | ACT      | Oct-14   | 2027     |  842     | Series A | Annual   |\n",
       "| 801      | ACT      | Oct-14   | 2028     |  825     | Series A | Annual   |\n",
       "| 801      | ACT      | Oct-14   | 2029     |  836     | Series A | Annual   |\n",
       "| 801      | ACT      | Oct-14   | 2030     |  856     | Series A | Annual   |\n",
       "| 801      | ACT      | Oct-14   | 2031     |  886     | Series A | Annual   |\n",
       "| 401      | Adelaide | Oct-14   | 2016     | 3295     | Series A | Annual   |\n",
       "| 401      | Adelaide | Oct-14   | 2017     | 3357     | Series A | Annual   |\n",
       "| 401      | Adelaide | Oct-14   | 2018     | 3466     | Series A | Annual   |\n",
       "| 401      | Adelaide | Oct-14   | 2019     | 3566     | Series A | Annual   |\n",
       "| 401      | Adelaide | Oct-14   | 2020     | 3683     | Series A | Annual   |\n",
       "| 401      | Adelaide | Oct-14   | 2021     | 3738     | Series A | Annual   |\n",
       "| 401      | Adelaide | Oct-14   | 2022     | 3796     | Series A | Annual   |\n",
       "| 401      | Adelaide | Oct-14   | 2023     | 3827     | Series A | Annual   |\n",
       "| 401      | Adelaide | Oct-14   | 2024     | 3838     | Series A | Annual   |\n",
       "| 401      | Adelaide | Oct-14   | 2025     | 3823     | Series A | Annual   |\n",
       "| 401      | Adelaide | Oct-14   | 2026     | 3829     | Series A | Annual   |\n",
       "| 401      | Adelaide | Oct-14   | 2027     | 3863     | Series A | Annual   |\n",
       "| 401      | Adelaide | Oct-14   | 2028     | 3890     | Series A | Annual   |\n",
       "| 401      | Adelaide | Oct-14   | 2029     | 3984     | Series A | Annual   |\n",
       "| ... | ... | ... | ... | ... | ... | ... |\n",
       "| 202                     | Victoria exc. Melbourne | 65 and over             | 2018                    | 1598                    | Series A                | Annual                  |\n",
       "| 202                     | Victoria exc. Melbourne | 65 and over             | 2019                    | 1723                    | Series A                | Annual                  |\n",
       "| 202                     | Victoria exc. Melbourne | 65 and over             | 2020                    | 1841                    | Series A                | Annual                  |\n",
       "| 202                     | Victoria exc. Melbourne | 65 and over             | 2021                    | 1972                    | Series A                | Annual                  |\n",
       "| 202                     | Victoria exc. Melbourne | 65 and over             | 2022                    | 2123                    | Series A                | Annual                  |\n",
       "| 202                     | Victoria exc. Melbourne | 65 and over             | 2023                    | 2289                    | Series A                | Annual                  |\n",
       "| 202                     | Victoria exc. Melbourne | 65 and over             | 2024                    | 2438                    | Series A                | Annual                  |\n",
       "| 202                     | Victoria exc. Melbourne | 65 and over             | 2025                    | 2612                    | Series A                | Annual                  |\n",
       "| 202                     | Victoria exc. Melbourne | 65 and over             | 2026                    | 2783                    | Series A                | Annual                  |\n",
       "| 202                     | Victoria exc. Melbourne | 65 and over             | 2027                    | 2966                    | Series A                | Annual                  |\n",
       "| 202                     | Victoria exc. Melbourne | 65 and over             | 2028                    | 3121                    | Series A                | Annual                  |\n",
       "| 202                     | Victoria exc. Melbourne | 65 and over             | 2029                    | 3318                    | Series A                | Annual                  |\n",
       "| 202                     | Victoria exc. Melbourne | 65 and over             | 2030                    | 3507                    | Series A                | Annual                  |\n",
       "| 202                     | Victoria exc. Melbourne | 65 and over             | 2031                    | 3736                    | Series A                | Annual                  |\n",
       "| 508                     | West Kimberley          | 65 and over             | 2016                    |  251                    | Series A                | Annual                  |\n",
       "| 508                     | West Kimberley          | 65 and over             | 2017                    |  262                    | Series A                | Annual                  |\n",
       "| 508                     | West Kimberley          | 65 and over             | 2018                    |  275                    | Series A                | Annual                  |\n",
       "| 508                     | West Kimberley          | 65 and over             | 2019                    |  288                    | Series A                | Annual                  |\n",
       "| 508                     | West Kimberley          | 65 and over             | 2020                    |  289                    | Series A                | Annual                  |\n",
       "| 508                     | West Kimberley          | 65 and over             | 2021                    |  321                    | Series A                | Annual                  |\n",
       "| 508                     | West Kimberley          | 65 and over             | 2022                    |  363                    | Series A                | Annual                  |\n",
       "| 508                     | West Kimberley          | 65 and over             | 2023                    |  379                    | Series A                | Annual                  |\n",
       "| 508                     | West Kimberley          | 65 and over             | 2024                    |  405                    | Series A                | Annual                  |\n",
       "| 508                     | West Kimberley          | 65 and over             | 2025                    |  434                    | Series A                | Annual                  |\n",
       "| 508                     | West Kimberley          | 65 and over             | 2026                    |  460                    | Series A                | Annual                  |\n",
       "| 508                     | West Kimberley          | 65 and over             | 2027                    |  480                    | Series A                | Annual                  |\n",
       "| 508                     | West Kimberley          | 65 and over             | 2028                    |  522                    | Series A                | Annual                  |\n",
       "| 508                     | West Kimberley          | 65 and over             | 2029                    |  549                    | Series A                | Annual                  |\n",
       "| 508                     | West Kimberley          | 65 and over             | 2030                    |  587                    | Series A                | Annual                  |\n",
       "| 508                     | West Kimberley          | 65 and over             | 2031                    |  620                    | Series A                | Annual                  |\n",
       "\n"
      ],
      "text/plain": [
       "     INDIGENOUS_REGION Indigenous region       Age         TIME Value\n",
       "1    801               ACT                     Oct-14      2016  694 \n",
       "2    801               ACT                     Oct-14      2017  696 \n",
       "3    801               ACT                     Oct-14      2018  697 \n",
       "4    801               ACT                     Oct-14      2019  722 \n",
       "5    801               ACT                     Oct-14      2020  776 \n",
       "6    801               ACT                     Oct-14      2021  792 \n",
       "7    801               ACT                     Oct-14      2022  812 \n",
       "8    801               ACT                     Oct-14      2023  857 \n",
       "9    801               ACT                     Oct-14      2024  859 \n",
       "10   801               ACT                     Oct-14      2025  841 \n",
       "11   801               ACT                     Oct-14      2026  839 \n",
       "12   801               ACT                     Oct-14      2027  842 \n",
       "13   801               ACT                     Oct-14      2028  825 \n",
       "14   801               ACT                     Oct-14      2029  836 \n",
       "15   801               ACT                     Oct-14      2030  856 \n",
       "16   801               ACT                     Oct-14      2031  886 \n",
       "17   401               Adelaide                Oct-14      2016 3295 \n",
       "18   401               Adelaide                Oct-14      2017 3357 \n",
       "19   401               Adelaide                Oct-14      2018 3466 \n",
       "20   401               Adelaide                Oct-14      2019 3566 \n",
       "21   401               Adelaide                Oct-14      2020 3683 \n",
       "22   401               Adelaide                Oct-14      2021 3738 \n",
       "23   401               Adelaide                Oct-14      2022 3796 \n",
       "24   401               Adelaide                Oct-14      2023 3827 \n",
       "25   401               Adelaide                Oct-14      2024 3838 \n",
       "26   401               Adelaide                Oct-14      2025 3823 \n",
       "27   401               Adelaide                Oct-14      2026 3829 \n",
       "28   401               Adelaide                Oct-14      2027 3863 \n",
       "29   401               Adelaide                Oct-14      2028 3890 \n",
       "30   401               Adelaide                Oct-14      2029 3984 \n",
       "...  ...               ...                     ...         ...  ...  \n",
       "8259 202               Victoria exc. Melbourne 65 and over 2018 1598 \n",
       "8260 202               Victoria exc. Melbourne 65 and over 2019 1723 \n",
       "8261 202               Victoria exc. Melbourne 65 and over 2020 1841 \n",
       "8262 202               Victoria exc. Melbourne 65 and over 2021 1972 \n",
       "8263 202               Victoria exc. Melbourne 65 and over 2022 2123 \n",
       "8264 202               Victoria exc. Melbourne 65 and over 2023 2289 \n",
       "8265 202               Victoria exc. Melbourne 65 and over 2024 2438 \n",
       "8266 202               Victoria exc. Melbourne 65 and over 2025 2612 \n",
       "8267 202               Victoria exc. Melbourne 65 and over 2026 2783 \n",
       "8268 202               Victoria exc. Melbourne 65 and over 2027 2966 \n",
       "8269 202               Victoria exc. Melbourne 65 and over 2028 3121 \n",
       "8270 202               Victoria exc. Melbourne 65 and over 2029 3318 \n",
       "8271 202               Victoria exc. Melbourne 65 and over 2030 3507 \n",
       "8272 202               Victoria exc. Melbourne 65 and over 2031 3736 \n",
       "8273 508               West Kimberley          65 and over 2016  251 \n",
       "8274 508               West Kimberley          65 and over 2017  262 \n",
       "8275 508               West Kimberley          65 and over 2018  275 \n",
       "8276 508               West Kimberley          65 and over 2019  288 \n",
       "8277 508               West Kimberley          65 and over 2020  289 \n",
       "8278 508               West Kimberley          65 and over 2021  321 \n",
       "8279 508               West Kimberley          65 and over 2022  363 \n",
       "8280 508               West Kimberley          65 and over 2023  379 \n",
       "8281 508               West Kimberley          65 and over 2024  405 \n",
       "8282 508               West Kimberley          65 and over 2025  434 \n",
       "8283 508               West Kimberley          65 and over 2026  460 \n",
       "8284 508               West Kimberley          65 and over 2027  480 \n",
       "8285 508               West Kimberley          65 and over 2028  522 \n",
       "8286 508               West Kimberley          65 and over 2029  549 \n",
       "8287 508               West Kimberley          65 and over 2030  587 \n",
       "8288 508               West Kimberley          65 and over 2031  620 \n",
       "     Projection series Frequency\n",
       "1    Series A          Annual   \n",
       "2    Series A          Annual   \n",
       "3    Series A          Annual   \n",
       "4    Series A          Annual   \n",
       "5    Series A          Annual   \n",
       "6    Series A          Annual   \n",
       "7    Series A          Annual   \n",
       "8    Series A          Annual   \n",
       "9    Series A          Annual   \n",
       "10   Series A          Annual   \n",
       "11   Series A          Annual   \n",
       "12   Series A          Annual   \n",
       "13   Series A          Annual   \n",
       "14   Series A          Annual   \n",
       "15   Series A          Annual   \n",
       "16   Series A          Annual   \n",
       "17   Series A          Annual   \n",
       "18   Series A          Annual   \n",
       "19   Series A          Annual   \n",
       "20   Series A          Annual   \n",
       "21   Series A          Annual   \n",
       "22   Series A          Annual   \n",
       "23   Series A          Annual   \n",
       "24   Series A          Annual   \n",
       "25   Series A          Annual   \n",
       "26   Series A          Annual   \n",
       "27   Series A          Annual   \n",
       "28   Series A          Annual   \n",
       "29   Series A          Annual   \n",
       "30   Series A          Annual   \n",
       "...  ...               ...      \n",
       "8259 Series A          Annual   \n",
       "8260 Series A          Annual   \n",
       "8261 Series A          Annual   \n",
       "8262 Series A          Annual   \n",
       "8263 Series A          Annual   \n",
       "8264 Series A          Annual   \n",
       "8265 Series A          Annual   \n",
       "8266 Series A          Annual   \n",
       "8267 Series A          Annual   \n",
       "8268 Series A          Annual   \n",
       "8269 Series A          Annual   \n",
       "8270 Series A          Annual   \n",
       "8271 Series A          Annual   \n",
       "8272 Series A          Annual   \n",
       "8273 Series A          Annual   \n",
       "8274 Series A          Annual   \n",
       "8275 Series A          Annual   \n",
       "8276 Series A          Annual   \n",
       "8277 Series A          Annual   \n",
       "8278 Series A          Annual   \n",
       "8279 Series A          Annual   \n",
       "8280 Series A          Annual   \n",
       "8281 Series A          Annual   \n",
       "8282 Series A          Annual   \n",
       "8283 Series A          Annual   \n",
       "8284 Series A          Annual   \n",
       "8285 Series A          Annual   \n",
       "8286 Series A          Annual   \n",
       "8287 Series A          Annual   \n",
       "8288 Series A          Annual   "
      ]
     },
     "metadata": {},
     "output_type": "display_data"
    },
    {
     "name": "stdout",
     "output_type": "stream",
     "text": [
      "Rows: 8,288\n",
      "Columns: 7\n",
      "$ INDIGENOUS_REGION   \u001b[3m\u001b[38;5;246m<dbl>\u001b[39m\u001b[23m 801, 801, 801, 801, 801, 801, 801, 801, 801, 801, ~\n",
      "$ `Indigenous region` \u001b[3m\u001b[38;5;246m<chr>\u001b[39m\u001b[23m \"ACT\", \"ACT\", \"ACT\", \"ACT\", \"ACT\", \"ACT\", \"ACT\", \"~\n",
      "$ Age                 \u001b[3m\u001b[38;5;246m<chr>\u001b[39m\u001b[23m \"Oct-14\", \"Oct-14\", \"Oct-14\", \"Oct-14\", \"Oct-14\", ~\n",
      "$ TIME                \u001b[3m\u001b[38;5;246m<dbl>\u001b[39m\u001b[23m 2016, 2017, 2018, 2019, 2020, 2021, 2022, 2023, 20~\n",
      "$ Value               \u001b[3m\u001b[38;5;246m<dbl>\u001b[39m\u001b[23m 694, 696, 697, 722, 776, 792, 812, 857, 859, 841, ~\n",
      "$ `Projection series` \u001b[3m\u001b[38;5;246m<chr>\u001b[39m\u001b[23m \"Series A\", \"Series A\", \"Series A\", \"Series A\", \"S~\n",
      "$ Frequency           \u001b[3m\u001b[38;5;246m<chr>\u001b[39m\u001b[23m \"Annual\", \"Annual\", \"Annual\", \"Annual\", \"Annual\", ~\n"
     ]
    }
   ],
   "source": [
    "#Load the data\n",
    "indig_byregion<-read_csv('IndigAusPopData_byregion.csv')\n",
    "indig_byregion\n",
    "\n",
    "#Take a look at the structure of the data\n",
    "glimpse(indig_byregion)"
   ]
  },
  {
   "cell_type": "markdown",
   "metadata": {},
   "source": [
    "There are some issues in the data that we need to address. We can already see some peculiar values under Age column, so let's investigate further."
   ]
  },
  {
   "cell_type": "code",
   "execution_count": 22,
   "metadata": {},
   "outputs": [
    {
     "data": {
      "text/html": [
       "<ol class=list-inline>\n",
       "\t<li>'0 - 4'</li>\n",
       "\t<li>'15 - 19'</li>\n",
       "\t<li>'20 - 24'</li>\n",
       "\t<li>'25 - 29'</li>\n",
       "\t<li>'30 - 34'</li>\n",
       "\t<li>'35 - 39'</li>\n",
       "\t<li>'40 - 44'</li>\n",
       "\t<li>'45 - 49'</li>\n",
       "\t<li>'5-Sep'</li>\n",
       "\t<li>'50 - 54'</li>\n",
       "\t<li>'55 - 59'</li>\n",
       "\t<li>'60 - 64'</li>\n",
       "\t<li>'65 and over'</li>\n",
       "\t<li>'Oct-14'</li>\n",
       "</ol>\n"
      ],
      "text/latex": [
       "\\begin{enumerate*}\n",
       "\\item '0 - 4'\n",
       "\\item '15 - 19'\n",
       "\\item '20 - 24'\n",
       "\\item '25 - 29'\n",
       "\\item '30 - 34'\n",
       "\\item '35 - 39'\n",
       "\\item '40 - 44'\n",
       "\\item '45 - 49'\n",
       "\\item '5-Sep'\n",
       "\\item '50 - 54'\n",
       "\\item '55 - 59'\n",
       "\\item '60 - 64'\n",
       "\\item '65 and over'\n",
       "\\item 'Oct-14'\n",
       "\\end{enumerate*}\n"
      ],
      "text/markdown": [
       "1. '0 - 4'\n",
       "2. '15 - 19'\n",
       "3. '20 - 24'\n",
       "4. '25 - 29'\n",
       "5. '30 - 34'\n",
       "6. '35 - 39'\n",
       "7. '40 - 44'\n",
       "8. '45 - 49'\n",
       "9. '5-Sep'\n",
       "10. '50 - 54'\n",
       "11. '55 - 59'\n",
       "12. '60 - 64'\n",
       "13. '65 and over'\n",
       "14. 'Oct-14'\n",
       "\n",
       "\n"
      ],
      "text/plain": [
       " [1] \"0 - 4\"       \"15 - 19\"     \"20 - 24\"     \"25 - 29\"     \"30 - 34\"    \n",
       " [6] \"35 - 39\"     \"40 - 44\"     \"45 - 49\"     \"5-Sep\"       \"50 - 54\"    \n",
       "[11] \"55 - 59\"     \"60 - 64\"     \"65 and over\" \"Oct-14\"     "
      ]
     },
     "metadata": {},
     "output_type": "display_data"
    }
   ],
   "source": [
    "levels(factor(indig_byregion$Age))"
   ]
  },
  {
   "cell_type": "markdown",
   "metadata": {},
   "source": [
    "From here we can infer that the values under Age column is entered in the form of age group. However, there are 2 groups of values that are entered incorrectly. “5-Sep” is supposed to be “5-9” and “Oct-14” is supposed to be “10-14”. We make the changes accordingly"
   ]
  },
  {
   "cell_type": "code",
   "execution_count": 23,
   "metadata": {},
   "outputs": [],
   "source": [
    "indig_byregion$Age[indig_byregion$Age=='5-Sep']<-'5 - 9'\n",
    "indig_byregion$Age[indig_byregion$Age=='Oct-14']<-'10 - 14'"
   ]
  },
  {
   "cell_type": "markdown",
   "metadata": {},
   "source": [
    "Now that the label of age groups is properly taken care of, we should sort the data in the ascending order of age group, so the arrangement of the data looks better"
   ]
  },
  {
   "cell_type": "code",
   "execution_count": 24,
   "metadata": {},
   "outputs": [],
   "source": [
    "#Create Age_f column to rearrange the data in the ascending order of age group\n",
    "indig_byregion$Age_f<-factor(indig_byregion$Age,\n",
    "        levels=c(\"0 - 4\",\"5 - 9\" ,\"10 - 14\",\"15 - 19\",\"20 - 24\",\"25 - 29\",\n",
    "               \"30 - 34\",\"35 - 39\",\"40 - 44\",\"45 - 49\",\"50 - 54\",\"55 - 59\",\n",
    "               \"60 - 64\",\"65 and over\"))\n",
    "\n",
    "#Reorder the data in the ascending order of age group\n",
    "indig_byregion<-indig_byregion[order(indig_byregion$Age_f),]\n",
    "\n",
    "#Remove Age_f column when we are done\n",
    "indig_byregion<-indig_byregion[,!(names(indig_byregion)=='Age_f')]"
   ]
  },
  {
   "cell_type": "markdown",
   "metadata": {},
   "source": [
    "Now, we check if there are any missing values in the data"
   ]
  },
  {
   "cell_type": "code",
   "execution_count": 25,
   "metadata": {},
   "outputs": [],
   "source": [
    "library(visdat)"
   ]
  },
  {
   "cell_type": "code",
   "execution_count": 26,
   "metadata": {},
   "outputs": [
    {
     "data": {
      "image/png": "[encoded data removed]",
      "text/plain": [
       "plot without title"
      ]
     },
     "metadata": {},
     "output_type": "display_data"
    }
   ],
   "source": [
    "vis_dat(indig_byregion)\n",
    "#There are no missing values"
   ]
  },
  {
   "cell_type": "markdown",
   "metadata": {},
   "source": [
    "We check if the range of `TIME` and `Value` columns are within a reasonable range"
   ]
  },
  {
   "cell_type": "code",
   "execution_count": 27,
   "metadata": {},
   "outputs": [
    {
     "data": {
      "text/html": [
       "<ol class=list-inline>\n",
       "\t<li>2016</li>\n",
       "\t<li>2031</li>\n",
       "</ol>\n"
      ],
      "text/latex": [
       "\\begin{enumerate*}\n",
       "\\item 2016\n",
       "\\item 2031\n",
       "\\end{enumerate*}\n"
      ],
      "text/markdown": [
       "1. 2016\n",
       "2. 2031\n",
       "\n",
       "\n"
      ],
      "text/plain": [
       "[1] 2016 2031"
      ]
     },
     "metadata": {},
     "output_type": "display_data"
    }
   ],
   "source": [
    "range(indig_byregion$TIME)"
   ]
  },
  {
   "cell_type": "code",
   "execution_count": 28,
   "metadata": {},
   "outputs": [
    {
     "data": {
      "text/html": [
       "<ol class=list-inline>\n",
       "\t<li>86</li>\n",
       "\t<li>16347</li>\n",
       "</ol>\n"
      ],
      "text/latex": [
       "\\begin{enumerate*}\n",
       "\\item 86\n",
       "\\item 16347\n",
       "\\end{enumerate*}\n"
      ],
      "text/markdown": [
       "1. 86\n",
       "2. 16347\n",
       "\n",
       "\n"
      ],
      "text/plain": [
       "[1]    86 16347"
      ]
     },
     "metadata": {},
     "output_type": "display_data"
    }
   ],
   "source": [
    "range(indig_byregion$Value)"
   ]
  },
  {
   "cell_type": "markdown",
   "metadata": {},
   "source": [
    "Both are within the acceptable, specified range, so no outliers that need to be taken care of."
   ]
  },
  {
   "cell_type": "code",
   "execution_count": 30,
   "metadata": {
    "scrolled": true
   },
   "outputs": [
    {
     "data": {
      "text/html": [
       "<table>\n",
       "<thead><tr><th scope=col>Indigenous region</th><th scope=col>Age</th><th scope=col>TIME</th><th scope=col>Value</th><th scope=col>Projection series</th><th scope=col>Frequency</th></tr></thead>\n",
       "<tbody>\n",
       "\t<tr><td>ACT     </td><td>0 - 4   </td><td>2016    </td><td> 899    </td><td>Series A</td><td>Annual  </td></tr>\n",
       "\t<tr><td>ACT     </td><td>0 - 4   </td><td>2017    </td><td> 901    </td><td>Series A</td><td>Annual  </td></tr>\n",
       "\t<tr><td>ACT     </td><td>0 - 4   </td><td>2018    </td><td> 882    </td><td>Series A</td><td>Annual  </td></tr>\n",
       "\t<tr><td>ACT     </td><td>0 - 4   </td><td>2019    </td><td> 893    </td><td>Series A</td><td>Annual  </td></tr>\n",
       "\t<tr><td>ACT     </td><td>0 - 4   </td><td>2020    </td><td> 913    </td><td>Series A</td><td>Annual  </td></tr>\n",
       "\t<tr><td>ACT     </td><td>0 - 4   </td><td>2021    </td><td> 947    </td><td>Series A</td><td>Annual  </td></tr>\n",
       "\t<tr><td>ACT     </td><td>0 - 4   </td><td>2022    </td><td> 985    </td><td>Series A</td><td>Annual  </td></tr>\n",
       "\t<tr><td>ACT     </td><td>0 - 4   </td><td>2023    </td><td>1028    </td><td>Series A</td><td>Annual  </td></tr>\n",
       "\t<tr><td>ACT     </td><td>0 - 4   </td><td>2024    </td><td>1072    </td><td>Series A</td><td>Annual  </td></tr>\n",
       "\t<tr><td>ACT     </td><td>0 - 4   </td><td>2025    </td><td>1115    </td><td>Series A</td><td>Annual  </td></tr>\n",
       "\t<tr><td>ACT     </td><td>0 - 4   </td><td>2026    </td><td>1158    </td><td>Series A</td><td>Annual  </td></tr>\n",
       "\t<tr><td>ACT     </td><td>0 - 4   </td><td>2027    </td><td>1208    </td><td>Series A</td><td>Annual  </td></tr>\n",
       "\t<tr><td>ACT     </td><td>0 - 4   </td><td>2028    </td><td>1257    </td><td>Series A</td><td>Annual  </td></tr>\n",
       "\t<tr><td>ACT     </td><td>0 - 4   </td><td>2029    </td><td>1305    </td><td>Series A</td><td>Annual  </td></tr>\n",
       "\t<tr><td>ACT     </td><td>0 - 4   </td><td>2030    </td><td>1353    </td><td>Series A</td><td>Annual  </td></tr>\n",
       "\t<tr><td>ACT     </td><td>0 - 4   </td><td>2031    </td><td>1400    </td><td>Series A</td><td>Annual  </td></tr>\n",
       "\t<tr><td>Adelaide</td><td>0 - 4   </td><td>2016    </td><td>3627    </td><td>Series A</td><td>Annual  </td></tr>\n",
       "\t<tr><td>Adelaide</td><td>0 - 4   </td><td>2017    </td><td>3662    </td><td>Series A</td><td>Annual  </td></tr>\n",
       "\t<tr><td>Adelaide</td><td>0 - 4   </td><td>2018    </td><td>3687    </td><td>Series A</td><td>Annual  </td></tr>\n",
       "\t<tr><td>Adelaide</td><td>0 - 4   </td><td>2019    </td><td>3781    </td><td>Series A</td><td>Annual  </td></tr>\n",
       "\t<tr><td>Adelaide</td><td>0 - 4   </td><td>2020    </td><td>3903    </td><td>Series A</td><td>Annual  </td></tr>\n",
       "\t<tr><td>Adelaide</td><td>0 - 4   </td><td>2021    </td><td>4026    </td><td>Series A</td><td>Annual  </td></tr>\n",
       "\t<tr><td>Adelaide</td><td>0 - 4   </td><td>2022    </td><td>4174    </td><td>Series A</td><td>Annual  </td></tr>\n",
       "\t<tr><td>Adelaide</td><td>0 - 4   </td><td>2023    </td><td>4331    </td><td>Series A</td><td>Annual  </td></tr>\n",
       "\t<tr><td>Adelaide</td><td>0 - 4   </td><td>2024    </td><td>4490    </td><td>Series A</td><td>Annual  </td></tr>\n",
       "\t<tr><td>Adelaide</td><td>0 - 4   </td><td>2025    </td><td>4650    </td><td>Series A</td><td>Annual  </td></tr>\n",
       "\t<tr><td>Adelaide</td><td>0 - 4   </td><td>2026    </td><td>4814    </td><td>Series A</td><td>Annual  </td></tr>\n",
       "\t<tr><td>Adelaide</td><td>0 - 4   </td><td>2027    </td><td>4977    </td><td>Series A</td><td>Annual  </td></tr>\n",
       "\t<tr><td>Adelaide</td><td>0 - 4   </td><td>2028    </td><td>5141    </td><td>Series A</td><td>Annual  </td></tr>\n",
       "\t<tr><td>Adelaide</td><td>0 - 4   </td><td>2029    </td><td>5302    </td><td>Series A</td><td>Annual  </td></tr>\n",
       "\t<tr><td>...</td><td>...</td><td>...</td><td>...</td><td>...</td><td>...</td></tr>\n",
       "\t<tr><td>Victoria exc. Melbourne</td><td>65 and over            </td><td>2018                   </td><td>1598                   </td><td>Series A               </td><td>Annual                 </td></tr>\n",
       "\t<tr><td>Victoria exc. Melbourne</td><td>65 and over            </td><td>2019                   </td><td>1723                   </td><td>Series A               </td><td>Annual                 </td></tr>\n",
       "\t<tr><td>Victoria exc. Melbourne</td><td>65 and over            </td><td>2020                   </td><td>1841                   </td><td>Series A               </td><td>Annual                 </td></tr>\n",
       "\t<tr><td>Victoria exc. Melbourne</td><td>65 and over            </td><td>2021                   </td><td>1972                   </td><td>Series A               </td><td>Annual                 </td></tr>\n",
       "\t<tr><td>Victoria exc. Melbourne</td><td>65 and over            </td><td>2022                   </td><td>2123                   </td><td>Series A               </td><td>Annual                 </td></tr>\n",
       "\t<tr><td>Victoria exc. Melbourne</td><td>65 and over            </td><td>2023                   </td><td>2289                   </td><td>Series A               </td><td>Annual                 </td></tr>\n",
       "\t<tr><td>Victoria exc. Melbourne</td><td>65 and over            </td><td>2024                   </td><td>2438                   </td><td>Series A               </td><td>Annual                 </td></tr>\n",
       "\t<tr><td>Victoria exc. Melbourne</td><td>65 and over            </td><td>2025                   </td><td>2612                   </td><td>Series A               </td><td>Annual                 </td></tr>\n",
       "\t<tr><td>Victoria exc. Melbourne</td><td>65 and over            </td><td>2026                   </td><td>2783                   </td><td>Series A               </td><td>Annual                 </td></tr>\n",
       "\t<tr><td>Victoria exc. Melbourne</td><td>65 and over            </td><td>2027                   </td><td>2966                   </td><td>Series A               </td><td>Annual                 </td></tr>\n",
       "\t<tr><td>Victoria exc. Melbourne</td><td>65 and over            </td><td>2028                   </td><td>3121                   </td><td>Series A               </td><td>Annual                 </td></tr>\n",
       "\t<tr><td>Victoria exc. Melbourne</td><td>65 and over            </td><td>2029                   </td><td>3318                   </td><td>Series A               </td><td>Annual                 </td></tr>\n",
       "\t<tr><td>Victoria exc. Melbourne</td><td>65 and over            </td><td>2030                   </td><td>3507                   </td><td>Series A               </td><td>Annual                 </td></tr>\n",
       "\t<tr><td>Victoria exc. Melbourne</td><td>65 and over            </td><td>2031                   </td><td>3736                   </td><td>Series A               </td><td>Annual                 </td></tr>\n",
       "\t<tr><td>West Kimberley         </td><td>65 and over            </td><td>2016                   </td><td> 251                   </td><td>Series A               </td><td>Annual                 </td></tr>\n",
       "\t<tr><td>West Kimberley         </td><td>65 and over            </td><td>2017                   </td><td> 262                   </td><td>Series A               </td><td>Annual                 </td></tr>\n",
       "\t<tr><td>West Kimberley         </td><td>65 and over            </td><td>2018                   </td><td> 275                   </td><td>Series A               </td><td>Annual                 </td></tr>\n",
       "\t<tr><td>West Kimberley         </td><td>65 and over            </td><td>2019                   </td><td> 288                   </td><td>Series A               </td><td>Annual                 </td></tr>\n",
       "\t<tr><td>West Kimberley         </td><td>65 and over            </td><td>2020                   </td><td> 289                   </td><td>Series A               </td><td>Annual                 </td></tr>\n",
       "\t<tr><td>West Kimberley         </td><td>65 and over            </td><td>2021                   </td><td> 321                   </td><td>Series A               </td><td>Annual                 </td></tr>\n",
       "\t<tr><td>West Kimberley         </td><td>65 and over            </td><td>2022                   </td><td> 363                   </td><td>Series A               </td><td>Annual                 </td></tr>\n",
       "\t<tr><td>West Kimberley         </td><td>65 and over            </td><td>2023                   </td><td> 379                   </td><td>Series A               </td><td>Annual                 </td></tr>\n",
       "\t<tr><td>West Kimberley         </td><td>65 and over            </td><td>2024                   </td><td> 405                   </td><td>Series A               </td><td>Annual                 </td></tr>\n",
       "\t<tr><td>West Kimberley         </td><td>65 and over            </td><td>2025                   </td><td> 434                   </td><td>Series A               </td><td>Annual                 </td></tr>\n",
       "\t<tr><td>West Kimberley         </td><td>65 and over            </td><td>2026                   </td><td> 460                   </td><td>Series A               </td><td>Annual                 </td></tr>\n",
       "\t<tr><td>West Kimberley         </td><td>65 and over            </td><td>2027                   </td><td> 480                   </td><td>Series A               </td><td>Annual                 </td></tr>\n",
       "\t<tr><td>West Kimberley         </td><td>65 and over            </td><td>2028                   </td><td> 522                   </td><td>Series A               </td><td>Annual                 </td></tr>\n",
       "\t<tr><td>West Kimberley         </td><td>65 and over            </td><td>2029                   </td><td> 549                   </td><td>Series A               </td><td>Annual                 </td></tr>\n",
       "\t<tr><td>West Kimberley         </td><td>65 and over            </td><td>2030                   </td><td> 587                   </td><td>Series A               </td><td>Annual                 </td></tr>\n",
       "\t<tr><td>West Kimberley         </td><td>65 and over            </td><td>2031                   </td><td> 620                   </td><td>Series A               </td><td>Annual                 </td></tr>\n",
       "</tbody>\n",
       "</table>\n"
      ],
      "text/latex": [
       "\\begin{tabular}{r|llllll}\n",
       " Indigenous region & Age & TIME & Value & Projection series & Frequency\\\\\n",
       "\\hline\n",
       "\t ACT      & 0 - 4    & 2016     &  899     & Series A & Annual  \\\\\n",
       "\t ACT      & 0 - 4    & 2017     &  901     & Series A & Annual  \\\\\n",
       "\t ACT      & 0 - 4    & 2018     &  882     & Series A & Annual  \\\\\n",
       "\t ACT      & 0 - 4    & 2019     &  893     & Series A & Annual  \\\\\n",
       "\t ACT      & 0 - 4    & 2020     &  913     & Series A & Annual  \\\\\n",
       "\t ACT      & 0 - 4    & 2021     &  947     & Series A & Annual  \\\\\n",
       "\t ACT      & 0 - 4    & 2022     &  985     & Series A & Annual  \\\\\n",
       "\t ACT      & 0 - 4    & 2023     & 1028     & Series A & Annual  \\\\\n",
       "\t ACT      & 0 - 4    & 2024     & 1072     & Series A & Annual  \\\\\n",
       "\t ACT      & 0 - 4    & 2025     & 1115     & Series A & Annual  \\\\\n",
       "\t ACT      & 0 - 4    & 2026     & 1158     & Series A & Annual  \\\\\n",
       "\t ACT      & 0 - 4    & 2027     & 1208     & Series A & Annual  \\\\\n",
       "\t ACT      & 0 - 4    & 2028     & 1257     & Series A & Annual  \\\\\n",
       "\t ACT      & 0 - 4    & 2029     & 1305     & Series A & Annual  \\\\\n",
       "\t ACT      & 0 - 4    & 2030     & 1353     & Series A & Annual  \\\\\n",
       "\t ACT      & 0 - 4    & 2031     & 1400     & Series A & Annual  \\\\\n",
       "\t Adelaide & 0 - 4    & 2016     & 3627     & Series A & Annual  \\\\\n",
       "\t Adelaide & 0 - 4    & 2017     & 3662     & Series A & Annual  \\\\\n",
       "\t Adelaide & 0 - 4    & 2018     & 3687     & Series A & Annual  \\\\\n",
       "\t Adelaide & 0 - 4    & 2019     & 3781     & Series A & Annual  \\\\\n",
       "\t Adelaide & 0 - 4    & 2020     & 3903     & Series A & Annual  \\\\\n",
       "\t Adelaide & 0 - 4    & 2021     & 4026     & Series A & Annual  \\\\\n",
       "\t Adelaide & 0 - 4    & 2022     & 4174     & Series A & Annual  \\\\\n",
       "\t Adelaide & 0 - 4    & 2023     & 4331     & Series A & Annual  \\\\\n",
       "\t Adelaide & 0 - 4    & 2024     & 4490     & Series A & Annual  \\\\\n",
       "\t Adelaide & 0 - 4    & 2025     & 4650     & Series A & Annual  \\\\\n",
       "\t Adelaide & 0 - 4    & 2026     & 4814     & Series A & Annual  \\\\\n",
       "\t Adelaide & 0 - 4    & 2027     & 4977     & Series A & Annual  \\\\\n",
       "\t Adelaide & 0 - 4    & 2028     & 5141     & Series A & Annual  \\\\\n",
       "\t Adelaide & 0 - 4    & 2029     & 5302     & Series A & Annual  \\\\\n",
       "\t ... & ... & ... & ... & ... & ...\\\\\n",
       "\t Victoria exc. Melbourne & 65 and over             & 2018                    & 1598                    & Series A                & Annual                 \\\\\n",
       "\t Victoria exc. Melbourne & 65 and over             & 2019                    & 1723                    & Series A                & Annual                 \\\\\n",
       "\t Victoria exc. Melbourne & 65 and over             & 2020                    & 1841                    & Series A                & Annual                 \\\\\n",
       "\t Victoria exc. Melbourne & 65 and over             & 2021                    & 1972                    & Series A                & Annual                 \\\\\n",
       "\t Victoria exc. Melbourne & 65 and over             & 2022                    & 2123                    & Series A                & Annual                 \\\\\n",
       "\t Victoria exc. Melbourne & 65 and over             & 2023                    & 2289                    & Series A                & Annual                 \\\\\n",
       "\t Victoria exc. Melbourne & 65 and over             & 2024                    & 2438                    & Series A                & Annual                 \\\\\n",
       "\t Victoria exc. Melbourne & 65 and over             & 2025                    & 2612                    & Series A                & Annual                 \\\\\n",
       "\t Victoria exc. Melbourne & 65 and over             & 2026                    & 2783                    & Series A                & Annual                 \\\\\n",
       "\t Victoria exc. Melbourne & 65 and over             & 2027                    & 2966                    & Series A                & Annual                 \\\\\n",
       "\t Victoria exc. Melbourne & 65 and over             & 2028                    & 3121                    & Series A                & Annual                 \\\\\n",
       "\t Victoria exc. Melbourne & 65 and over             & 2029                    & 3318                    & Series A                & Annual                 \\\\\n",
       "\t Victoria exc. Melbourne & 65 and over             & 2030                    & 3507                    & Series A                & Annual                 \\\\\n",
       "\t Victoria exc. Melbourne & 65 and over             & 2031                    & 3736                    & Series A                & Annual                 \\\\\n",
       "\t West Kimberley          & 65 and over             & 2016                    &  251                    & Series A                & Annual                 \\\\\n",
       "\t West Kimberley          & 65 and over             & 2017                    &  262                    & Series A                & Annual                 \\\\\n",
       "\t West Kimberley          & 65 and over             & 2018                    &  275                    & Series A                & Annual                 \\\\\n",
       "\t West Kimberley          & 65 and over             & 2019                    &  288                    & Series A                & Annual                 \\\\\n",
       "\t West Kimberley          & 65 and over             & 2020                    &  289                    & Series A                & Annual                 \\\\\n",
       "\t West Kimberley          & 65 and over             & 2021                    &  321                    & Series A                & Annual                 \\\\\n",
       "\t West Kimberley          & 65 and over             & 2022                    &  363                    & Series A                & Annual                 \\\\\n",
       "\t West Kimberley          & 65 and over             & 2023                    &  379                    & Series A                & Annual                 \\\\\n",
       "\t West Kimberley          & 65 and over             & 2024                    &  405                    & Series A                & Annual                 \\\\\n",
       "\t West Kimberley          & 65 and over             & 2025                    &  434                    & Series A                & Annual                 \\\\\n",
       "\t West Kimberley          & 65 and over             & 2026                    &  460                    & Series A                & Annual                 \\\\\n",
       "\t West Kimberley          & 65 and over             & 2027                    &  480                    & Series A                & Annual                 \\\\\n",
       "\t West Kimberley          & 65 and over             & 2028                    &  522                    & Series A                & Annual                 \\\\\n",
       "\t West Kimberley          & 65 and over             & 2029                    &  549                    & Series A                & Annual                 \\\\\n",
       "\t West Kimberley          & 65 and over             & 2030                    &  587                    & Series A                & Annual                 \\\\\n",
       "\t West Kimberley          & 65 and over             & 2031                    &  620                    & Series A                & Annual                 \\\\\n",
       "\\end{tabular}\n"
      ],
      "text/markdown": [
       "\n",
       "| Indigenous region | Age | TIME | Value | Projection series | Frequency |\n",
       "|---|---|---|---|---|---|\n",
       "| ACT      | 0 - 4    | 2016     |  899     | Series A | Annual   |\n",
       "| ACT      | 0 - 4    | 2017     |  901     | Series A | Annual   |\n",
       "| ACT      | 0 - 4    | 2018     |  882     | Series A | Annual   |\n",
       "| ACT      | 0 - 4    | 2019     |  893     | Series A | Annual   |\n",
       "| ACT      | 0 - 4    | 2020     |  913     | Series A | Annual   |\n",
       "| ACT      | 0 - 4    | 2021     |  947     | Series A | Annual   |\n",
       "| ACT      | 0 - 4    | 2022     |  985     | Series A | Annual   |\n",
       "| ACT      | 0 - 4    | 2023     | 1028     | Series A | Annual   |\n",
       "| ACT      | 0 - 4    | 2024     | 1072     | Series A | Annual   |\n",
       "| ACT      | 0 - 4    | 2025     | 1115     | Series A | Annual   |\n",
       "| ACT      | 0 - 4    | 2026     | 1158     | Series A | Annual   |\n",
       "| ACT      | 0 - 4    | 2027     | 1208     | Series A | Annual   |\n",
       "| ACT      | 0 - 4    | 2028     | 1257     | Series A | Annual   |\n",
       "| ACT      | 0 - 4    | 2029     | 1305     | Series A | Annual   |\n",
       "| ACT      | 0 - 4    | 2030     | 1353     | Series A | Annual   |\n",
       "| ACT      | 0 - 4    | 2031     | 1400     | Series A | Annual   |\n",
       "| Adelaide | 0 - 4    | 2016     | 3627     | Series A | Annual   |\n",
       "| Adelaide | 0 - 4    | 2017     | 3662     | Series A | Annual   |\n",
       "| Adelaide | 0 - 4    | 2018     | 3687     | Series A | Annual   |\n",
       "| Adelaide | 0 - 4    | 2019     | 3781     | Series A | Annual   |\n",
       "| Adelaide | 0 - 4    | 2020     | 3903     | Series A | Annual   |\n",
       "| Adelaide | 0 - 4    | 2021     | 4026     | Series A | Annual   |\n",
       "| Adelaide | 0 - 4    | 2022     | 4174     | Series A | Annual   |\n",
       "| Adelaide | 0 - 4    | 2023     | 4331     | Series A | Annual   |\n",
       "| Adelaide | 0 - 4    | 2024     | 4490     | Series A | Annual   |\n",
       "| Adelaide | 0 - 4    | 2025     | 4650     | Series A | Annual   |\n",
       "| Adelaide | 0 - 4    | 2026     | 4814     | Series A | Annual   |\n",
       "| Adelaide | 0 - 4    | 2027     | 4977     | Series A | Annual   |\n",
       "| Adelaide | 0 - 4    | 2028     | 5141     | Series A | Annual   |\n",
       "| Adelaide | 0 - 4    | 2029     | 5302     | Series A | Annual   |\n",
       "| ... | ... | ... | ... | ... | ... |\n",
       "| Victoria exc. Melbourne | 65 and over             | 2018                    | 1598                    | Series A                | Annual                  |\n",
       "| Victoria exc. Melbourne | 65 and over             | 2019                    | 1723                    | Series A                | Annual                  |\n",
       "| Victoria exc. Melbourne | 65 and over             | 2020                    | 1841                    | Series A                | Annual                  |\n",
       "| Victoria exc. Melbourne | 65 and over             | 2021                    | 1972                    | Series A                | Annual                  |\n",
       "| Victoria exc. Melbourne | 65 and over             | 2022                    | 2123                    | Series A                | Annual                  |\n",
       "| Victoria exc. Melbourne | 65 and over             | 2023                    | 2289                    | Series A                | Annual                  |\n",
       "| Victoria exc. Melbourne | 65 and over             | 2024                    | 2438                    | Series A                | Annual                  |\n",
       "| Victoria exc. Melbourne | 65 and over             | 2025                    | 2612                    | Series A                | Annual                  |\n",
       "| Victoria exc. Melbourne | 65 and over             | 2026                    | 2783                    | Series A                | Annual                  |\n",
       "| Victoria exc. Melbourne | 65 and over             | 2027                    | 2966                    | Series A                | Annual                  |\n",
       "| Victoria exc. Melbourne | 65 and over             | 2028                    | 3121                    | Series A                | Annual                  |\n",
       "| Victoria exc. Melbourne | 65 and over             | 2029                    | 3318                    | Series A                | Annual                  |\n",
       "| Victoria exc. Melbourne | 65 and over             | 2030                    | 3507                    | Series A                | Annual                  |\n",
       "| Victoria exc. Melbourne | 65 and over             | 2031                    | 3736                    | Series A                | Annual                  |\n",
       "| West Kimberley          | 65 and over             | 2016                    |  251                    | Series A                | Annual                  |\n",
       "| West Kimberley          | 65 and over             | 2017                    |  262                    | Series A                | Annual                  |\n",
       "| West Kimberley          | 65 and over             | 2018                    |  275                    | Series A                | Annual                  |\n",
       "| West Kimberley          | 65 and over             | 2019                    |  288                    | Series A                | Annual                  |\n",
       "| West Kimberley          | 65 and over             | 2020                    |  289                    | Series A                | Annual                  |\n",
       "| West Kimberley          | 65 and over             | 2021                    |  321                    | Series A                | Annual                  |\n",
       "| West Kimberley          | 65 and over             | 2022                    |  363                    | Series A                | Annual                  |\n",
       "| West Kimberley          | 65 and over             | 2023                    |  379                    | Series A                | Annual                  |\n",
       "| West Kimberley          | 65 and over             | 2024                    |  405                    | Series A                | Annual                  |\n",
       "| West Kimberley          | 65 and over             | 2025                    |  434                    | Series A                | Annual                  |\n",
       "| West Kimberley          | 65 and over             | 2026                    |  460                    | Series A                | Annual                  |\n",
       "| West Kimberley          | 65 and over             | 2027                    |  480                    | Series A                | Annual                  |\n",
       "| West Kimberley          | 65 and over             | 2028                    |  522                    | Series A                | Annual                  |\n",
       "| West Kimberley          | 65 and over             | 2029                    |  549                    | Series A                | Annual                  |\n",
       "| West Kimberley          | 65 and over             | 2030                    |  587                    | Series A                | Annual                  |\n",
       "| West Kimberley          | 65 and over             | 2031                    |  620                    | Series A                | Annual                  |\n",
       "\n"
      ],
      "text/plain": [
       "     Indigenous region       Age         TIME Value Projection series Frequency\n",
       "1    ACT                     0 - 4       2016  899  Series A          Annual   \n",
       "2    ACT                     0 - 4       2017  901  Series A          Annual   \n",
       "3    ACT                     0 - 4       2018  882  Series A          Annual   \n",
       "4    ACT                     0 - 4       2019  893  Series A          Annual   \n",
       "5    ACT                     0 - 4       2020  913  Series A          Annual   \n",
       "6    ACT                     0 - 4       2021  947  Series A          Annual   \n",
       "7    ACT                     0 - 4       2022  985  Series A          Annual   \n",
       "8    ACT                     0 - 4       2023 1028  Series A          Annual   \n",
       "9    ACT                     0 - 4       2024 1072  Series A          Annual   \n",
       "10   ACT                     0 - 4       2025 1115  Series A          Annual   \n",
       "11   ACT                     0 - 4       2026 1158  Series A          Annual   \n",
       "12   ACT                     0 - 4       2027 1208  Series A          Annual   \n",
       "13   ACT                     0 - 4       2028 1257  Series A          Annual   \n",
       "14   ACT                     0 - 4       2029 1305  Series A          Annual   \n",
       "15   ACT                     0 - 4       2030 1353  Series A          Annual   \n",
       "16   ACT                     0 - 4       2031 1400  Series A          Annual   \n",
       "17   Adelaide                0 - 4       2016 3627  Series A          Annual   \n",
       "18   Adelaide                0 - 4       2017 3662  Series A          Annual   \n",
       "19   Adelaide                0 - 4       2018 3687  Series A          Annual   \n",
       "20   Adelaide                0 - 4       2019 3781  Series A          Annual   \n",
       "21   Adelaide                0 - 4       2020 3903  Series A          Annual   \n",
       "22   Adelaide                0 - 4       2021 4026  Series A          Annual   \n",
       "23   Adelaide                0 - 4       2022 4174  Series A          Annual   \n",
       "24   Adelaide                0 - 4       2023 4331  Series A          Annual   \n",
       "25   Adelaide                0 - 4       2024 4490  Series A          Annual   \n",
       "26   Adelaide                0 - 4       2025 4650  Series A          Annual   \n",
       "27   Adelaide                0 - 4       2026 4814  Series A          Annual   \n",
       "28   Adelaide                0 - 4       2027 4977  Series A          Annual   \n",
       "29   Adelaide                0 - 4       2028 5141  Series A          Annual   \n",
       "30   Adelaide                0 - 4       2029 5302  Series A          Annual   \n",
       "...  ...                     ...         ...  ...   ...               ...      \n",
       "8259 Victoria exc. Melbourne 65 and over 2018 1598  Series A          Annual   \n",
       "8260 Victoria exc. Melbourne 65 and over 2019 1723  Series A          Annual   \n",
       "8261 Victoria exc. Melbourne 65 and over 2020 1841  Series A          Annual   \n",
       "8262 Victoria exc. Melbourne 65 and over 2021 1972  Series A          Annual   \n",
       "8263 Victoria exc. Melbourne 65 and over 2022 2123  Series A          Annual   \n",
       "8264 Victoria exc. Melbourne 65 and over 2023 2289  Series A          Annual   \n",
       "8265 Victoria exc. Melbourne 65 and over 2024 2438  Series A          Annual   \n",
       "8266 Victoria exc. Melbourne 65 and over 2025 2612  Series A          Annual   \n",
       "8267 Victoria exc. Melbourne 65 and over 2026 2783  Series A          Annual   \n",
       "8268 Victoria exc. Melbourne 65 and over 2027 2966  Series A          Annual   \n",
       "8269 Victoria exc. Melbourne 65 and over 2028 3121  Series A          Annual   \n",
       "8270 Victoria exc. Melbourne 65 and over 2029 3318  Series A          Annual   \n",
       "8271 Victoria exc. Melbourne 65 and over 2030 3507  Series A          Annual   \n",
       "8272 Victoria exc. Melbourne 65 and over 2031 3736  Series A          Annual   \n",
       "8273 West Kimberley          65 and over 2016  251  Series A          Annual   \n",
       "8274 West Kimberley          65 and over 2017  262  Series A          Annual   \n",
       "8275 West Kimberley          65 and over 2018  275  Series A          Annual   \n",
       "8276 West Kimberley          65 and over 2019  288  Series A          Annual   \n",
       "8277 West Kimberley          65 and over 2020  289  Series A          Annual   \n",
       "8278 West Kimberley          65 and over 2021  321  Series A          Annual   \n",
       "8279 West Kimberley          65 and over 2022  363  Series A          Annual   \n",
       "8280 West Kimberley          65 and over 2023  379  Series A          Annual   \n",
       "8281 West Kimberley          65 and over 2024  405  Series A          Annual   \n",
       "8282 West Kimberley          65 and over 2025  434  Series A          Annual   \n",
       "8283 West Kimberley          65 and over 2026  460  Series A          Annual   \n",
       "8284 West Kimberley          65 and over 2027  480  Series A          Annual   \n",
       "8285 West Kimberley          65 and over 2028  522  Series A          Annual   \n",
       "8286 West Kimberley          65 and over 2029  549  Series A          Annual   \n",
       "8287 West Kimberley          65 and over 2030  587  Series A          Annual   \n",
       "8288 West Kimberley          65 and over 2031  620  Series A          Annual   "
      ]
     },
     "metadata": {},
     "output_type": "display_data"
    }
   ],
   "source": [
    "#Remove the unnecessary column INDIGENOUS_REGION\n",
    "indig_byregion<-indig_byregion[,!(names(indig_byregion)=='INDIGENOUS_REGION')]\n",
    "\n",
    "#Take a look at the data\n",
    "indig_byregion"
   ]
  },
  {
   "cell_type": "markdown",
   "metadata": {},
   "source": [
    "The data is now fit for further analysis"
   ]
  },
  {
   "cell_type": "markdown",
   "metadata": {},
   "source": [
    "### 1.1 Investigate the Distribution of Indigenous Autralians <a class=\"anchor\" id=\"1.1\"></a>"
   ]
  },
  {
   "cell_type": "code",
   "execution_count": null,
   "metadata": {},
   "outputs": [],
   "source": []
  },
  {
   "cell_type": "code",
   "execution_count": null,
   "metadata": {},
   "outputs": [],
   "source": []
  },
  {
   "cell_type": "markdown",
   "metadata": {},
   "source": [
    "### 1.2 Investigate the Ages of Indigenous Australians <a class=\"anchor\" id=\"1.2\"></a>"
   ]
  },
  {
   "cell_type": "code",
   "execution_count": null,
   "metadata": {},
   "outputs": [],
   "source": []
  },
  {
   "cell_type": "code",
   "execution_count": null,
   "metadata": {},
   "outputs": [],
   "source": []
  },
  {
   "cell_type": "markdown",
   "metadata": {},
   "source": [
    "## 2. Exploratory Analysis on Australian Immunisation rates <a class=\"anchor\" id=\"2\"></a>"
   ]
  },
  {
   "cell_type": "code",
   "execution_count": null,
   "metadata": {},
   "outputs": [],
   "source": []
  },
  {
   "cell_type": "markdown",
   "metadata": {},
   "source": [
    "### 2.1 Values and Variables <a class=\"anchor\" id=\"2.1\"></a>"
   ]
  },
  {
   "cell_type": "code",
   "execution_count": null,
   "metadata": {},
   "outputs": [],
   "source": []
  },
  {
   "cell_type": "code",
   "execution_count": null,
   "metadata": {},
   "outputs": [],
   "source": []
  },
  {
   "cell_type": "markdown",
   "metadata": {},
   "source": [
    "### 2.2 Variations in rates over Time, Age and Location <a class=\"anchor\" id=\"2.2\"></a>"
   ]
  },
  {
   "cell_type": "code",
   "execution_count": null,
   "metadata": {},
   "outputs": [],
   "source": []
  },
  {
   "cell_type": "code",
   "execution_count": null,
   "metadata": {},
   "outputs": [],
   "source": []
  },
  {
   "cell_type": "code",
   "execution_count": null,
   "metadata": {},
   "outputs": [],
   "source": []
  }
 ],
 "metadata": {
  "kernelspec": {
   "display_name": "R",
   "language": "R",
   "name": "ir"
  },
  "language_info": {
   "codemirror_mode": "r",
   "file_extension": ".r",
   "mimetype": "text/x-r-source",
   "name": "R",
   "pygments_lexer": "r",
   "version": "3.6.1"
  }
 },
 "nbformat": 4,
 "nbformat_minor": 4
}
