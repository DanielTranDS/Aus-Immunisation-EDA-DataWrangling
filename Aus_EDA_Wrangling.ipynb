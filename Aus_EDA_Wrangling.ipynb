{
 "cells": [
  {
   "cell_type": "markdown",
   "metadata": {},
   "source": [
    "# Data Wrangling and EDA for Indigenous Australian Population and Australian Immunisation rates data\n",
    "\n",
    "\n",
    "\n",
    "\n",
    "\n",
    "\n",
    "\n",
    "## Table of Content\n",
    "\n",
    "1. [Investigate the size of Indigenous Australian Population](#1)\n",
    "    - 1.1 [Investigate the Distribution of Indigenous Autralians](#1.1)\n",
    "    - 1.2 [Investigate the Ages of Indigenous Australians](#1.2)\n",
    "2. [Exploratory Analysis on Australian Immunisation rates](#2)\n",
    "    - 2.1 [Values and Variables](#2.1)\n",
    "    - 2.2 [Variations in rates over Time, Age and Location](#2.2)"
   ]
  },
  {
   "cell_type": "markdown",
   "metadata": {},
   "source": [
    "## Install packages (if needed)"
   ]
  },
  {
   "cell_type": "code",
   "execution_count": 11,
   "metadata": {},
   "outputs": [],
   "source": [
    "# install.packages('googleVis')\n",
    "# install.packages('visdat')\n",
    "# install.packages('dplyr')"
   ]
  },
  {
   "cell_type": "markdown",
   "metadata": {},
   "source": [
    "## 1. Investigate the size of Indigenous Australian Population <a class=\"anchor\" id=\"1\"></a>\n",
    "\n",
    "First, we need to perform some data wrangling, to ensure the quality of the data"
   ]
  },
  {
   "cell_type": "code",
   "execution_count": 2,
   "metadata": {},
   "outputs": [],
   "source": [
    "#Load tidyverse library\n",
    "library(tidyverse)"
   ]
  },
  {
   "cell_type": "code",
   "execution_count": 21,
   "metadata": {},
   "outputs": [
    {
     "name": "stderr",
     "output_type": "stream",
     "text": [
      "\n",
      "\u001b[36m--\u001b[39m \u001b[1m\u001b[1mColumn specification\u001b[1m\u001b[22m \u001b[36m------------------------------------------------------------------------------------------------\u001b[39m\n",
      "cols(\n",
      "  INDIGENOUS_REGION = \u001b[32mcol_double()\u001b[39m,\n",
      "  `Indigenous region` = \u001b[31mcol_character()\u001b[39m,\n",
      "  Age = \u001b[31mcol_character()\u001b[39m,\n",
      "  TIME = \u001b[32mcol_double()\u001b[39m,\n",
      "  Value = \u001b[32mcol_double()\u001b[39m,\n",
      "  `Projection series` = \u001b[31mcol_character()\u001b[39m,\n",
      "  Frequency = \u001b[31mcol_character()\u001b[39m\n",
      ")\n",
      "\n"
     ]
    },
    {
     "data": {
      "text/html": [
       "<table>\n",
       "<thead><tr><th scope=col>INDIGENOUS_REGION</th><th scope=col>Indigenous region</th><th scope=col>Age</th><th scope=col>TIME</th><th scope=col>Value</th><th scope=col>Projection series</th><th scope=col>Frequency</th></tr></thead>\n",
       "<tbody>\n",
       "\t<tr><td>801     </td><td>ACT     </td><td>Oct-14  </td><td>2016    </td><td> 694    </td><td>Series A</td><td>Annual  </td></tr>\n",
       "\t<tr><td>801     </td><td>ACT     </td><td>Oct-14  </td><td>2017    </td><td> 696    </td><td>Series A</td><td>Annual  </td></tr>\n",
       "\t<tr><td>801     </td><td>ACT     </td><td>Oct-14  </td><td>2018    </td><td> 697    </td><td>Series A</td><td>Annual  </td></tr>\n",
       "\t<tr><td>801     </td><td>ACT     </td><td>Oct-14  </td><td>2019    </td><td> 722    </td><td>Series A</td><td>Annual  </td></tr>\n",
       "\t<tr><td>801     </td><td>ACT     </td><td>Oct-14  </td><td>2020    </td><td> 776    </td><td>Series A</td><td>Annual  </td></tr>\n",
       "\t<tr><td>801     </td><td>ACT     </td><td>Oct-14  </td><td>2021    </td><td> 792    </td><td>Series A</td><td>Annual  </td></tr>\n",
       "\t<tr><td>801     </td><td>ACT     </td><td>Oct-14  </td><td>2022    </td><td> 812    </td><td>Series A</td><td>Annual  </td></tr>\n",
       "\t<tr><td>801     </td><td>ACT     </td><td>Oct-14  </td><td>2023    </td><td> 857    </td><td>Series A</td><td>Annual  </td></tr>\n",
       "\t<tr><td>801     </td><td>ACT     </td><td>Oct-14  </td><td>2024    </td><td> 859    </td><td>Series A</td><td>Annual  </td></tr>\n",
       "\t<tr><td>801     </td><td>ACT     </td><td>Oct-14  </td><td>2025    </td><td> 841    </td><td>Series A</td><td>Annual  </td></tr>\n",
       "\t<tr><td>801     </td><td>ACT     </td><td>Oct-14  </td><td>2026    </td><td> 839    </td><td>Series A</td><td>Annual  </td></tr>\n",
       "\t<tr><td>801     </td><td>ACT     </td><td>Oct-14  </td><td>2027    </td><td> 842    </td><td>Series A</td><td>Annual  </td></tr>\n",
       "\t<tr><td>801     </td><td>ACT     </td><td>Oct-14  </td><td>2028    </td><td> 825    </td><td>Series A</td><td>Annual  </td></tr>\n",
       "\t<tr><td>801     </td><td>ACT     </td><td>Oct-14  </td><td>2029    </td><td> 836    </td><td>Series A</td><td>Annual  </td></tr>\n",
       "\t<tr><td>801     </td><td>ACT     </td><td>Oct-14  </td><td>2030    </td><td> 856    </td><td>Series A</td><td>Annual  </td></tr>\n",
       "\t<tr><td>801     </td><td>ACT     </td><td>Oct-14  </td><td>2031    </td><td> 886    </td><td>Series A</td><td>Annual  </td></tr>\n",
       "\t<tr><td>401     </td><td>Adelaide</td><td>Oct-14  </td><td>2016    </td><td>3295    </td><td>Series A</td><td>Annual  </td></tr>\n",
       "\t<tr><td>401     </td><td>Adelaide</td><td>Oct-14  </td><td>2017    </td><td>3357    </td><td>Series A</td><td>Annual  </td></tr>\n",
       "\t<tr><td>401     </td><td>Adelaide</td><td>Oct-14  </td><td>2018    </td><td>3466    </td><td>Series A</td><td>Annual  </td></tr>\n",
       "\t<tr><td>401     </td><td>Adelaide</td><td>Oct-14  </td><td>2019    </td><td>3566    </td><td>Series A</td><td>Annual  </td></tr>\n",
       "\t<tr><td>401     </td><td>Adelaide</td><td>Oct-14  </td><td>2020    </td><td>3683    </td><td>Series A</td><td>Annual  </td></tr>\n",
       "\t<tr><td>401     </td><td>Adelaide</td><td>Oct-14  </td><td>2021    </td><td>3738    </td><td>Series A</td><td>Annual  </td></tr>\n",
       "\t<tr><td>401     </td><td>Adelaide</td><td>Oct-14  </td><td>2022    </td><td>3796    </td><td>Series A</td><td>Annual  </td></tr>\n",
       "\t<tr><td>401     </td><td>Adelaide</td><td>Oct-14  </td><td>2023    </td><td>3827    </td><td>Series A</td><td>Annual  </td></tr>\n",
       "\t<tr><td>401     </td><td>Adelaide</td><td>Oct-14  </td><td>2024    </td><td>3838    </td><td>Series A</td><td>Annual  </td></tr>\n",
       "\t<tr><td>401     </td><td>Adelaide</td><td>Oct-14  </td><td>2025    </td><td>3823    </td><td>Series A</td><td>Annual  </td></tr>\n",
       "\t<tr><td>401     </td><td>Adelaide</td><td>Oct-14  </td><td>2026    </td><td>3829    </td><td>Series A</td><td>Annual  </td></tr>\n",
       "\t<tr><td>401     </td><td>Adelaide</td><td>Oct-14  </td><td>2027    </td><td>3863    </td><td>Series A</td><td>Annual  </td></tr>\n",
       "\t<tr><td>401     </td><td>Adelaide</td><td>Oct-14  </td><td>2028    </td><td>3890    </td><td>Series A</td><td>Annual  </td></tr>\n",
       "\t<tr><td>401     </td><td>Adelaide</td><td>Oct-14  </td><td>2029    </td><td>3984    </td><td>Series A</td><td>Annual  </td></tr>\n",
       "\t<tr><td>...</td><td>...</td><td>...</td><td>...</td><td>...</td><td>...</td><td>...</td></tr>\n",
       "\t<tr><td>202                    </td><td>Victoria exc. Melbourne</td><td>65 and over            </td><td>2018                   </td><td>1598                   </td><td>Series A               </td><td>Annual                 </td></tr>\n",
       "\t<tr><td>202                    </td><td>Victoria exc. Melbourne</td><td>65 and over            </td><td>2019                   </td><td>1723                   </td><td>Series A               </td><td>Annual                 </td></tr>\n",
       "\t<tr><td>202                    </td><td>Victoria exc. Melbourne</td><td>65 and over            </td><td>2020                   </td><td>1841                   </td><td>Series A               </td><td>Annual                 </td></tr>\n",
       "\t<tr><td>202                    </td><td>Victoria exc. Melbourne</td><td>65 and over            </td><td>2021                   </td><td>1972                   </td><td>Series A               </td><td>Annual                 </td></tr>\n",
       "\t<tr><td>202                    </td><td>Victoria exc. Melbourne</td><td>65 and over            </td><td>2022                   </td><td>2123                   </td><td>Series A               </td><td>Annual                 </td></tr>\n",
       "\t<tr><td>202                    </td><td>Victoria exc. Melbourne</td><td>65 and over            </td><td>2023                   </td><td>2289                   </td><td>Series A               </td><td>Annual                 </td></tr>\n",
       "\t<tr><td>202                    </td><td>Victoria exc. Melbourne</td><td>65 and over            </td><td>2024                   </td><td>2438                   </td><td>Series A               </td><td>Annual                 </td></tr>\n",
       "\t<tr><td>202                    </td><td>Victoria exc. Melbourne</td><td>65 and over            </td><td>2025                   </td><td>2612                   </td><td>Series A               </td><td>Annual                 </td></tr>\n",
       "\t<tr><td>202                    </td><td>Victoria exc. Melbourne</td><td>65 and over            </td><td>2026                   </td><td>2783                   </td><td>Series A               </td><td>Annual                 </td></tr>\n",
       "\t<tr><td>202                    </td><td>Victoria exc. Melbourne</td><td>65 and over            </td><td>2027                   </td><td>2966                   </td><td>Series A               </td><td>Annual                 </td></tr>\n",
       "\t<tr><td>202                    </td><td>Victoria exc. Melbourne</td><td>65 and over            </td><td>2028                   </td><td>3121                   </td><td>Series A               </td><td>Annual                 </td></tr>\n",
       "\t<tr><td>202                    </td><td>Victoria exc. Melbourne</td><td>65 and over            </td><td>2029                   </td><td>3318                   </td><td>Series A               </td><td>Annual                 </td></tr>\n",
       "\t<tr><td>202                    </td><td>Victoria exc. Melbourne</td><td>65 and over            </td><td>2030                   </td><td>3507                   </td><td>Series A               </td><td>Annual                 </td></tr>\n",
       "\t<tr><td>202                    </td><td>Victoria exc. Melbourne</td><td>65 and over            </td><td>2031                   </td><td>3736                   </td><td>Series A               </td><td>Annual                 </td></tr>\n",
       "\t<tr><td>508                    </td><td>West Kimberley         </td><td>65 and over            </td><td>2016                   </td><td> 251                   </td><td>Series A               </td><td>Annual                 </td></tr>\n",
       "\t<tr><td>508                    </td><td>West Kimberley         </td><td>65 and over            </td><td>2017                   </td><td> 262                   </td><td>Series A               </td><td>Annual                 </td></tr>\n",
       "\t<tr><td>508                    </td><td>West Kimberley         </td><td>65 and over            </td><td>2018                   </td><td> 275                   </td><td>Series A               </td><td>Annual                 </td></tr>\n",
       "\t<tr><td>508                    </td><td>West Kimberley         </td><td>65 and over            </td><td>2019                   </td><td> 288                   </td><td>Series A               </td><td>Annual                 </td></tr>\n",
       "\t<tr><td>508                    </td><td>West Kimberley         </td><td>65 and over            </td><td>2020                   </td><td> 289                   </td><td>Series A               </td><td>Annual                 </td></tr>\n",
       "\t<tr><td>508                    </td><td>West Kimberley         </td><td>65 and over            </td><td>2021                   </td><td> 321                   </td><td>Series A               </td><td>Annual                 </td></tr>\n",
       "\t<tr><td>508                    </td><td>West Kimberley         </td><td>65 and over            </td><td>2022                   </td><td> 363                   </td><td>Series A               </td><td>Annual                 </td></tr>\n",
       "\t<tr><td>508                    </td><td>West Kimberley         </td><td>65 and over            </td><td>2023                   </td><td> 379                   </td><td>Series A               </td><td>Annual                 </td></tr>\n",
       "\t<tr><td>508                    </td><td>West Kimberley         </td><td>65 and over            </td><td>2024                   </td><td> 405                   </td><td>Series A               </td><td>Annual                 </td></tr>\n",
       "\t<tr><td>508                    </td><td>West Kimberley         </td><td>65 and over            </td><td>2025                   </td><td> 434                   </td><td>Series A               </td><td>Annual                 </td></tr>\n",
       "\t<tr><td>508                    </td><td>West Kimberley         </td><td>65 and over            </td><td>2026                   </td><td> 460                   </td><td>Series A               </td><td>Annual                 </td></tr>\n",
       "\t<tr><td>508                    </td><td>West Kimberley         </td><td>65 and over            </td><td>2027                   </td><td> 480                   </td><td>Series A               </td><td>Annual                 </td></tr>\n",
       "\t<tr><td>508                    </td><td>West Kimberley         </td><td>65 and over            </td><td>2028                   </td><td> 522                   </td><td>Series A               </td><td>Annual                 </td></tr>\n",
       "\t<tr><td>508                    </td><td>West Kimberley         </td><td>65 and over            </td><td>2029                   </td><td> 549                   </td><td>Series A               </td><td>Annual                 </td></tr>\n",
       "\t<tr><td>508                    </td><td>West Kimberley         </td><td>65 and over            </td><td>2030                   </td><td> 587                   </td><td>Series A               </td><td>Annual                 </td></tr>\n",
       "\t<tr><td>508                    </td><td>West Kimberley         </td><td>65 and over            </td><td>2031                   </td><td> 620                   </td><td>Series A               </td><td>Annual                 </td></tr>\n",
       "</tbody>\n",
       "</table>\n"
      ],
      "text/latex": [
       "\\begin{tabular}{r|lllllll}\n",
       " INDIGENOUS\\_REGION & Indigenous region & Age & TIME & Value & Projection series & Frequency\\\\\n",
       "\\hline\n",
       "\t 801      & ACT      & Oct-14   & 2016     &  694     & Series A & Annual  \\\\\n",
       "\t 801      & ACT      & Oct-14   & 2017     &  696     & Series A & Annual  \\\\\n",
       "\t 801      & ACT      & Oct-14   & 2018     &  697     & Series A & Annual  \\\\\n",
       "\t 801      & ACT      & Oct-14   & 2019     &  722     & Series A & Annual  \\\\\n",
       "\t 801      & ACT      & Oct-14   & 2020     &  776     & Series A & Annual  \\\\\n",
       "\t 801      & ACT      & Oct-14   & 2021     &  792     & Series A & Annual  \\\\\n",
       "\t 801      & ACT      & Oct-14   & 2022     &  812     & Series A & Annual  \\\\\n",
       "\t 801      & ACT      & Oct-14   & 2023     &  857     & Series A & Annual  \\\\\n",
       "\t 801      & ACT      & Oct-14   & 2024     &  859     & Series A & Annual  \\\\\n",
       "\t 801      & ACT      & Oct-14   & 2025     &  841     & Series A & Annual  \\\\\n",
       "\t 801      & ACT      & Oct-14   & 2026     &  839     & Series A & Annual  \\\\\n",
       "\t 801      & ACT      & Oct-14   & 2027     &  842     & Series A & Annual  \\\\\n",
       "\t 801      & ACT      & Oct-14   & 2028     &  825     & Series A & Annual  \\\\\n",
       "\t 801      & ACT      & Oct-14   & 2029     &  836     & Series A & Annual  \\\\\n",
       "\t 801      & ACT      & Oct-14   & 2030     &  856     & Series A & Annual  \\\\\n",
       "\t 801      & ACT      & Oct-14   & 2031     &  886     & Series A & Annual  \\\\\n",
       "\t 401      & Adelaide & Oct-14   & 2016     & 3295     & Series A & Annual  \\\\\n",
       "\t 401      & Adelaide & Oct-14   & 2017     & 3357     & Series A & Annual  \\\\\n",
       "\t 401      & Adelaide & Oct-14   & 2018     & 3466     & Series A & Annual  \\\\\n",
       "\t 401      & Adelaide & Oct-14   & 2019     & 3566     & Series A & Annual  \\\\\n",
       "\t 401      & Adelaide & Oct-14   & 2020     & 3683     & Series A & Annual  \\\\\n",
       "\t 401      & Adelaide & Oct-14   & 2021     & 3738     & Series A & Annual  \\\\\n",
       "\t 401      & Adelaide & Oct-14   & 2022     & 3796     & Series A & Annual  \\\\\n",
       "\t 401      & Adelaide & Oct-14   & 2023     & 3827     & Series A & Annual  \\\\\n",
       "\t 401      & Adelaide & Oct-14   & 2024     & 3838     & Series A & Annual  \\\\\n",
       "\t 401      & Adelaide & Oct-14   & 2025     & 3823     & Series A & Annual  \\\\\n",
       "\t 401      & Adelaide & Oct-14   & 2026     & 3829     & Series A & Annual  \\\\\n",
       "\t 401      & Adelaide & Oct-14   & 2027     & 3863     & Series A & Annual  \\\\\n",
       "\t 401      & Adelaide & Oct-14   & 2028     & 3890     & Series A & Annual  \\\\\n",
       "\t 401      & Adelaide & Oct-14   & 2029     & 3984     & Series A & Annual  \\\\\n",
       "\t ... & ... & ... & ... & ... & ... & ...\\\\\n",
       "\t 202                     & Victoria exc. Melbourne & 65 and over             & 2018                    & 1598                    & Series A                & Annual                 \\\\\n",
       "\t 202                     & Victoria exc. Melbourne & 65 and over             & 2019                    & 1723                    & Series A                & Annual                 \\\\\n",
       "\t 202                     & Victoria exc. Melbourne & 65 and over             & 2020                    & 1841                    & Series A                & Annual                 \\\\\n",
       "\t 202                     & Victoria exc. Melbourne & 65 and over             & 2021                    & 1972                    & Series A                & Annual                 \\\\\n",
       "\t 202                     & Victoria exc. Melbourne & 65 and over             & 2022                    & 2123                    & Series A                & Annual                 \\\\\n",
       "\t 202                     & Victoria exc. Melbourne & 65 and over             & 2023                    & 2289                    & Series A                & Annual                 \\\\\n",
       "\t 202                     & Victoria exc. Melbourne & 65 and over             & 2024                    & 2438                    & Series A                & Annual                 \\\\\n",
       "\t 202                     & Victoria exc. Melbourne & 65 and over             & 2025                    & 2612                    & Series A                & Annual                 \\\\\n",
       "\t 202                     & Victoria exc. Melbourne & 65 and over             & 2026                    & 2783                    & Series A                & Annual                 \\\\\n",
       "\t 202                     & Victoria exc. Melbourne & 65 and over             & 2027                    & 2966                    & Series A                & Annual                 \\\\\n",
       "\t 202                     & Victoria exc. Melbourne & 65 and over             & 2028                    & 3121                    & Series A                & Annual                 \\\\\n",
       "\t 202                     & Victoria exc. Melbourne & 65 and over             & 2029                    & 3318                    & Series A                & Annual                 \\\\\n",
       "\t 202                     & Victoria exc. Melbourne & 65 and over             & 2030                    & 3507                    & Series A                & Annual                 \\\\\n",
       "\t 202                     & Victoria exc. Melbourne & 65 and over             & 2031                    & 3736                    & Series A                & Annual                 \\\\\n",
       "\t 508                     & West Kimberley          & 65 and over             & 2016                    &  251                    & Series A                & Annual                 \\\\\n",
       "\t 508                     & West Kimberley          & 65 and over             & 2017                    &  262                    & Series A                & Annual                 \\\\\n",
       "\t 508                     & West Kimberley          & 65 and over             & 2018                    &  275                    & Series A                & Annual                 \\\\\n",
       "\t 508                     & West Kimberley          & 65 and over             & 2019                    &  288                    & Series A                & Annual                 \\\\\n",
       "\t 508                     & West Kimberley          & 65 and over             & 2020                    &  289                    & Series A                & Annual                 \\\\\n",
       "\t 508                     & West Kimberley          & 65 and over             & 2021                    &  321                    & Series A                & Annual                 \\\\\n",
       "\t 508                     & West Kimberley          & 65 and over             & 2022                    &  363                    & Series A                & Annual                 \\\\\n",
       "\t 508                     & West Kimberley          & 65 and over             & 2023                    &  379                    & Series A                & Annual                 \\\\\n",
       "\t 508                     & West Kimberley          & 65 and over             & 2024                    &  405                    & Series A                & Annual                 \\\\\n",
       "\t 508                     & West Kimberley          & 65 and over             & 2025                    &  434                    & Series A                & Annual                 \\\\\n",
       "\t 508                     & West Kimberley          & 65 and over             & 2026                    &  460                    & Series A                & Annual                 \\\\\n",
       "\t 508                     & West Kimberley          & 65 and over             & 2027                    &  480                    & Series A                & Annual                 \\\\\n",
       "\t 508                     & West Kimberley          & 65 and over             & 2028                    &  522                    & Series A                & Annual                 \\\\\n",
       "\t 508                     & West Kimberley          & 65 and over             & 2029                    &  549                    & Series A                & Annual                 \\\\\n",
       "\t 508                     & West Kimberley          & 65 and over             & 2030                    &  587                    & Series A                & Annual                 \\\\\n",
       "\t 508                     & West Kimberley          & 65 and over             & 2031                    &  620                    & Series A                & Annual                 \\\\\n",
       "\\end{tabular}\n"
      ],
      "text/markdown": [
       "\n",
       "| INDIGENOUS_REGION | Indigenous region | Age | TIME | Value | Projection series | Frequency |\n",
       "|---|---|---|---|---|---|---|\n",
       "| 801      | ACT      | Oct-14   | 2016     |  694     | Series A | Annual   |\n",
       "| 801      | ACT      | Oct-14   | 2017     |  696     | Series A | Annual   |\n",
       "| 801      | ACT      | Oct-14   | 2018     |  697     | Series A | Annual   |\n",
       "| 801      | ACT      | Oct-14   | 2019     |  722     | Series A | Annual   |\n",
       "| 801      | ACT      | Oct-14   | 2020     |  776     | Series A | Annual   |\n",
       "| 801      | ACT      | Oct-14   | 2021     |  792     | Series A | Annual   |\n",
       "| 801      | ACT      | Oct-14   | 2022     |  812     | Series A | Annual   |\n",
       "| 801      | ACT      | Oct-14   | 2023     |  857     | Series A | Annual   |\n",
       "| 801      | ACT      | Oct-14   | 2024     |  859     | Series A | Annual   |\n",
       "| 801      | ACT      | Oct-14   | 2025     |  841     | Series A | Annual   |\n",
       "| 801      | ACT      | Oct-14   | 2026     |  839     | Series A | Annual   |\n",
       "| 801      | ACT      | Oct-14   | 2027     |  842     | Series A | Annual   |\n",
       "| 801      | ACT      | Oct-14   | 2028     |  825     | Series A | Annual   |\n",
       "| 801      | ACT      | Oct-14   | 2029     |  836     | Series A | Annual   |\n",
       "| 801      | ACT      | Oct-14   | 2030     |  856     | Series A | Annual   |\n",
       "| 801      | ACT      | Oct-14   | 2031     |  886     | Series A | Annual   |\n",
       "| 401      | Adelaide | Oct-14   | 2016     | 3295     | Series A | Annual   |\n",
       "| 401      | Adelaide | Oct-14   | 2017     | 3357     | Series A | Annual   |\n",
       "| 401      | Adelaide | Oct-14   | 2018     | 3466     | Series A | Annual   |\n",
       "| 401      | Adelaide | Oct-14   | 2019     | 3566     | Series A | Annual   |\n",
       "| 401      | Adelaide | Oct-14   | 2020     | 3683     | Series A | Annual   |\n",
       "| 401      | Adelaide | Oct-14   | 2021     | 3738     | Series A | Annual   |\n",
       "| 401      | Adelaide | Oct-14   | 2022     | 3796     | Series A | Annual   |\n",
       "| 401      | Adelaide | Oct-14   | 2023     | 3827     | Series A | Annual   |\n",
       "| 401      | Adelaide | Oct-14   | 2024     | 3838     | Series A | Annual   |\n",
       "| 401      | Adelaide | Oct-14   | 2025     | 3823     | Series A | Annual   |\n",
       "| 401      | Adelaide | Oct-14   | 2026     | 3829     | Series A | Annual   |\n",
       "| 401      | Adelaide | Oct-14   | 2027     | 3863     | Series A | Annual   |\n",
       "| 401      | Adelaide | Oct-14   | 2028     | 3890     | Series A | Annual   |\n",
       "| 401      | Adelaide | Oct-14   | 2029     | 3984     | Series A | Annual   |\n",
       "| ... | ... | ... | ... | ... | ... | ... |\n",
       "| 202                     | Victoria exc. Melbourne | 65 and over             | 2018                    | 1598                    | Series A                | Annual                  |\n",
       "| 202                     | Victoria exc. Melbourne | 65 and over             | 2019                    | 1723                    | Series A                | Annual                  |\n",
       "| 202                     | Victoria exc. Melbourne | 65 and over             | 2020                    | 1841                    | Series A                | Annual                  |\n",
       "| 202                     | Victoria exc. Melbourne | 65 and over             | 2021                    | 1972                    | Series A                | Annual                  |\n",
       "| 202                     | Victoria exc. Melbourne | 65 and over             | 2022                    | 2123                    | Series A                | Annual                  |\n",
       "| 202                     | Victoria exc. Melbourne | 65 and over             | 2023                    | 2289                    | Series A                | Annual                  |\n",
       "| 202                     | Victoria exc. Melbourne | 65 and over             | 2024                    | 2438                    | Series A                | Annual                  |\n",
       "| 202                     | Victoria exc. Melbourne | 65 and over             | 2025                    | 2612                    | Series A                | Annual                  |\n",
       "| 202                     | Victoria exc. Melbourne | 65 and over             | 2026                    | 2783                    | Series A                | Annual                  |\n",
       "| 202                     | Victoria exc. Melbourne | 65 and over             | 2027                    | 2966                    | Series A                | Annual                  |\n",
       "| 202                     | Victoria exc. Melbourne | 65 and over             | 2028                    | 3121                    | Series A                | Annual                  |\n",
       "| 202                     | Victoria exc. Melbourne | 65 and over             | 2029                    | 3318                    | Series A                | Annual                  |\n",
       "| 202                     | Victoria exc. Melbourne | 65 and over             | 2030                    | 3507                    | Series A                | Annual                  |\n",
       "| 202                     | Victoria exc. Melbourne | 65 and over             | 2031                    | 3736                    | Series A                | Annual                  |\n",
       "| 508                     | West Kimberley          | 65 and over             | 2016                    |  251                    | Series A                | Annual                  |\n",
       "| 508                     | West Kimberley          | 65 and over             | 2017                    |  262                    | Series A                | Annual                  |\n",
       "| 508                     | West Kimberley          | 65 and over             | 2018                    |  275                    | Series A                | Annual                  |\n",
       "| 508                     | West Kimberley          | 65 and over             | 2019                    |  288                    | Series A                | Annual                  |\n",
       "| 508                     | West Kimberley          | 65 and over             | 2020                    |  289                    | Series A                | Annual                  |\n",
       "| 508                     | West Kimberley          | 65 and over             | 2021                    |  321                    | Series A                | Annual                  |\n",
       "| 508                     | West Kimberley          | 65 and over             | 2022                    |  363                    | Series A                | Annual                  |\n",
       "| 508                     | West Kimberley          | 65 and over             | 2023                    |  379                    | Series A                | Annual                  |\n",
       "| 508                     | West Kimberley          | 65 and over             | 2024                    |  405                    | Series A                | Annual                  |\n",
       "| 508                     | West Kimberley          | 65 and over             | 2025                    |  434                    | Series A                | Annual                  |\n",
       "| 508                     | West Kimberley          | 65 and over             | 2026                    |  460                    | Series A                | Annual                  |\n",
       "| 508                     | West Kimberley          | 65 and over             | 2027                    |  480                    | Series A                | Annual                  |\n",
       "| 508                     | West Kimberley          | 65 and over             | 2028                    |  522                    | Series A                | Annual                  |\n",
       "| 508                     | West Kimberley          | 65 and over             | 2029                    |  549                    | Series A                | Annual                  |\n",
       "| 508                     | West Kimberley          | 65 and over             | 2030                    |  587                    | Series A                | Annual                  |\n",
       "| 508                     | West Kimberley          | 65 and over             | 2031                    |  620                    | Series A                | Annual                  |\n",
       "\n"
      ],
      "text/plain": [
       "     INDIGENOUS_REGION Indigenous region       Age         TIME Value\n",
       "1    801               ACT                     Oct-14      2016  694 \n",
       "2    801               ACT                     Oct-14      2017  696 \n",
       "3    801               ACT                     Oct-14      2018  697 \n",
       "4    801               ACT                     Oct-14      2019  722 \n",
       "5    801               ACT                     Oct-14      2020  776 \n",
       "6    801               ACT                     Oct-14      2021  792 \n",
       "7    801               ACT                     Oct-14      2022  812 \n",
       "8    801               ACT                     Oct-14      2023  857 \n",
       "9    801               ACT                     Oct-14      2024  859 \n",
       "10   801               ACT                     Oct-14      2025  841 \n",
       "11   801               ACT                     Oct-14      2026  839 \n",
       "12   801               ACT                     Oct-14      2027  842 \n",
       "13   801               ACT                     Oct-14      2028  825 \n",
       "14   801               ACT                     Oct-14      2029  836 \n",
       "15   801               ACT                     Oct-14      2030  856 \n",
       "16   801               ACT                     Oct-14      2031  886 \n",
       "17   401               Adelaide                Oct-14      2016 3295 \n",
       "18   401               Adelaide                Oct-14      2017 3357 \n",
       "19   401               Adelaide                Oct-14      2018 3466 \n",
       "20   401               Adelaide                Oct-14      2019 3566 \n",
       "21   401               Adelaide                Oct-14      2020 3683 \n",
       "22   401               Adelaide                Oct-14      2021 3738 \n",
       "23   401               Adelaide                Oct-14      2022 3796 \n",
       "24   401               Adelaide                Oct-14      2023 3827 \n",
       "25   401               Adelaide                Oct-14      2024 3838 \n",
       "26   401               Adelaide                Oct-14      2025 3823 \n",
       "27   401               Adelaide                Oct-14      2026 3829 \n",
       "28   401               Adelaide                Oct-14      2027 3863 \n",
       "29   401               Adelaide                Oct-14      2028 3890 \n",
       "30   401               Adelaide                Oct-14      2029 3984 \n",
       "...  ...               ...                     ...         ...  ...  \n",
       "8259 202               Victoria exc. Melbourne 65 and over 2018 1598 \n",
       "8260 202               Victoria exc. Melbourne 65 and over 2019 1723 \n",
       "8261 202               Victoria exc. Melbourne 65 and over 2020 1841 \n",
       "8262 202               Victoria exc. Melbourne 65 and over 2021 1972 \n",
       "8263 202               Victoria exc. Melbourne 65 and over 2022 2123 \n",
       "8264 202               Victoria exc. Melbourne 65 and over 2023 2289 \n",
       "8265 202               Victoria exc. Melbourne 65 and over 2024 2438 \n",
       "8266 202               Victoria exc. Melbourne 65 and over 2025 2612 \n",
       "8267 202               Victoria exc. Melbourne 65 and over 2026 2783 \n",
       "8268 202               Victoria exc. Melbourne 65 and over 2027 2966 \n",
       "8269 202               Victoria exc. Melbourne 65 and over 2028 3121 \n",
       "8270 202               Victoria exc. Melbourne 65 and over 2029 3318 \n",
       "8271 202               Victoria exc. Melbourne 65 and over 2030 3507 \n",
       "8272 202               Victoria exc. Melbourne 65 and over 2031 3736 \n",
       "8273 508               West Kimberley          65 and over 2016  251 \n",
       "8274 508               West Kimberley          65 and over 2017  262 \n",
       "8275 508               West Kimberley          65 and over 2018  275 \n",
       "8276 508               West Kimberley          65 and over 2019  288 \n",
       "8277 508               West Kimberley          65 and over 2020  289 \n",
       "8278 508               West Kimberley          65 and over 2021  321 \n",
       "8279 508               West Kimberley          65 and over 2022  363 \n",
       "8280 508               West Kimberley          65 and over 2023  379 \n",
       "8281 508               West Kimberley          65 and over 2024  405 \n",
       "8282 508               West Kimberley          65 and over 2025  434 \n",
       "8283 508               West Kimberley          65 and over 2026  460 \n",
       "8284 508               West Kimberley          65 and over 2027  480 \n",
       "8285 508               West Kimberley          65 and over 2028  522 \n",
       "8286 508               West Kimberley          65 and over 2029  549 \n",
       "8287 508               West Kimberley          65 and over 2030  587 \n",
       "8288 508               West Kimberley          65 and over 2031  620 \n",
       "     Projection series Frequency\n",
       "1    Series A          Annual   \n",
       "2    Series A          Annual   \n",
       "3    Series A          Annual   \n",
       "4    Series A          Annual   \n",
       "5    Series A          Annual   \n",
       "6    Series A          Annual   \n",
       "7    Series A          Annual   \n",
       "8    Series A          Annual   \n",
       "9    Series A          Annual   \n",
       "10   Series A          Annual   \n",
       "11   Series A          Annual   \n",
       "12   Series A          Annual   \n",
       "13   Series A          Annual   \n",
       "14   Series A          Annual   \n",
       "15   Series A          Annual   \n",
       "16   Series A          Annual   \n",
       "17   Series A          Annual   \n",
       "18   Series A          Annual   \n",
       "19   Series A          Annual   \n",
       "20   Series A          Annual   \n",
       "21   Series A          Annual   \n",
       "22   Series A          Annual   \n",
       "23   Series A          Annual   \n",
       "24   Series A          Annual   \n",
       "25   Series A          Annual   \n",
       "26   Series A          Annual   \n",
       "27   Series A          Annual   \n",
       "28   Series A          Annual   \n",
       "29   Series A          Annual   \n",
       "30   Series A          Annual   \n",
       "...  ...               ...      \n",
       "8259 Series A          Annual   \n",
       "8260 Series A          Annual   \n",
       "8261 Series A          Annual   \n",
       "8262 Series A          Annual   \n",
       "8263 Series A          Annual   \n",
       "8264 Series A          Annual   \n",
       "8265 Series A          Annual   \n",
       "8266 Series A          Annual   \n",
       "8267 Series A          Annual   \n",
       "8268 Series A          Annual   \n",
       "8269 Series A          Annual   \n",
       "8270 Series A          Annual   \n",
       "8271 Series A          Annual   \n",
       "8272 Series A          Annual   \n",
       "8273 Series A          Annual   \n",
       "8274 Series A          Annual   \n",
       "8275 Series A          Annual   \n",
       "8276 Series A          Annual   \n",
       "8277 Series A          Annual   \n",
       "8278 Series A          Annual   \n",
       "8279 Series A          Annual   \n",
       "8280 Series A          Annual   \n",
       "8281 Series A          Annual   \n",
       "8282 Series A          Annual   \n",
       "8283 Series A          Annual   \n",
       "8284 Series A          Annual   \n",
       "8285 Series A          Annual   \n",
       "8286 Series A          Annual   \n",
       "8287 Series A          Annual   \n",
       "8288 Series A          Annual   "
      ]
     },
     "metadata": {},
     "output_type": "display_data"
    },
    {
     "name": "stdout",
     "output_type": "stream",
     "text": [
      "Rows: 8,288\n",
      "Columns: 7\n",
      "$ INDIGENOUS_REGION   \u001b[3m\u001b[38;5;246m<dbl>\u001b[39m\u001b[23m 801, 801, 801, 801, 801, 801, 801, 801, 801, 801, ~\n",
      "$ `Indigenous region` \u001b[3m\u001b[38;5;246m<chr>\u001b[39m\u001b[23m \"ACT\", \"ACT\", \"ACT\", \"ACT\", \"ACT\", \"ACT\", \"ACT\", \"~\n",
      "$ Age                 \u001b[3m\u001b[38;5;246m<chr>\u001b[39m\u001b[23m \"Oct-14\", \"Oct-14\", \"Oct-14\", \"Oct-14\", \"Oct-14\", ~\n",
      "$ TIME                \u001b[3m\u001b[38;5;246m<dbl>\u001b[39m\u001b[23m 2016, 2017, 2018, 2019, 2020, 2021, 2022, 2023, 20~\n",
      "$ Value               \u001b[3m\u001b[38;5;246m<dbl>\u001b[39m\u001b[23m 694, 696, 697, 722, 776, 792, 812, 857, 859, 841, ~\n",
      "$ `Projection series` \u001b[3m\u001b[38;5;246m<chr>\u001b[39m\u001b[23m \"Series A\", \"Series A\", \"Series A\", \"Series A\", \"S~\n",
      "$ Frequency           \u001b[3m\u001b[38;5;246m<chr>\u001b[39m\u001b[23m \"Annual\", \"Annual\", \"Annual\", \"Annual\", \"Annual\", ~\n"
     ]
    }
   ],
   "source": [
    "#Load the data\n",
    "indig_byregion<-read_csv('IndigAusPopData_byregion.csv')\n",
    "indig_byregion\n",
    "\n",
    "#Take a look at the structure of the data\n",
    "glimpse(indig_byregion)"
   ]
  },
  {
   "cell_type": "markdown",
   "metadata": {},
   "source": [
    "There are some issues in the data that we need to address. We can already see some peculiar values under `Age` column, so let's investigate further."
   ]
  },
  {
   "cell_type": "code",
   "execution_count": 22,
   "metadata": {},
   "outputs": [
    {
     "data": {
      "text/html": [
       "<ol class=list-inline>\n",
       "\t<li>'0 - 4'</li>\n",
       "\t<li>'15 - 19'</li>\n",
       "\t<li>'20 - 24'</li>\n",
       "\t<li>'25 - 29'</li>\n",
       "\t<li>'30 - 34'</li>\n",
       "\t<li>'35 - 39'</li>\n",
       "\t<li>'40 - 44'</li>\n",
       "\t<li>'45 - 49'</li>\n",
       "\t<li>'5-Sep'</li>\n",
       "\t<li>'50 - 54'</li>\n",
       "\t<li>'55 - 59'</li>\n",
       "\t<li>'60 - 64'</li>\n",
       "\t<li>'65 and over'</li>\n",
       "\t<li>'Oct-14'</li>\n",
       "</ol>\n"
      ],
      "text/latex": [
       "\\begin{enumerate*}\n",
       "\\item '0 - 4'\n",
       "\\item '15 - 19'\n",
       "\\item '20 - 24'\n",
       "\\item '25 - 29'\n",
       "\\item '30 - 34'\n",
       "\\item '35 - 39'\n",
       "\\item '40 - 44'\n",
       "\\item '45 - 49'\n",
       "\\item '5-Sep'\n",
       "\\item '50 - 54'\n",
       "\\item '55 - 59'\n",
       "\\item '60 - 64'\n",
       "\\item '65 and over'\n",
       "\\item 'Oct-14'\n",
       "\\end{enumerate*}\n"
      ],
      "text/markdown": [
       "1. '0 - 4'\n",
       "2. '15 - 19'\n",
       "3. '20 - 24'\n",
       "4. '25 - 29'\n",
       "5. '30 - 34'\n",
       "6. '35 - 39'\n",
       "7. '40 - 44'\n",
       "8. '45 - 49'\n",
       "9. '5-Sep'\n",
       "10. '50 - 54'\n",
       "11. '55 - 59'\n",
       "12. '60 - 64'\n",
       "13. '65 and over'\n",
       "14. 'Oct-14'\n",
       "\n",
       "\n"
      ],
      "text/plain": [
       " [1] \"0 - 4\"       \"15 - 19\"     \"20 - 24\"     \"25 - 29\"     \"30 - 34\"    \n",
       " [6] \"35 - 39\"     \"40 - 44\"     \"45 - 49\"     \"5-Sep\"       \"50 - 54\"    \n",
       "[11] \"55 - 59\"     \"60 - 64\"     \"65 and over\" \"Oct-14\"     "
      ]
     },
     "metadata": {},
     "output_type": "display_data"
    }
   ],
   "source": [
    "levels(factor(indig_byregion$Age))"
   ]
  },
  {
   "cell_type": "markdown",
   "metadata": {},
   "source": [
    "From here we can infer that the values under Age column is entered in the form of age group. However, there are 2 groups of values that are entered incorrectly. “5-Sep” is supposed to be “5-9” and “Oct-14” is supposed to be “10-14”. We make the changes accordingly"
   ]
  },
  {
   "cell_type": "code",
   "execution_count": 23,
   "metadata": {},
   "outputs": [],
   "source": [
    "indig_byregion$Age[indig_byregion$Age=='5-Sep']<-'5 - 9'\n",
    "indig_byregion$Age[indig_byregion$Age=='Oct-14']<-'10 - 14'"
   ]
  },
  {
   "cell_type": "markdown",
   "metadata": {},
   "source": [
    "Now that the label of age groups is properly taken care of, we should sort the data in the ascending order of age group, so the arrangement of the data looks better"
   ]
  },
  {
   "cell_type": "code",
   "execution_count": 24,
   "metadata": {},
   "outputs": [],
   "source": [
    "#Create Age_f column to rearrange the data in the ascending order of age group\n",
    "indig_byregion$Age_f<-factor(indig_byregion$Age,\n",
    "        levels=c(\"0 - 4\",\"5 - 9\" ,\"10 - 14\",\"15 - 19\",\"20 - 24\",\"25 - 29\",\n",
    "               \"30 - 34\",\"35 - 39\",\"40 - 44\",\"45 - 49\",\"50 - 54\",\"55 - 59\",\n",
    "               \"60 - 64\",\"65 and over\"))\n",
    "\n",
    "#Reorder the data in the ascending order of age group\n",
    "indig_byregion<-indig_byregion[order(indig_byregion$Age_f),]\n",
    "\n",
    "#Remove Age_f column when we are done\n",
    "indig_byregion<-indig_byregion[,!(names(indig_byregion)=='Age_f')]"
   ]
  },
  {
   "cell_type": "markdown",
   "metadata": {},
   "source": [
    "Now, we check if there are any missing values in the data"
   ]
  },
  {
   "cell_type": "code",
   "execution_count": 25,
   "metadata": {},
   "outputs": [],
   "source": [
    "library(visdat)"
   ]
  },
  {
   "cell_type": "code",
   "execution_count": 26,
   "metadata": {},
   "outputs": [
    {
     "data": {
      "image/png": "[encoded data removed]",
      "text/plain": [
       "plot without title"
      ]
     },
     "metadata": {},
     "output_type": "display_data"
    }
   ],
   "source": [
    "vis_dat(indig_byregion)\n",
    "#There are no missing values"
   ]
  },
  {
   "cell_type": "markdown",
   "metadata": {},
   "source": [
    "We check if the range of `TIME` and `Value` columns are within a reasonable range"
   ]
  },
  {
   "cell_type": "code",
   "execution_count": 27,
   "metadata": {},
   "outputs": [
    {
     "data": {
      "text/html": [
       "<ol class=list-inline>\n",
       "\t<li>2016</li>\n",
       "\t<li>2031</li>\n",
       "</ol>\n"
      ],
      "text/latex": [
       "\\begin{enumerate*}\n",
       "\\item 2016\n",
       "\\item 2031\n",
       "\\end{enumerate*}\n"
      ],
      "text/markdown": [
       "1. 2016\n",
       "2. 2031\n",
       "\n",
       "\n"
      ],
      "text/plain": [
       "[1] 2016 2031"
      ]
     },
     "metadata": {},
     "output_type": "display_data"
    }
   ],
   "source": [
    "range(indig_byregion$TIME)"
   ]
  },
  {
   "cell_type": "code",
   "execution_count": 28,
   "metadata": {},
   "outputs": [
    {
     "data": {
      "text/html": [
       "<ol class=list-inline>\n",
       "\t<li>86</li>\n",
       "\t<li>16347</li>\n",
       "</ol>\n"
      ],
      "text/latex": [
       "\\begin{enumerate*}\n",
       "\\item 86\n",
       "\\item 16347\n",
       "\\end{enumerate*}\n"
      ],
      "text/markdown": [
       "1. 86\n",
       "2. 16347\n",
       "\n",
       "\n"
      ],
      "text/plain": [
       "[1]    86 16347"
      ]
     },
     "metadata": {},
     "output_type": "display_data"
    }
   ],
   "source": [
    "range(indig_byregion$Value)"
   ]
  },
  {
   "cell_type": "markdown",
   "metadata": {},
   "source": [
    "Both are within the acceptable, specified range, so no outliers that need to be taken care of."
   ]
  },
  {
   "cell_type": "code",
   "execution_count": 30,
   "metadata": {
    "scrolled": true
   },
   "outputs": [
    {
     "data": {
      "text/html": [
       "<table>\n",
       "<thead><tr><th scope=col>Indigenous region</th><th scope=col>Age</th><th scope=col>TIME</th><th scope=col>Value</th><th scope=col>Projection series</th><th scope=col>Frequency</th></tr></thead>\n",
       "<tbody>\n",
       "\t<tr><td>ACT     </td><td>0 - 4   </td><td>2016    </td><td> 899    </td><td>Series A</td><td>Annual  </td></tr>\n",
       "\t<tr><td>ACT     </td><td>0 - 4   </td><td>2017    </td><td> 901    </td><td>Series A</td><td>Annual  </td></tr>\n",
       "\t<tr><td>ACT     </td><td>0 - 4   </td><td>2018    </td><td> 882    </td><td>Series A</td><td>Annual  </td></tr>\n",
       "\t<tr><td>ACT     </td><td>0 - 4   </td><td>2019    </td><td> 893    </td><td>Series A</td><td>Annual  </td></tr>\n",
       "\t<tr><td>ACT     </td><td>0 - 4   </td><td>2020    </td><td> 913    </td><td>Series A</td><td>Annual  </td></tr>\n",
       "\t<tr><td>ACT     </td><td>0 - 4   </td><td>2021    </td><td> 947    </td><td>Series A</td><td>Annual  </td></tr>\n",
       "\t<tr><td>ACT     </td><td>0 - 4   </td><td>2022    </td><td> 985    </td><td>Series A</td><td>Annual  </td></tr>\n",
       "\t<tr><td>ACT     </td><td>0 - 4   </td><td>2023    </td><td>1028    </td><td>Series A</td><td>Annual  </td></tr>\n",
       "\t<tr><td>ACT     </td><td>0 - 4   </td><td>2024    </td><td>1072    </td><td>Series A</td><td>Annual  </td></tr>\n",
       "\t<tr><td>ACT     </td><td>0 - 4   </td><td>2025    </td><td>1115    </td><td>Series A</td><td>Annual  </td></tr>\n",
       "\t<tr><td>ACT     </td><td>0 - 4   </td><td>2026    </td><td>1158    </td><td>Series A</td><td>Annual  </td></tr>\n",
       "\t<tr><td>ACT     </td><td>0 - 4   </td><td>2027    </td><td>1208    </td><td>Series A</td><td>Annual  </td></tr>\n",
       "\t<tr><td>ACT     </td><td>0 - 4   </td><td>2028    </td><td>1257    </td><td>Series A</td><td>Annual  </td></tr>\n",
       "\t<tr><td>ACT     </td><td>0 - 4   </td><td>2029    </td><td>1305    </td><td>Series A</td><td>Annual  </td></tr>\n",
       "\t<tr><td>ACT     </td><td>0 - 4   </td><td>2030    </td><td>1353    </td><td>Series A</td><td>Annual  </td></tr>\n",
       "\t<tr><td>ACT     </td><td>0 - 4   </td><td>2031    </td><td>1400    </td><td>Series A</td><td>Annual  </td></tr>\n",
       "\t<tr><td>Adelaide</td><td>0 - 4   </td><td>2016    </td><td>3627    </td><td>Series A</td><td>Annual  </td></tr>\n",
       "\t<tr><td>Adelaide</td><td>0 - 4   </td><td>2017    </td><td>3662    </td><td>Series A</td><td>Annual  </td></tr>\n",
       "\t<tr><td>Adelaide</td><td>0 - 4   </td><td>2018    </td><td>3687    </td><td>Series A</td><td>Annual  </td></tr>\n",
       "\t<tr><td>Adelaide</td><td>0 - 4   </td><td>2019    </td><td>3781    </td><td>Series A</td><td>Annual  </td></tr>\n",
       "\t<tr><td>Adelaide</td><td>0 - 4   </td><td>2020    </td><td>3903    </td><td>Series A</td><td>Annual  </td></tr>\n",
       "\t<tr><td>Adelaide</td><td>0 - 4   </td><td>2021    </td><td>4026    </td><td>Series A</td><td>Annual  </td></tr>\n",
       "\t<tr><td>Adelaide</td><td>0 - 4   </td><td>2022    </td><td>4174    </td><td>Series A</td><td>Annual  </td></tr>\n",
       "\t<tr><td>Adelaide</td><td>0 - 4   </td><td>2023    </td><td>4331    </td><td>Series A</td><td>Annual  </td></tr>\n",
       "\t<tr><td>Adelaide</td><td>0 - 4   </td><td>2024    </td><td>4490    </td><td>Series A</td><td>Annual  </td></tr>\n",
       "\t<tr><td>Adelaide</td><td>0 - 4   </td><td>2025    </td><td>4650    </td><td>Series A</td><td>Annual  </td></tr>\n",
       "\t<tr><td>Adelaide</td><td>0 - 4   </td><td>2026    </td><td>4814    </td><td>Series A</td><td>Annual  </td></tr>\n",
       "\t<tr><td>Adelaide</td><td>0 - 4   </td><td>2027    </td><td>4977    </td><td>Series A</td><td>Annual  </td></tr>\n",
       "\t<tr><td>Adelaide</td><td>0 - 4   </td><td>2028    </td><td>5141    </td><td>Series A</td><td>Annual  </td></tr>\n",
       "\t<tr><td>Adelaide</td><td>0 - 4   </td><td>2029    </td><td>5302    </td><td>Series A</td><td>Annual  </td></tr>\n",
       "\t<tr><td>...</td><td>...</td><td>...</td><td>...</td><td>...</td><td>...</td></tr>\n",
       "\t<tr><td>Victoria exc. Melbourne</td><td>65 and over            </td><td>2018                   </td><td>1598                   </td><td>Series A               </td><td>Annual                 </td></tr>\n",
       "\t<tr><td>Victoria exc. Melbourne</td><td>65 and over            </td><td>2019                   </td><td>1723                   </td><td>Series A               </td><td>Annual                 </td></tr>\n",
       "\t<tr><td>Victoria exc. Melbourne</td><td>65 and over            </td><td>2020                   </td><td>1841                   </td><td>Series A               </td><td>Annual                 </td></tr>\n",
       "\t<tr><td>Victoria exc. Melbourne</td><td>65 and over            </td><td>2021                   </td><td>1972                   </td><td>Series A               </td><td>Annual                 </td></tr>\n",
       "\t<tr><td>Victoria exc. Melbourne</td><td>65 and over            </td><td>2022                   </td><td>2123                   </td><td>Series A               </td><td>Annual                 </td></tr>\n",
       "\t<tr><td>Victoria exc. Melbourne</td><td>65 and over            </td><td>2023                   </td><td>2289                   </td><td>Series A               </td><td>Annual                 </td></tr>\n",
       "\t<tr><td>Victoria exc. Melbourne</td><td>65 and over            </td><td>2024                   </td><td>2438                   </td><td>Series A               </td><td>Annual                 </td></tr>\n",
       "\t<tr><td>Victoria exc. Melbourne</td><td>65 and over            </td><td>2025                   </td><td>2612                   </td><td>Series A               </td><td>Annual                 </td></tr>\n",
       "\t<tr><td>Victoria exc. Melbourne</td><td>65 and over            </td><td>2026                   </td><td>2783                   </td><td>Series A               </td><td>Annual                 </td></tr>\n",
       "\t<tr><td>Victoria exc. Melbourne</td><td>65 and over            </td><td>2027                   </td><td>2966                   </td><td>Series A               </td><td>Annual                 </td></tr>\n",
       "\t<tr><td>Victoria exc. Melbourne</td><td>65 and over            </td><td>2028                   </td><td>3121                   </td><td>Series A               </td><td>Annual                 </td></tr>\n",
       "\t<tr><td>Victoria exc. Melbourne</td><td>65 and over            </td><td>2029                   </td><td>3318                   </td><td>Series A               </td><td>Annual                 </td></tr>\n",
       "\t<tr><td>Victoria exc. Melbourne</td><td>65 and over            </td><td>2030                   </td><td>3507                   </td><td>Series A               </td><td>Annual                 </td></tr>\n",
       "\t<tr><td>Victoria exc. Melbourne</td><td>65 and over            </td><td>2031                   </td><td>3736                   </td><td>Series A               </td><td>Annual                 </td></tr>\n",
       "\t<tr><td>West Kimberley         </td><td>65 and over            </td><td>2016                   </td><td> 251                   </td><td>Series A               </td><td>Annual                 </td></tr>\n",
       "\t<tr><td>West Kimberley         </td><td>65 and over            </td><td>2017                   </td><td> 262                   </td><td>Series A               </td><td>Annual                 </td></tr>\n",
       "\t<tr><td>West Kimberley         </td><td>65 and over            </td><td>2018                   </td><td> 275                   </td><td>Series A               </td><td>Annual                 </td></tr>\n",
       "\t<tr><td>West Kimberley         </td><td>65 and over            </td><td>2019                   </td><td> 288                   </td><td>Series A               </td><td>Annual                 </td></tr>\n",
       "\t<tr><td>West Kimberley         </td><td>65 and over            </td><td>2020                   </td><td> 289                   </td><td>Series A               </td><td>Annual                 </td></tr>\n",
       "\t<tr><td>West Kimberley         </td><td>65 and over            </td><td>2021                   </td><td> 321                   </td><td>Series A               </td><td>Annual                 </td></tr>\n",
       "\t<tr><td>West Kimberley         </td><td>65 and over            </td><td>2022                   </td><td> 363                   </td><td>Series A               </td><td>Annual                 </td></tr>\n",
       "\t<tr><td>West Kimberley         </td><td>65 and over            </td><td>2023                   </td><td> 379                   </td><td>Series A               </td><td>Annual                 </td></tr>\n",
       "\t<tr><td>West Kimberley         </td><td>65 and over            </td><td>2024                   </td><td> 405                   </td><td>Series A               </td><td>Annual                 </td></tr>\n",
       "\t<tr><td>West Kimberley         </td><td>65 and over            </td><td>2025                   </td><td> 434                   </td><td>Series A               </td><td>Annual                 </td></tr>\n",
       "\t<tr><td>West Kimberley         </td><td>65 and over            </td><td>2026                   </td><td> 460                   </td><td>Series A               </td><td>Annual                 </td></tr>\n",
       "\t<tr><td>West Kimberley         </td><td>65 and over            </td><td>2027                   </td><td> 480                   </td><td>Series A               </td><td>Annual                 </td></tr>\n",
       "\t<tr><td>West Kimberley         </td><td>65 and over            </td><td>2028                   </td><td> 522                   </td><td>Series A               </td><td>Annual                 </td></tr>\n",
       "\t<tr><td>West Kimberley         </td><td>65 and over            </td><td>2029                   </td><td> 549                   </td><td>Series A               </td><td>Annual                 </td></tr>\n",
       "\t<tr><td>West Kimberley         </td><td>65 and over            </td><td>2030                   </td><td> 587                   </td><td>Series A               </td><td>Annual                 </td></tr>\n",
       "\t<tr><td>West Kimberley         </td><td>65 and over            </td><td>2031                   </td><td> 620                   </td><td>Series A               </td><td>Annual                 </td></tr>\n",
       "</tbody>\n",
       "</table>\n"
      ],
      "text/latex": [
       "\\begin{tabular}{r|llllll}\n",
       " Indigenous region & Age & TIME & Value & Projection series & Frequency\\\\\n",
       "\\hline\n",
       "\t ACT      & 0 - 4    & 2016     &  899     & Series A & Annual  \\\\\n",
       "\t ACT      & 0 - 4    & 2017     &  901     & Series A & Annual  \\\\\n",
       "\t ACT      & 0 - 4    & 2018     &  882     & Series A & Annual  \\\\\n",
       "\t ACT      & 0 - 4    & 2019     &  893     & Series A & Annual  \\\\\n",
       "\t ACT      & 0 - 4    & 2020     &  913     & Series A & Annual  \\\\\n",
       "\t ACT      & 0 - 4    & 2021     &  947     & Series A & Annual  \\\\\n",
       "\t ACT      & 0 - 4    & 2022     &  985     & Series A & Annual  \\\\\n",
       "\t ACT      & 0 - 4    & 2023     & 1028     & Series A & Annual  \\\\\n",
       "\t ACT      & 0 - 4    & 2024     & 1072     & Series A & Annual  \\\\\n",
       "\t ACT      & 0 - 4    & 2025     & 1115     & Series A & Annual  \\\\\n",
       "\t ACT      & 0 - 4    & 2026     & 1158     & Series A & Annual  \\\\\n",
       "\t ACT      & 0 - 4    & 2027     & 1208     & Series A & Annual  \\\\\n",
       "\t ACT      & 0 - 4    & 2028     & 1257     & Series A & Annual  \\\\\n",
       "\t ACT      & 0 - 4    & 2029     & 1305     & Series A & Annual  \\\\\n",
       "\t ACT      & 0 - 4    & 2030     & 1353     & Series A & Annual  \\\\\n",
       "\t ACT      & 0 - 4    & 2031     & 1400     & Series A & Annual  \\\\\n",
       "\t Adelaide & 0 - 4    & 2016     & 3627     & Series A & Annual  \\\\\n",
       "\t Adelaide & 0 - 4    & 2017     & 3662     & Series A & Annual  \\\\\n",
       "\t Adelaide & 0 - 4    & 2018     & 3687     & Series A & Annual  \\\\\n",
       "\t Adelaide & 0 - 4    & 2019     & 3781     & Series A & Annual  \\\\\n",
       "\t Adelaide & 0 - 4    & 2020     & 3903     & Series A & Annual  \\\\\n",
       "\t Adelaide & 0 - 4    & 2021     & 4026     & Series A & Annual  \\\\\n",
       "\t Adelaide & 0 - 4    & 2022     & 4174     & Series A & Annual  \\\\\n",
       "\t Adelaide & 0 - 4    & 2023     & 4331     & Series A & Annual  \\\\\n",
       "\t Adelaide & 0 - 4    & 2024     & 4490     & Series A & Annual  \\\\\n",
       "\t Adelaide & 0 - 4    & 2025     & 4650     & Series A & Annual  \\\\\n",
       "\t Adelaide & 0 - 4    & 2026     & 4814     & Series A & Annual  \\\\\n",
       "\t Adelaide & 0 - 4    & 2027     & 4977     & Series A & Annual  \\\\\n",
       "\t Adelaide & 0 - 4    & 2028     & 5141     & Series A & Annual  \\\\\n",
       "\t Adelaide & 0 - 4    & 2029     & 5302     & Series A & Annual  \\\\\n",
       "\t ... & ... & ... & ... & ... & ...\\\\\n",
       "\t Victoria exc. Melbourne & 65 and over             & 2018                    & 1598                    & Series A                & Annual                 \\\\\n",
       "\t Victoria exc. Melbourne & 65 and over             & 2019                    & 1723                    & Series A                & Annual                 \\\\\n",
       "\t Victoria exc. Melbourne & 65 and over             & 2020                    & 1841                    & Series A                & Annual                 \\\\\n",
       "\t Victoria exc. Melbourne & 65 and over             & 2021                    & 1972                    & Series A                & Annual                 \\\\\n",
       "\t Victoria exc. Melbourne & 65 and over             & 2022                    & 2123                    & Series A                & Annual                 \\\\\n",
       "\t Victoria exc. Melbourne & 65 and over             & 2023                    & 2289                    & Series A                & Annual                 \\\\\n",
       "\t Victoria exc. Melbourne & 65 and over             & 2024                    & 2438                    & Series A                & Annual                 \\\\\n",
       "\t Victoria exc. Melbourne & 65 and over             & 2025                    & 2612                    & Series A                & Annual                 \\\\\n",
       "\t Victoria exc. Melbourne & 65 and over             & 2026                    & 2783                    & Series A                & Annual                 \\\\\n",
       "\t Victoria exc. Melbourne & 65 and over             & 2027                    & 2966                    & Series A                & Annual                 \\\\\n",
       "\t Victoria exc. Melbourne & 65 and over             & 2028                    & 3121                    & Series A                & Annual                 \\\\\n",
       "\t Victoria exc. Melbourne & 65 and over             & 2029                    & 3318                    & Series A                & Annual                 \\\\\n",
       "\t Victoria exc. Melbourne & 65 and over             & 2030                    & 3507                    & Series A                & Annual                 \\\\\n",
       "\t Victoria exc. Melbourne & 65 and over             & 2031                    & 3736                    & Series A                & Annual                 \\\\\n",
       "\t West Kimberley          & 65 and over             & 2016                    &  251                    & Series A                & Annual                 \\\\\n",
       "\t West Kimberley          & 65 and over             & 2017                    &  262                    & Series A                & Annual                 \\\\\n",
       "\t West Kimberley          & 65 and over             & 2018                    &  275                    & Series A                & Annual                 \\\\\n",
       "\t West Kimberley          & 65 and over             & 2019                    &  288                    & Series A                & Annual                 \\\\\n",
       "\t West Kimberley          & 65 and over             & 2020                    &  289                    & Series A                & Annual                 \\\\\n",
       "\t West Kimberley          & 65 and over             & 2021                    &  321                    & Series A                & Annual                 \\\\\n",
       "\t West Kimberley          & 65 and over             & 2022                    &  363                    & Series A                & Annual                 \\\\\n",
       "\t West Kimberley          & 65 and over             & 2023                    &  379                    & Series A                & Annual                 \\\\\n",
       "\t West Kimberley          & 65 and over             & 2024                    &  405                    & Series A                & Annual                 \\\\\n",
       "\t West Kimberley          & 65 and over             & 2025                    &  434                    & Series A                & Annual                 \\\\\n",
       "\t West Kimberley          & 65 and over             & 2026                    &  460                    & Series A                & Annual                 \\\\\n",
       "\t West Kimberley          & 65 and over             & 2027                    &  480                    & Series A                & Annual                 \\\\\n",
       "\t West Kimberley          & 65 and over             & 2028                    &  522                    & Series A                & Annual                 \\\\\n",
       "\t West Kimberley          & 65 and over             & 2029                    &  549                    & Series A                & Annual                 \\\\\n",
       "\t West Kimberley          & 65 and over             & 2030                    &  587                    & Series A                & Annual                 \\\\\n",
       "\t West Kimberley          & 65 and over             & 2031                    &  620                    & Series A                & Annual                 \\\\\n",
       "\\end{tabular}\n"
      ],
      "text/markdown": [
       "\n",
       "| Indigenous region | Age | TIME | Value | Projection series | Frequency |\n",
       "|---|---|---|---|---|---|\n",
       "| ACT      | 0 - 4    | 2016     |  899     | Series A | Annual   |\n",
       "| ACT      | 0 - 4    | 2017     |  901     | Series A | Annual   |\n",
       "| ACT      | 0 - 4    | 2018     |  882     | Series A | Annual   |\n",
       "| ACT      | 0 - 4    | 2019     |  893     | Series A | Annual   |\n",
       "| ACT      | 0 - 4    | 2020     |  913     | Series A | Annual   |\n",
       "| ACT      | 0 - 4    | 2021     |  947     | Series A | Annual   |\n",
       "| ACT      | 0 - 4    | 2022     |  985     | Series A | Annual   |\n",
       "| ACT      | 0 - 4    | 2023     | 1028     | Series A | Annual   |\n",
       "| ACT      | 0 - 4    | 2024     | 1072     | Series A | Annual   |\n",
       "| ACT      | 0 - 4    | 2025     | 1115     | Series A | Annual   |\n",
       "| ACT      | 0 - 4    | 2026     | 1158     | Series A | Annual   |\n",
       "| ACT      | 0 - 4    | 2027     | 1208     | Series A | Annual   |\n",
       "| ACT      | 0 - 4    | 2028     | 1257     | Series A | Annual   |\n",
       "| ACT      | 0 - 4    | 2029     | 1305     | Series A | Annual   |\n",
       "| ACT      | 0 - 4    | 2030     | 1353     | Series A | Annual   |\n",
       "| ACT      | 0 - 4    | 2031     | 1400     | Series A | Annual   |\n",
       "| Adelaide | 0 - 4    | 2016     | 3627     | Series A | Annual   |\n",
       "| Adelaide | 0 - 4    | 2017     | 3662     | Series A | Annual   |\n",
       "| Adelaide | 0 - 4    | 2018     | 3687     | Series A | Annual   |\n",
       "| Adelaide | 0 - 4    | 2019     | 3781     | Series A | Annual   |\n",
       "| Adelaide | 0 - 4    | 2020     | 3903     | Series A | Annual   |\n",
       "| Adelaide | 0 - 4    | 2021     | 4026     | Series A | Annual   |\n",
       "| Adelaide | 0 - 4    | 2022     | 4174     | Series A | Annual   |\n",
       "| Adelaide | 0 - 4    | 2023     | 4331     | Series A | Annual   |\n",
       "| Adelaide | 0 - 4    | 2024     | 4490     | Series A | Annual   |\n",
       "| Adelaide | 0 - 4    | 2025     | 4650     | Series A | Annual   |\n",
       "| Adelaide | 0 - 4    | 2026     | 4814     | Series A | Annual   |\n",
       "| Adelaide | 0 - 4    | 2027     | 4977     | Series A | Annual   |\n",
       "| Adelaide | 0 - 4    | 2028     | 5141     | Series A | Annual   |\n",
       "| Adelaide | 0 - 4    | 2029     | 5302     | Series A | Annual   |\n",
       "| ... | ... | ... | ... | ... | ... |\n",
       "| Victoria exc. Melbourne | 65 and over             | 2018                    | 1598                    | Series A                | Annual                  |\n",
       "| Victoria exc. Melbourne | 65 and over             | 2019                    | 1723                    | Series A                | Annual                  |\n",
       "| Victoria exc. Melbourne | 65 and over             | 2020                    | 1841                    | Series A                | Annual                  |\n",
       "| Victoria exc. Melbourne | 65 and over             | 2021                    | 1972                    | Series A                | Annual                  |\n",
       "| Victoria exc. Melbourne | 65 and over             | 2022                    | 2123                    | Series A                | Annual                  |\n",
       "| Victoria exc. Melbourne | 65 and over             | 2023                    | 2289                    | Series A                | Annual                  |\n",
       "| Victoria exc. Melbourne | 65 and over             | 2024                    | 2438                    | Series A                | Annual                  |\n",
       "| Victoria exc. Melbourne | 65 and over             | 2025                    | 2612                    | Series A                | Annual                  |\n",
       "| Victoria exc. Melbourne | 65 and over             | 2026                    | 2783                    | Series A                | Annual                  |\n",
       "| Victoria exc. Melbourne | 65 and over             | 2027                    | 2966                    | Series A                | Annual                  |\n",
       "| Victoria exc. Melbourne | 65 and over             | 2028                    | 3121                    | Series A                | Annual                  |\n",
       "| Victoria exc. Melbourne | 65 and over             | 2029                    | 3318                    | Series A                | Annual                  |\n",
       "| Victoria exc. Melbourne | 65 and over             | 2030                    | 3507                    | Series A                | Annual                  |\n",
       "| Victoria exc. Melbourne | 65 and over             | 2031                    | 3736                    | Series A                | Annual                  |\n",
       "| West Kimberley          | 65 and over             | 2016                    |  251                    | Series A                | Annual                  |\n",
       "| West Kimberley          | 65 and over             | 2017                    |  262                    | Series A                | Annual                  |\n",
       "| West Kimberley          | 65 and over             | 2018                    |  275                    | Series A                | Annual                  |\n",
       "| West Kimberley          | 65 and over             | 2019                    |  288                    | Series A                | Annual                  |\n",
       "| West Kimberley          | 65 and over             | 2020                    |  289                    | Series A                | Annual                  |\n",
       "| West Kimberley          | 65 and over             | 2021                    |  321                    | Series A                | Annual                  |\n",
       "| West Kimberley          | 65 and over             | 2022                    |  363                    | Series A                | Annual                  |\n",
       "| West Kimberley          | 65 and over             | 2023                    |  379                    | Series A                | Annual                  |\n",
       "| West Kimberley          | 65 and over             | 2024                    |  405                    | Series A                | Annual                  |\n",
       "| West Kimberley          | 65 and over             | 2025                    |  434                    | Series A                | Annual                  |\n",
       "| West Kimberley          | 65 and over             | 2026                    |  460                    | Series A                | Annual                  |\n",
       "| West Kimberley          | 65 and over             | 2027                    |  480                    | Series A                | Annual                  |\n",
       "| West Kimberley          | 65 and over             | 2028                    |  522                    | Series A                | Annual                  |\n",
       "| West Kimberley          | 65 and over             | 2029                    |  549                    | Series A                | Annual                  |\n",
       "| West Kimberley          | 65 and over             | 2030                    |  587                    | Series A                | Annual                  |\n",
       "| West Kimberley          | 65 and over             | 2031                    |  620                    | Series A                | Annual                  |\n",
       "\n"
      ],
      "text/plain": [
       "     Indigenous region       Age         TIME Value Projection series Frequency\n",
       "1    ACT                     0 - 4       2016  899  Series A          Annual   \n",
       "2    ACT                     0 - 4       2017  901  Series A          Annual   \n",
       "3    ACT                     0 - 4       2018  882  Series A          Annual   \n",
       "4    ACT                     0 - 4       2019  893  Series A          Annual   \n",
       "5    ACT                     0 - 4       2020  913  Series A          Annual   \n",
       "6    ACT                     0 - 4       2021  947  Series A          Annual   \n",
       "7    ACT                     0 - 4       2022  985  Series A          Annual   \n",
       "8    ACT                     0 - 4       2023 1028  Series A          Annual   \n",
       "9    ACT                     0 - 4       2024 1072  Series A          Annual   \n",
       "10   ACT                     0 - 4       2025 1115  Series A          Annual   \n",
       "11   ACT                     0 - 4       2026 1158  Series A          Annual   \n",
       "12   ACT                     0 - 4       2027 1208  Series A          Annual   \n",
       "13   ACT                     0 - 4       2028 1257  Series A          Annual   \n",
       "14   ACT                     0 - 4       2029 1305  Series A          Annual   \n",
       "15   ACT                     0 - 4       2030 1353  Series A          Annual   \n",
       "16   ACT                     0 - 4       2031 1400  Series A          Annual   \n",
       "17   Adelaide                0 - 4       2016 3627  Series A          Annual   \n",
       "18   Adelaide                0 - 4       2017 3662  Series A          Annual   \n",
       "19   Adelaide                0 - 4       2018 3687  Series A          Annual   \n",
       "20   Adelaide                0 - 4       2019 3781  Series A          Annual   \n",
       "21   Adelaide                0 - 4       2020 3903  Series A          Annual   \n",
       "22   Adelaide                0 - 4       2021 4026  Series A          Annual   \n",
       "23   Adelaide                0 - 4       2022 4174  Series A          Annual   \n",
       "24   Adelaide                0 - 4       2023 4331  Series A          Annual   \n",
       "25   Adelaide                0 - 4       2024 4490  Series A          Annual   \n",
       "26   Adelaide                0 - 4       2025 4650  Series A          Annual   \n",
       "27   Adelaide                0 - 4       2026 4814  Series A          Annual   \n",
       "28   Adelaide                0 - 4       2027 4977  Series A          Annual   \n",
       "29   Adelaide                0 - 4       2028 5141  Series A          Annual   \n",
       "30   Adelaide                0 - 4       2029 5302  Series A          Annual   \n",
       "...  ...                     ...         ...  ...   ...               ...      \n",
       "8259 Victoria exc. Melbourne 65 and over 2018 1598  Series A          Annual   \n",
       "8260 Victoria exc. Melbourne 65 and over 2019 1723  Series A          Annual   \n",
       "8261 Victoria exc. Melbourne 65 and over 2020 1841  Series A          Annual   \n",
       "8262 Victoria exc. Melbourne 65 and over 2021 1972  Series A          Annual   \n",
       "8263 Victoria exc. Melbourne 65 and over 2022 2123  Series A          Annual   \n",
       "8264 Victoria exc. Melbourne 65 and over 2023 2289  Series A          Annual   \n",
       "8265 Victoria exc. Melbourne 65 and over 2024 2438  Series A          Annual   \n",
       "8266 Victoria exc. Melbourne 65 and over 2025 2612  Series A          Annual   \n",
       "8267 Victoria exc. Melbourne 65 and over 2026 2783  Series A          Annual   \n",
       "8268 Victoria exc. Melbourne 65 and over 2027 2966  Series A          Annual   \n",
       "8269 Victoria exc. Melbourne 65 and over 2028 3121  Series A          Annual   \n",
       "8270 Victoria exc. Melbourne 65 and over 2029 3318  Series A          Annual   \n",
       "8271 Victoria exc. Melbourne 65 and over 2030 3507  Series A          Annual   \n",
       "8272 Victoria exc. Melbourne 65 and over 2031 3736  Series A          Annual   \n",
       "8273 West Kimberley          65 and over 2016  251  Series A          Annual   \n",
       "8274 West Kimberley          65 and over 2017  262  Series A          Annual   \n",
       "8275 West Kimberley          65 and over 2018  275  Series A          Annual   \n",
       "8276 West Kimberley          65 and over 2019  288  Series A          Annual   \n",
       "8277 West Kimberley          65 and over 2020  289  Series A          Annual   \n",
       "8278 West Kimberley          65 and over 2021  321  Series A          Annual   \n",
       "8279 West Kimberley          65 and over 2022  363  Series A          Annual   \n",
       "8280 West Kimberley          65 and over 2023  379  Series A          Annual   \n",
       "8281 West Kimberley          65 and over 2024  405  Series A          Annual   \n",
       "8282 West Kimberley          65 and over 2025  434  Series A          Annual   \n",
       "8283 West Kimberley          65 and over 2026  460  Series A          Annual   \n",
       "8284 West Kimberley          65 and over 2027  480  Series A          Annual   \n",
       "8285 West Kimberley          65 and over 2028  522  Series A          Annual   \n",
       "8286 West Kimberley          65 and over 2029  549  Series A          Annual   \n",
       "8287 West Kimberley          65 and over 2030  587  Series A          Annual   \n",
       "8288 West Kimberley          65 and over 2031  620  Series A          Annual   "
      ]
     },
     "metadata": {},
     "output_type": "display_data"
    }
   ],
   "source": [
    "#Remove the unnecessary column INDIGENOUS_REGION\n",
    "indig_byregion<-indig_byregion[,!(names(indig_byregion)=='INDIGENOUS_REGION')]\n",
    "\n",
    "#Take a look at the data\n",
    "indig_byregion"
   ]
  },
  {
   "cell_type": "markdown",
   "metadata": {},
   "source": [
    "The data is now fit for further analysis"
   ]
  },
  {
   "cell_type": "markdown",
   "metadata": {},
   "source": [
    "### 1.1 Investigate the Distribution of Indigenous Autralians <a class=\"anchor\" id=\"1.1\"></a>\n",
    "\n",
    "To get the regions with the maximum and minimum total Indigenous populations in 2016 and 2031, firstly we need to create a new dataframe where we group by indigenous region and time, and get the total population for each instance. Here we make use of `dplyr` library to do group by and obtain the sum"
   ]
  },
  {
   "cell_type": "code",
   "execution_count": 31,
   "metadata": {},
   "outputs": [],
   "source": [
    "library(dplyr)"
   ]
  },
  {
   "cell_type": "code",
   "execution_count": 36,
   "metadata": {},
   "outputs": [],
   "source": [
    "colnames(indig_byregion)[1]<-'Indigenous_region'"
   ]
  },
  {
   "cell_type": "code",
   "execution_count": 39,
   "metadata": {},
   "outputs": [],
   "source": [
    "tot_pop_year_region<-indig_byregion %>%\n",
    "    #Groupby region and time period\n",
    "    group_by(Indigenous_region,TIME) %>%\n",
    "    #in each groupby, get the sum of Value\n",
    "    summarize_at(vars(Value),funs(sum))"
   ]
  },
  {
   "cell_type": "code",
   "execution_count": 42,
   "metadata": {
    "scrolled": true
   },
   "outputs": [
    {
     "name": "stdout",
     "output_type": "stream",
     "text": [
      "Region with the maximum total Indigenous population in 2016 is  NSW Central and North Coast with the population of  85169"
     ]
    }
   ],
   "source": [
    "#To get the region with the maximum total indigenous population in 2016\n",
    "\n",
    "#Get all the rows where Time is 2016\n",
    "pop_2016<-tot_pop_year_region[tot_pop_year_region$TIME=='2016',]\n",
    "\n",
    "#Then, Get the row with the maximum indigenous population\n",
    "maxpop_2016<-pop_2016[which.max(pop_2016$Value),'Indigenous_region']\n",
    "\n",
    "#Display the result\n",
    "cat('Region with the maximum total Indigenous population in 2016 is ',as.character(maxpop_2016),'with the population of ',\n",
    "    max(pop_2016$Value))"
   ]
  },
  {
   "cell_type": "code",
   "execution_count": 43,
   "metadata": {},
   "outputs": [
    {
     "name": "stdout",
     "output_type": "stream",
     "text": [
      "Region with minimum total Indigenous population in 2016 is  Port Lincoln - Ceduna with the population of 2738"
     ]
    }
   ],
   "source": [
    "#To get the region with the minimum total indigenous population in 2016\n",
    "minpop_2016 <- pop_2016[which.min(pop_2016$Value),'Indigenous_region']\n",
    "cat('Region with minimum total Indigenous population in 2016 is ',as.character(minpop_2016),\n",
    "    'with the population of',min(pop_2016$Value))"
   ]
  },
  {
   "cell_type": "code",
   "execution_count": 44,
   "metadata": {},
   "outputs": [
    {
     "name": "stdout",
     "output_type": "stream",
     "text": [
      "Region with the maximum total Indigenous population in 2031 is  Brisbane with the population of  129835"
     ]
    }
   ],
   "source": [
    "#To get the region with the maximum total indigenous population in 2031\n",
    "\n",
    "#Get all the rows where Time is 2031\n",
    "pop_2031<-tot_pop_year_region[tot_pop_year_region$TIME=='2031',]\n",
    "\n",
    "#Then, Get the row with the maximum indigenous population\n",
    "maxpop_2031<-pop_2031[which.max(pop_2031$Value),'Indigenous_region']\n",
    "\n",
    "#Display the result\n",
    "cat('Region with the maximum total Indigenous population in 2031 is ',as.character(maxpop_2031),'with the population of ',\n",
    "    max(pop_2031$Value))"
   ]
  },
  {
   "cell_type": "code",
   "execution_count": 45,
   "metadata": {},
   "outputs": [
    {
     "name": "stdout",
     "output_type": "stream",
     "text": [
      "Region with minimum total Indigenous population in 2031 is  Port Lincoln - Ceduna with the population of 2881"
     ]
    }
   ],
   "source": [
    "#To get the region with the minimum total indigenous population in 2031\n",
    "minpop_2031 <- pop_2031[which.min(pop_2031$Value),'Indigenous_region']\n",
    "cat('Region with minimum total Indigenous population in 2031 is ',as.character(minpop_2031),\n",
    "    'with the population of',min(pop_2031$Value))"
   ]
  },
  {
   "cell_type": "markdown",
   "metadata": {},
   "source": [
    "Next, we find the growth rate of total indigenous population between 2016 and 2031 for each region. To do this, we merge the 2 dataframes above for the total indigenous population in 2016 and 2031."
   ]
  },
  {
   "cell_type": "code",
   "execution_count": 46,
   "metadata": {},
   "outputs": [],
   "source": [
    "pop_16_31<-merge(pop_2016,pop_2031,by.x='Indigenous_region',by.y='Indigenous_region')"
   ]
  },
  {
   "cell_type": "code",
   "execution_count": 47,
   "metadata": {},
   "outputs": [],
   "source": [
    "#Next, we calculate the growth/decay rate for each region\n",
    "pop_16_31$Rate<-((pop_16_31$Value.y-pop_16_31$Value.x)/pop_16_31$Value.x)*100"
   ]
  },
  {
   "cell_type": "code",
   "execution_count": 48,
   "metadata": {},
   "outputs": [
    {
     "name": "stdout",
     "output_type": "stream",
     "text": [
      "Region with the maximum growth rate of their total Indigenous population between 2016 and 2031 is  ACT  with the growth rate of  54.90483 %"
     ]
    }
   ],
   "source": [
    "#Now we check for the region with the maximum growth rate of their total Indigenous population between 2016 and 2031\n",
    "maxrate_16_31 <- pop_16_31[which.max(pop_16_31$Rate),'Indigenous_region']\n",
    "cat('Region with the maximum growth rate of their total Indigenous population between 2016 and 2031 is ',\n",
    "    maxrate_16_31,' with the growth rate of ',max(pop_16_31$Rate),'%')"
   ]
  },
  {
   "cell_type": "code",
   "execution_count": 49,
   "metadata": {},
   "outputs": [
    {
     "name": "stdout",
     "output_type": "stream",
     "text": [
      "Region with the minimum growth rate of their total Indigenous population between 2016 and 2031 is  Katherine  with the growth rate of  -8.659496 %"
     ]
    }
   ],
   "source": [
    "#Next we check for the region with the minimum growth rate of their total Indigenous population between 2016 and 2031\n",
    "minrate_16_31 <- pop_16_31[which.min(pop_16_31$Rate),'Indigenous_region']\n",
    "cat('Region with the minimum growth rate of their total Indigenous population between 2016 and 2031 is ',\n",
    "    minrate_16_31,' with the growth rate of ',min(pop_16_31$Rate),'%')"
   ]
  },
  {
   "cell_type": "markdown",
   "metadata": {},
   "source": [
    "Now, we want to plot and describe the growth/decay of the total Indigenous populations for the capitals of 8 states/territories across all time periods. However, from the datasets, not all the capitals are present. Hence, i will make some assumptions regarding these capitals. Since Canberra is missing, ACT(Australian Capital Territory) is taken to be the data for the capital of that state. Since Hobart is missing, Tasmania is taken to be the data for the capital of that state. Since Sydney is missing, Sydney-Wollongong is taken to be the capital of NSW"
   ]
  },
  {
   "cell_type": "code",
   "execution_count": 51,
   "metadata": {
    "scrolled": true
   },
   "outputs": [
    {
     "data": {
      "text/html": [
       "<table>\n",
       "<thead><tr><th scope=col>Indigenous_region</th><th scope=col>TIME</th><th scope=col>Value</th></tr></thead>\n",
       "<tbody>\n",
       "\t<tr><td>ACT     </td><td>2016    </td><td> 7513   </td></tr>\n",
       "\t<tr><td>ACT     </td><td>2017    </td><td> 7730   </td></tr>\n",
       "\t<tr><td>ACT     </td><td>2018    </td><td> 7956   </td></tr>\n",
       "\t<tr><td>ACT     </td><td>2019    </td><td> 8189   </td></tr>\n",
       "\t<tr><td>ACT     </td><td>2020    </td><td> 8431   </td></tr>\n",
       "\t<tr><td>ACT     </td><td>2021    </td><td> 8680   </td></tr>\n",
       "\t<tr><td>ACT     </td><td>2022    </td><td> 8936   </td></tr>\n",
       "\t<tr><td>ACT     </td><td>2023    </td><td> 9201   </td></tr>\n",
       "\t<tr><td>ACT     </td><td>2024    </td><td> 9474   </td></tr>\n",
       "\t<tr><td>ACT     </td><td>2025    </td><td> 9757   </td></tr>\n",
       "\t<tr><td>ACT     </td><td>2026    </td><td>10049   </td></tr>\n",
       "\t<tr><td>ACT     </td><td>2027    </td><td>10350   </td></tr>\n",
       "\t<tr><td>ACT     </td><td>2028    </td><td>10659   </td></tr>\n",
       "\t<tr><td>ACT     </td><td>2029    </td><td>10975   </td></tr>\n",
       "\t<tr><td>ACT     </td><td>2030    </td><td>11302   </td></tr>\n",
       "\t<tr><td>ACT     </td><td>2031    </td><td>11638   </td></tr>\n",
       "\t<tr><td>Adelaide</td><td>2016    </td><td>30124   </td></tr>\n",
       "\t<tr><td>Adelaide</td><td>2017    </td><td>30882   </td></tr>\n",
       "\t<tr><td>Adelaide</td><td>2018    </td><td>31670   </td></tr>\n",
       "\t<tr><td>Adelaide</td><td>2019    </td><td>32486   </td></tr>\n",
       "\t<tr><td>Adelaide</td><td>2020    </td><td>33337   </td></tr>\n",
       "\t<tr><td>Adelaide</td><td>2021    </td><td>34220   </td></tr>\n",
       "\t<tr><td>Adelaide</td><td>2022    </td><td>35133   </td></tr>\n",
       "\t<tr><td>Adelaide</td><td>2023    </td><td>36075   </td></tr>\n",
       "\t<tr><td>Adelaide</td><td>2024    </td><td>37046   </td></tr>\n",
       "\t<tr><td>Adelaide</td><td>2025    </td><td>38051   </td></tr>\n",
       "\t<tr><td>Adelaide</td><td>2026    </td><td>39086   </td></tr>\n",
       "\t<tr><td>Adelaide</td><td>2027    </td><td>40149   </td></tr>\n",
       "\t<tr><td>Adelaide</td><td>2028    </td><td>41243   </td></tr>\n",
       "\t<tr><td>Adelaide</td><td>2029    </td><td>42368   </td></tr>\n",
       "\t<tr><td>...</td><td>...</td><td>...</td></tr>\n",
       "\t<tr><td>Sydney - Wollongong</td><td>2018               </td><td> 84388             </td></tr>\n",
       "\t<tr><td>Sydney - Wollongong</td><td>2019               </td><td> 85849             </td></tr>\n",
       "\t<tr><td>Sydney - Wollongong</td><td>2020               </td><td> 87381             </td></tr>\n",
       "\t<tr><td>Sydney - Wollongong</td><td>2021               </td><td> 88982             </td></tr>\n",
       "\t<tr><td>Sydney - Wollongong</td><td>2022               </td><td> 90657             </td></tr>\n",
       "\t<tr><td>Sydney - Wollongong</td><td>2023               </td><td> 92409             </td></tr>\n",
       "\t<tr><td>Sydney - Wollongong</td><td>2024               </td><td> 94232             </td></tr>\n",
       "\t<tr><td>Sydney - Wollongong</td><td>2025               </td><td> 96123             </td></tr>\n",
       "\t<tr><td>Sydney - Wollongong</td><td>2026               </td><td> 98082             </td></tr>\n",
       "\t<tr><td>Sydney - Wollongong</td><td>2027               </td><td>100111             </td></tr>\n",
       "\t<tr><td>Sydney - Wollongong</td><td>2028               </td><td>102212             </td></tr>\n",
       "\t<tr><td>Sydney - Wollongong</td><td>2029               </td><td>104377             </td></tr>\n",
       "\t<tr><td>Sydney - Wollongong</td><td>2030               </td><td>106604             </td></tr>\n",
       "\t<tr><td>Sydney - Wollongong</td><td>2031               </td><td>108893             </td></tr>\n",
       "\t<tr><td>Tasmania           </td><td>2016               </td><td> 28537             </td></tr>\n",
       "\t<tr><td>Tasmania           </td><td>2017               </td><td> 29040             </td></tr>\n",
       "\t<tr><td>Tasmania           </td><td>2018               </td><td> 29561             </td></tr>\n",
       "\t<tr><td>Tasmania           </td><td>2019               </td><td> 30100             </td></tr>\n",
       "\t<tr><td>Tasmania           </td><td>2020               </td><td> 30658             </td></tr>\n",
       "\t<tr><td>Tasmania           </td><td>2021               </td><td> 31237             </td></tr>\n",
       "\t<tr><td>Tasmania           </td><td>2022               </td><td> 31838             </td></tr>\n",
       "\t<tr><td>Tasmania           </td><td>2023               </td><td> 32458             </td></tr>\n",
       "\t<tr><td>Tasmania           </td><td>2024               </td><td> 33098             </td></tr>\n",
       "\t<tr><td>Tasmania           </td><td>2025               </td><td> 33758             </td></tr>\n",
       "\t<tr><td>Tasmania           </td><td>2026               </td><td> 34435             </td></tr>\n",
       "\t<tr><td>Tasmania           </td><td>2027               </td><td> 35133             </td></tr>\n",
       "\t<tr><td>Tasmania           </td><td>2028               </td><td> 35852             </td></tr>\n",
       "\t<tr><td>Tasmania           </td><td>2029               </td><td> 36590             </td></tr>\n",
       "\t<tr><td>Tasmania           </td><td>2030               </td><td> 37346             </td></tr>\n",
       "\t<tr><td>Tasmania           </td><td>2031               </td><td> 38113             </td></tr>\n",
       "</tbody>\n",
       "</table>\n"
      ],
      "text/latex": [
       "\\begin{tabular}{r|lll}\n",
       " Indigenous\\_region & TIME & Value\\\\\n",
       "\\hline\n",
       "\t ACT      & 2016     &  7513   \\\\\n",
       "\t ACT      & 2017     &  7730   \\\\\n",
       "\t ACT      & 2018     &  7956   \\\\\n",
       "\t ACT      & 2019     &  8189   \\\\\n",
       "\t ACT      & 2020     &  8431   \\\\\n",
       "\t ACT      & 2021     &  8680   \\\\\n",
       "\t ACT      & 2022     &  8936   \\\\\n",
       "\t ACT      & 2023     &  9201   \\\\\n",
       "\t ACT      & 2024     &  9474   \\\\\n",
       "\t ACT      & 2025     &  9757   \\\\\n",
       "\t ACT      & 2026     & 10049   \\\\\n",
       "\t ACT      & 2027     & 10350   \\\\\n",
       "\t ACT      & 2028     & 10659   \\\\\n",
       "\t ACT      & 2029     & 10975   \\\\\n",
       "\t ACT      & 2030     & 11302   \\\\\n",
       "\t ACT      & 2031     & 11638   \\\\\n",
       "\t Adelaide & 2016     & 30124   \\\\\n",
       "\t Adelaide & 2017     & 30882   \\\\\n",
       "\t Adelaide & 2018     & 31670   \\\\\n",
       "\t Adelaide & 2019     & 32486   \\\\\n",
       "\t Adelaide & 2020     & 33337   \\\\\n",
       "\t Adelaide & 2021     & 34220   \\\\\n",
       "\t Adelaide & 2022     & 35133   \\\\\n",
       "\t Adelaide & 2023     & 36075   \\\\\n",
       "\t Adelaide & 2024     & 37046   \\\\\n",
       "\t Adelaide & 2025     & 38051   \\\\\n",
       "\t Adelaide & 2026     & 39086   \\\\\n",
       "\t Adelaide & 2027     & 40149   \\\\\n",
       "\t Adelaide & 2028     & 41243   \\\\\n",
       "\t Adelaide & 2029     & 42368   \\\\\n",
       "\t ... & ... & ...\\\\\n",
       "\t Sydney - Wollongong & 2018                &  84388             \\\\\n",
       "\t Sydney - Wollongong & 2019                &  85849             \\\\\n",
       "\t Sydney - Wollongong & 2020                &  87381             \\\\\n",
       "\t Sydney - Wollongong & 2021                &  88982             \\\\\n",
       "\t Sydney - Wollongong & 2022                &  90657             \\\\\n",
       "\t Sydney - Wollongong & 2023                &  92409             \\\\\n",
       "\t Sydney - Wollongong & 2024                &  94232             \\\\\n",
       "\t Sydney - Wollongong & 2025                &  96123             \\\\\n",
       "\t Sydney - Wollongong & 2026                &  98082             \\\\\n",
       "\t Sydney - Wollongong & 2027                & 100111             \\\\\n",
       "\t Sydney - Wollongong & 2028                & 102212             \\\\\n",
       "\t Sydney - Wollongong & 2029                & 104377             \\\\\n",
       "\t Sydney - Wollongong & 2030                & 106604             \\\\\n",
       "\t Sydney - Wollongong & 2031                & 108893             \\\\\n",
       "\t Tasmania            & 2016                &  28537             \\\\\n",
       "\t Tasmania            & 2017                &  29040             \\\\\n",
       "\t Tasmania            & 2018                &  29561             \\\\\n",
       "\t Tasmania            & 2019                &  30100             \\\\\n",
       "\t Tasmania            & 2020                &  30658             \\\\\n",
       "\t Tasmania            & 2021                &  31237             \\\\\n",
       "\t Tasmania            & 2022                &  31838             \\\\\n",
       "\t Tasmania            & 2023                &  32458             \\\\\n",
       "\t Tasmania            & 2024                &  33098             \\\\\n",
       "\t Tasmania            & 2025                &  33758             \\\\\n",
       "\t Tasmania            & 2026                &  34435             \\\\\n",
       "\t Tasmania            & 2027                &  35133             \\\\\n",
       "\t Tasmania            & 2028                &  35852             \\\\\n",
       "\t Tasmania            & 2029                &  36590             \\\\\n",
       "\t Tasmania            & 2030                &  37346             \\\\\n",
       "\t Tasmania            & 2031                &  38113             \\\\\n",
       "\\end{tabular}\n"
      ],
      "text/markdown": [
       "\n",
       "| Indigenous_region | TIME | Value |\n",
       "|---|---|---|\n",
       "| ACT      | 2016     |  7513    |\n",
       "| ACT      | 2017     |  7730    |\n",
       "| ACT      | 2018     |  7956    |\n",
       "| ACT      | 2019     |  8189    |\n",
       "| ACT      | 2020     |  8431    |\n",
       "| ACT      | 2021     |  8680    |\n",
       "| ACT      | 2022     |  8936    |\n",
       "| ACT      | 2023     |  9201    |\n",
       "| ACT      | 2024     |  9474    |\n",
       "| ACT      | 2025     |  9757    |\n",
       "| ACT      | 2026     | 10049    |\n",
       "| ACT      | 2027     | 10350    |\n",
       "| ACT      | 2028     | 10659    |\n",
       "| ACT      | 2029     | 10975    |\n",
       "| ACT      | 2030     | 11302    |\n",
       "| ACT      | 2031     | 11638    |\n",
       "| Adelaide | 2016     | 30124    |\n",
       "| Adelaide | 2017     | 30882    |\n",
       "| Adelaide | 2018     | 31670    |\n",
       "| Adelaide | 2019     | 32486    |\n",
       "| Adelaide | 2020     | 33337    |\n",
       "| Adelaide | 2021     | 34220    |\n",
       "| Adelaide | 2022     | 35133    |\n",
       "| Adelaide | 2023     | 36075    |\n",
       "| Adelaide | 2024     | 37046    |\n",
       "| Adelaide | 2025     | 38051    |\n",
       "| Adelaide | 2026     | 39086    |\n",
       "| Adelaide | 2027     | 40149    |\n",
       "| Adelaide | 2028     | 41243    |\n",
       "| Adelaide | 2029     | 42368    |\n",
       "| ... | ... | ... |\n",
       "| Sydney - Wollongong | 2018                |  84388              |\n",
       "| Sydney - Wollongong | 2019                |  85849              |\n",
       "| Sydney - Wollongong | 2020                |  87381              |\n",
       "| Sydney - Wollongong | 2021                |  88982              |\n",
       "| Sydney - Wollongong | 2022                |  90657              |\n",
       "| Sydney - Wollongong | 2023                |  92409              |\n",
       "| Sydney - Wollongong | 2024                |  94232              |\n",
       "| Sydney - Wollongong | 2025                |  96123              |\n",
       "| Sydney - Wollongong | 2026                |  98082              |\n",
       "| Sydney - Wollongong | 2027                | 100111              |\n",
       "| Sydney - Wollongong | 2028                | 102212              |\n",
       "| Sydney - Wollongong | 2029                | 104377              |\n",
       "| Sydney - Wollongong | 2030                | 106604              |\n",
       "| Sydney - Wollongong | 2031                | 108893              |\n",
       "| Tasmania            | 2016                |  28537              |\n",
       "| Tasmania            | 2017                |  29040              |\n",
       "| Tasmania            | 2018                |  29561              |\n",
       "| Tasmania            | 2019                |  30100              |\n",
       "| Tasmania            | 2020                |  30658              |\n",
       "| Tasmania            | 2021                |  31237              |\n",
       "| Tasmania            | 2022                |  31838              |\n",
       "| Tasmania            | 2023                |  32458              |\n",
       "| Tasmania            | 2024                |  33098              |\n",
       "| Tasmania            | 2025                |  33758              |\n",
       "| Tasmania            | 2026                |  34435              |\n",
       "| Tasmania            | 2027                |  35133              |\n",
       "| Tasmania            | 2028                |  35852              |\n",
       "| Tasmania            | 2029                |  36590              |\n",
       "| Tasmania            | 2030                |  37346              |\n",
       "| Tasmania            | 2031                |  38113              |\n",
       "\n"
      ],
      "text/plain": [
       "    Indigenous_region   TIME Value \n",
       "1   ACT                 2016  7513 \n",
       "2   ACT                 2017  7730 \n",
       "3   ACT                 2018  7956 \n",
       "4   ACT                 2019  8189 \n",
       "5   ACT                 2020  8431 \n",
       "6   ACT                 2021  8680 \n",
       "7   ACT                 2022  8936 \n",
       "8   ACT                 2023  9201 \n",
       "9   ACT                 2024  9474 \n",
       "10  ACT                 2025  9757 \n",
       "11  ACT                 2026 10049 \n",
       "12  ACT                 2027 10350 \n",
       "13  ACT                 2028 10659 \n",
       "14  ACT                 2029 10975 \n",
       "15  ACT                 2030 11302 \n",
       "16  ACT                 2031 11638 \n",
       "17  Adelaide            2016 30124 \n",
       "18  Adelaide            2017 30882 \n",
       "19  Adelaide            2018 31670 \n",
       "20  Adelaide            2019 32486 \n",
       "21  Adelaide            2020 33337 \n",
       "22  Adelaide            2021 34220 \n",
       "23  Adelaide            2022 35133 \n",
       "24  Adelaide            2023 36075 \n",
       "25  Adelaide            2024 37046 \n",
       "26  Adelaide            2025 38051 \n",
       "27  Adelaide            2026 39086 \n",
       "28  Adelaide            2027 40149 \n",
       "29  Adelaide            2028 41243 \n",
       "30  Adelaide            2029 42368 \n",
       "... ...                 ...  ...   \n",
       "99  Sydney - Wollongong 2018  84388\n",
       "100 Sydney - Wollongong 2019  85849\n",
       "101 Sydney - Wollongong 2020  87381\n",
       "102 Sydney - Wollongong 2021  88982\n",
       "103 Sydney - Wollongong 2022  90657\n",
       "104 Sydney - Wollongong 2023  92409\n",
       "105 Sydney - Wollongong 2024  94232\n",
       "106 Sydney - Wollongong 2025  96123\n",
       "107 Sydney - Wollongong 2026  98082\n",
       "108 Sydney - Wollongong 2027 100111\n",
       "109 Sydney - Wollongong 2028 102212\n",
       "110 Sydney - Wollongong 2029 104377\n",
       "111 Sydney - Wollongong 2030 106604\n",
       "112 Sydney - Wollongong 2031 108893\n",
       "113 Tasmania            2016  28537\n",
       "114 Tasmania            2017  29040\n",
       "115 Tasmania            2018  29561\n",
       "116 Tasmania            2019  30100\n",
       "117 Tasmania            2020  30658\n",
       "118 Tasmania            2021  31237\n",
       "119 Tasmania            2022  31838\n",
       "120 Tasmania            2023  32458\n",
       "121 Tasmania            2024  33098\n",
       "122 Tasmania            2025  33758\n",
       "123 Tasmania            2026  34435\n",
       "124 Tasmania            2027  35133\n",
       "125 Tasmania            2028  35852\n",
       "126 Tasmania            2029  36590\n",
       "127 Tasmania            2030  37346\n",
       "128 Tasmania            2031  38113"
      ]
     },
     "metadata": {},
     "output_type": "display_data"
    }
   ],
   "source": [
    "capital_pop <- tot_pop_year_region[tot_pop_year_region$Indigenous_region %in% c('ACT',\n",
    "    'Sydney - Wollongong','Darwin','Brisbane','Adelaide','Tasmania','Melbourne','Perth'),] \n",
    "capital_pop"
   ]
  },
  {
   "cell_type": "markdown",
   "metadata": {},
   "source": [
    "Now to get the growth rate across all time periods, for each Indigenous region, we create a function that iteratively take the difference between the upper row and the lower row in Value column and divide by the upper row, then times by 100, resulting in the growth rate in that time period. We then remove rows of year 2016, to only contain the non-zero grow rate."
   ]
  },
  {
   "cell_type": "code",
   "execution_count": 54,
   "metadata": {
    "scrolled": false
   },
   "outputs": [
    {
     "name": "stderr",
     "output_type": "stream",
     "text": [
      "Warning message in diff(x)/x:\n",
      "\"longer object length is not a multiple of shorter object length\"Warning message in diff(x)/x:\n",
      "\"longer object length is not a multiple of shorter object length\"Warning message in diff(x)/x:\n",
      "\"longer object length is not a multiple of shorter object length\"Warning message in diff(x)/x:\n",
      "\"longer object length is not a multiple of shorter object length\"Warning message in diff(x)/x:\n",
      "\"longer object length is not a multiple of shorter object length\"Warning message in diff(x)/x:\n",
      "\"longer object length is not a multiple of shorter object length\"Warning message in diff(x)/x:\n",
      "\"longer object length is not a multiple of shorter object length\"Warning message in diff(x)/x:\n",
      "\"longer object length is not a multiple of shorter object length\"Warning message in x[i] <- value[[j]]:\n",
      "\"number of items to replace is not a multiple of replacement length\"Warning message in x[i] <- value[[j]]:\n",
      "\"number of items to replace is not a multiple of replacement length\"Warning message in x[i] <- value[[j]]:\n",
      "\"number of items to replace is not a multiple of replacement length\"Warning message in x[i] <- value[[j]]:\n",
      "\"number of items to replace is not a multiple of replacement length\"Warning message in x[i] <- value[[j]]:\n",
      "\"number of items to replace is not a multiple of replacement length\"Warning message in x[i] <- value[[j]]:\n",
      "\"number of items to replace is not a multiple of replacement length\"Warning message in x[i] <- value[[j]]:\n",
      "\"number of items to replace is not a multiple of replacement length\"Warning message in x[i] <- value[[j]]:\n",
      "\"number of items to replace is not a multiple of replacement length\""
     ]
    }
   ],
   "source": [
    "capital_pop$rate<-ave(capital_pop$Value,capital_pop$Indigenous_region,FUN=function(x) c(0,(diff(x)/x)*100))"
   ]
  },
  {
   "cell_type": "code",
   "execution_count": 56,
   "metadata": {
    "scrolled": true
   },
   "outputs": [
    {
     "data": {
      "text/html": [
       "<table>\n",
       "<thead><tr><th scope=col>Indigenous_region</th><th scope=col>TIME</th><th scope=col>Value</th><th scope=col>rate</th></tr></thead>\n",
       "<tbody>\n",
       "\t<tr><td>ACT     </td><td>2017    </td><td> 7730   </td><td>2.888327</td></tr>\n",
       "\t<tr><td>ACT     </td><td>2018    </td><td> 7956   </td><td>2.923674</td></tr>\n",
       "\t<tr><td>ACT     </td><td>2019    </td><td> 8189   </td><td>2.928607</td></tr>\n",
       "\t<tr><td>ACT     </td><td>2020    </td><td> 8431   </td><td>2.955184</td></tr>\n",
       "\t<tr><td>ACT     </td><td>2021    </td><td> 8680   </td><td>2.953386</td></tr>\n",
       "\t<tr><td>ACT     </td><td>2022    </td><td> 8936   </td><td>2.949309</td></tr>\n",
       "\t<tr><td>ACT     </td><td>2023    </td><td> 9201   </td><td>2.965533</td></tr>\n",
       "\t<tr><td>ACT     </td><td>2024    </td><td> 9474   </td><td>2.967069</td></tr>\n",
       "\t<tr><td>ACT     </td><td>2025    </td><td> 9757   </td><td>2.987123</td></tr>\n",
       "\t<tr><td>ACT     </td><td>2026    </td><td>10049   </td><td>2.992723</td></tr>\n",
       "\t<tr><td>ACT     </td><td>2027    </td><td>10350   </td><td>2.995323</td></tr>\n",
       "\t<tr><td>ACT     </td><td>2028    </td><td>10659   </td><td>2.985507</td></tr>\n",
       "\t<tr><td>ACT     </td><td>2029    </td><td>10975   </td><td>2.964631</td></tr>\n",
       "\t<tr><td>ACT     </td><td>2030    </td><td>11302   </td><td>2.979499</td></tr>\n",
       "\t<tr><td>ACT     </td><td>2031    </td><td>11638   </td><td>2.972925</td></tr>\n",
       "\t<tr><td>Adelaide</td><td>2017    </td><td>30882   </td><td>2.516266</td></tr>\n",
       "\t<tr><td>Adelaide</td><td>2018    </td><td>31670   </td><td>2.551648</td></tr>\n",
       "\t<tr><td>Adelaide</td><td>2019    </td><td>32486   </td><td>2.576571</td></tr>\n",
       "\t<tr><td>Adelaide</td><td>2020    </td><td>33337   </td><td>2.619590</td></tr>\n",
       "\t<tr><td>Adelaide</td><td>2021    </td><td>34220   </td><td>2.648709</td></tr>\n",
       "\t<tr><td>Adelaide</td><td>2022    </td><td>35133   </td><td>2.668030</td></tr>\n",
       "\t<tr><td>Adelaide</td><td>2023    </td><td>36075   </td><td>2.681240</td></tr>\n",
       "\t<tr><td>Adelaide</td><td>2024    </td><td>37046   </td><td>2.691615</td></tr>\n",
       "\t<tr><td>Adelaide</td><td>2025    </td><td>38051   </td><td>2.712843</td></tr>\n",
       "\t<tr><td>Adelaide</td><td>2026    </td><td>39086   </td><td>2.720034</td></tr>\n",
       "\t<tr><td>Adelaide</td><td>2027    </td><td>40149   </td><td>2.719644</td></tr>\n",
       "\t<tr><td>Adelaide</td><td>2028    </td><td>41243   </td><td>2.724850</td></tr>\n",
       "\t<tr><td>Adelaide</td><td>2029    </td><td>42368   </td><td>2.727736</td></tr>\n",
       "\t<tr><td>Adelaide</td><td>2030    </td><td>43524   </td><td>2.728474</td></tr>\n",
       "\t<tr><td>Adelaide</td><td>2031    </td><td>44711   </td><td>2.727231</td></tr>\n",
       "\t<tr><td>...</td><td>...</td><td>...</td><td>...</td></tr>\n",
       "\t<tr><td>Sydney - Wollongong</td><td>2017               </td><td> 83001             </td><td>1.611067           </td></tr>\n",
       "\t<tr><td>Sydney - Wollongong</td><td>2018               </td><td> 84388             </td><td>1.671064           </td></tr>\n",
       "\t<tr><td>Sydney - Wollongong</td><td>2019               </td><td> 85849             </td><td>1.731289           </td></tr>\n",
       "\t<tr><td>Sydney - Wollongong</td><td>2020               </td><td> 87381             </td><td>1.784529           </td></tr>\n",
       "\t<tr><td>Sydney - Wollongong</td><td>2021               </td><td> 88982             </td><td>1.832206           </td></tr>\n",
       "\t<tr><td>Sydney - Wollongong</td><td>2022               </td><td> 90657             </td><td>1.882403           </td></tr>\n",
       "\t<tr><td>Sydney - Wollongong</td><td>2023               </td><td> 92409             </td><td>1.932559           </td></tr>\n",
       "\t<tr><td>Sydney - Wollongong</td><td>2024               </td><td> 94232             </td><td>1.972752           </td></tr>\n",
       "\t<tr><td>Sydney - Wollongong</td><td>2025               </td><td> 96123             </td><td>2.006749           </td></tr>\n",
       "\t<tr><td>Sydney - Wollongong</td><td>2026               </td><td> 98082             </td><td>2.038014           </td></tr>\n",
       "\t<tr><td>Sydney - Wollongong</td><td>2027               </td><td>100111             </td><td>2.068677           </td></tr>\n",
       "\t<tr><td>Sydney - Wollongong</td><td>2028               </td><td>102212             </td><td>2.098670           </td></tr>\n",
       "\t<tr><td>Sydney - Wollongong</td><td>2029               </td><td>104377             </td><td>2.118147           </td></tr>\n",
       "\t<tr><td>Sydney - Wollongong</td><td>2030               </td><td>106604             </td><td>2.133612           </td></tr>\n",
       "\t<tr><td>Sydney - Wollongong</td><td>2031               </td><td>108893             </td><td>2.147199           </td></tr>\n",
       "\t<tr><td>Tasmania           </td><td>2017               </td><td> 29040             </td><td>1.762624           </td></tr>\n",
       "\t<tr><td>Tasmania           </td><td>2018               </td><td> 29561             </td><td>1.794077           </td></tr>\n",
       "\t<tr><td>Tasmania           </td><td>2019               </td><td> 30100             </td><td>1.823348           </td></tr>\n",
       "\t<tr><td>Tasmania           </td><td>2020               </td><td> 30658             </td><td>1.853821           </td></tr>\n",
       "\t<tr><td>Tasmania           </td><td>2021               </td><td> 31237             </td><td>1.888577           </td></tr>\n",
       "\t<tr><td>Tasmania           </td><td>2022               </td><td> 31838             </td><td>1.924000           </td></tr>\n",
       "\t<tr><td>Tasmania           </td><td>2023               </td><td> 32458             </td><td>1.947359           </td></tr>\n",
       "\t<tr><td>Tasmania           </td><td>2024               </td><td> 33098             </td><td>1.971779           </td></tr>\n",
       "\t<tr><td>Tasmania           </td><td>2025               </td><td> 33758             </td><td>1.994078           </td></tr>\n",
       "\t<tr><td>Tasmania           </td><td>2026               </td><td> 34435             </td><td>2.005451           </td></tr>\n",
       "\t<tr><td>Tasmania           </td><td>2027               </td><td> 35133             </td><td>2.027007           </td></tr>\n",
       "\t<tr><td>Tasmania           </td><td>2028               </td><td> 35852             </td><td>2.046509           </td></tr>\n",
       "\t<tr><td>Tasmania           </td><td>2029               </td><td> 36590             </td><td>2.058463           </td></tr>\n",
       "\t<tr><td>Tasmania           </td><td>2030               </td><td> 37346             </td><td>2.066138           </td></tr>\n",
       "\t<tr><td>Tasmania           </td><td>2031               </td><td> 38113             </td><td>2.053767           </td></tr>\n",
       "</tbody>\n",
       "</table>\n"
      ],
      "text/latex": [
       "\\begin{tabular}{r|llll}\n",
       " Indigenous\\_region & TIME & Value & rate\\\\\n",
       "\\hline\n",
       "\t ACT      & 2017     &  7730    & 2.888327\\\\\n",
       "\t ACT      & 2018     &  7956    & 2.923674\\\\\n",
       "\t ACT      & 2019     &  8189    & 2.928607\\\\\n",
       "\t ACT      & 2020     &  8431    & 2.955184\\\\\n",
       "\t ACT      & 2021     &  8680    & 2.953386\\\\\n",
       "\t ACT      & 2022     &  8936    & 2.949309\\\\\n",
       "\t ACT      & 2023     &  9201    & 2.965533\\\\\n",
       "\t ACT      & 2024     &  9474    & 2.967069\\\\\n",
       "\t ACT      & 2025     &  9757    & 2.987123\\\\\n",
       "\t ACT      & 2026     & 10049    & 2.992723\\\\\n",
       "\t ACT      & 2027     & 10350    & 2.995323\\\\\n",
       "\t ACT      & 2028     & 10659    & 2.985507\\\\\n",
       "\t ACT      & 2029     & 10975    & 2.964631\\\\\n",
       "\t ACT      & 2030     & 11302    & 2.979499\\\\\n",
       "\t ACT      & 2031     & 11638    & 2.972925\\\\\n",
       "\t Adelaide & 2017     & 30882    & 2.516266\\\\\n",
       "\t Adelaide & 2018     & 31670    & 2.551648\\\\\n",
       "\t Adelaide & 2019     & 32486    & 2.576571\\\\\n",
       "\t Adelaide & 2020     & 33337    & 2.619590\\\\\n",
       "\t Adelaide & 2021     & 34220    & 2.648709\\\\\n",
       "\t Adelaide & 2022     & 35133    & 2.668030\\\\\n",
       "\t Adelaide & 2023     & 36075    & 2.681240\\\\\n",
       "\t Adelaide & 2024     & 37046    & 2.691615\\\\\n",
       "\t Adelaide & 2025     & 38051    & 2.712843\\\\\n",
       "\t Adelaide & 2026     & 39086    & 2.720034\\\\\n",
       "\t Adelaide & 2027     & 40149    & 2.719644\\\\\n",
       "\t Adelaide & 2028     & 41243    & 2.724850\\\\\n",
       "\t Adelaide & 2029     & 42368    & 2.727736\\\\\n",
       "\t Adelaide & 2030     & 43524    & 2.728474\\\\\n",
       "\t Adelaide & 2031     & 44711    & 2.727231\\\\\n",
       "\t ... & ... & ... & ...\\\\\n",
       "\t Sydney - Wollongong & 2017                &  83001              & 1.611067           \\\\\n",
       "\t Sydney - Wollongong & 2018                &  84388              & 1.671064           \\\\\n",
       "\t Sydney - Wollongong & 2019                &  85849              & 1.731289           \\\\\n",
       "\t Sydney - Wollongong & 2020                &  87381              & 1.784529           \\\\\n",
       "\t Sydney - Wollongong & 2021                &  88982              & 1.832206           \\\\\n",
       "\t Sydney - Wollongong & 2022                &  90657              & 1.882403           \\\\\n",
       "\t Sydney - Wollongong & 2023                &  92409              & 1.932559           \\\\\n",
       "\t Sydney - Wollongong & 2024                &  94232              & 1.972752           \\\\\n",
       "\t Sydney - Wollongong & 2025                &  96123              & 2.006749           \\\\\n",
       "\t Sydney - Wollongong & 2026                &  98082              & 2.038014           \\\\\n",
       "\t Sydney - Wollongong & 2027                & 100111              & 2.068677           \\\\\n",
       "\t Sydney - Wollongong & 2028                & 102212              & 2.098670           \\\\\n",
       "\t Sydney - Wollongong & 2029                & 104377              & 2.118147           \\\\\n",
       "\t Sydney - Wollongong & 2030                & 106604              & 2.133612           \\\\\n",
       "\t Sydney - Wollongong & 2031                & 108893              & 2.147199           \\\\\n",
       "\t Tasmania            & 2017                &  29040              & 1.762624           \\\\\n",
       "\t Tasmania            & 2018                &  29561              & 1.794077           \\\\\n",
       "\t Tasmania            & 2019                &  30100              & 1.823348           \\\\\n",
       "\t Tasmania            & 2020                &  30658              & 1.853821           \\\\\n",
       "\t Tasmania            & 2021                &  31237              & 1.888577           \\\\\n",
       "\t Tasmania            & 2022                &  31838              & 1.924000           \\\\\n",
       "\t Tasmania            & 2023                &  32458              & 1.947359           \\\\\n",
       "\t Tasmania            & 2024                &  33098              & 1.971779           \\\\\n",
       "\t Tasmania            & 2025                &  33758              & 1.994078           \\\\\n",
       "\t Tasmania            & 2026                &  34435              & 2.005451           \\\\\n",
       "\t Tasmania            & 2027                &  35133              & 2.027007           \\\\\n",
       "\t Tasmania            & 2028                &  35852              & 2.046509           \\\\\n",
       "\t Tasmania            & 2029                &  36590              & 2.058463           \\\\\n",
       "\t Tasmania            & 2030                &  37346              & 2.066138           \\\\\n",
       "\t Tasmania            & 2031                &  38113              & 2.053767           \\\\\n",
       "\\end{tabular}\n"
      ],
      "text/markdown": [
       "\n",
       "| Indigenous_region | TIME | Value | rate |\n",
       "|---|---|---|---|\n",
       "| ACT      | 2017     |  7730    | 2.888327 |\n",
       "| ACT      | 2018     |  7956    | 2.923674 |\n",
       "| ACT      | 2019     |  8189    | 2.928607 |\n",
       "| ACT      | 2020     |  8431    | 2.955184 |\n",
       "| ACT      | 2021     |  8680    | 2.953386 |\n",
       "| ACT      | 2022     |  8936    | 2.949309 |\n",
       "| ACT      | 2023     |  9201    | 2.965533 |\n",
       "| ACT      | 2024     |  9474    | 2.967069 |\n",
       "| ACT      | 2025     |  9757    | 2.987123 |\n",
       "| ACT      | 2026     | 10049    | 2.992723 |\n",
       "| ACT      | 2027     | 10350    | 2.995323 |\n",
       "| ACT      | 2028     | 10659    | 2.985507 |\n",
       "| ACT      | 2029     | 10975    | 2.964631 |\n",
       "| ACT      | 2030     | 11302    | 2.979499 |\n",
       "| ACT      | 2031     | 11638    | 2.972925 |\n",
       "| Adelaide | 2017     | 30882    | 2.516266 |\n",
       "| Adelaide | 2018     | 31670    | 2.551648 |\n",
       "| Adelaide | 2019     | 32486    | 2.576571 |\n",
       "| Adelaide | 2020     | 33337    | 2.619590 |\n",
       "| Adelaide | 2021     | 34220    | 2.648709 |\n",
       "| Adelaide | 2022     | 35133    | 2.668030 |\n",
       "| Adelaide | 2023     | 36075    | 2.681240 |\n",
       "| Adelaide | 2024     | 37046    | 2.691615 |\n",
       "| Adelaide | 2025     | 38051    | 2.712843 |\n",
       "| Adelaide | 2026     | 39086    | 2.720034 |\n",
       "| Adelaide | 2027     | 40149    | 2.719644 |\n",
       "| Adelaide | 2028     | 41243    | 2.724850 |\n",
       "| Adelaide | 2029     | 42368    | 2.727736 |\n",
       "| Adelaide | 2030     | 43524    | 2.728474 |\n",
       "| Adelaide | 2031     | 44711    | 2.727231 |\n",
       "| ... | ... | ... | ... |\n",
       "| Sydney - Wollongong | 2017                |  83001              | 1.611067            |\n",
       "| Sydney - Wollongong | 2018                |  84388              | 1.671064            |\n",
       "| Sydney - Wollongong | 2019                |  85849              | 1.731289            |\n",
       "| Sydney - Wollongong | 2020                |  87381              | 1.784529            |\n",
       "| Sydney - Wollongong | 2021                |  88982              | 1.832206            |\n",
       "| Sydney - Wollongong | 2022                |  90657              | 1.882403            |\n",
       "| Sydney - Wollongong | 2023                |  92409              | 1.932559            |\n",
       "| Sydney - Wollongong | 2024                |  94232              | 1.972752            |\n",
       "| Sydney - Wollongong | 2025                |  96123              | 2.006749            |\n",
       "| Sydney - Wollongong | 2026                |  98082              | 2.038014            |\n",
       "| Sydney - Wollongong | 2027                | 100111              | 2.068677            |\n",
       "| Sydney - Wollongong | 2028                | 102212              | 2.098670            |\n",
       "| Sydney - Wollongong | 2029                | 104377              | 2.118147            |\n",
       "| Sydney - Wollongong | 2030                | 106604              | 2.133612            |\n",
       "| Sydney - Wollongong | 2031                | 108893              | 2.147199            |\n",
       "| Tasmania            | 2017                |  29040              | 1.762624            |\n",
       "| Tasmania            | 2018                |  29561              | 1.794077            |\n",
       "| Tasmania            | 2019                |  30100              | 1.823348            |\n",
       "| Tasmania            | 2020                |  30658              | 1.853821            |\n",
       "| Tasmania            | 2021                |  31237              | 1.888577            |\n",
       "| Tasmania            | 2022                |  31838              | 1.924000            |\n",
       "| Tasmania            | 2023                |  32458              | 1.947359            |\n",
       "| Tasmania            | 2024                |  33098              | 1.971779            |\n",
       "| Tasmania            | 2025                |  33758              | 1.994078            |\n",
       "| Tasmania            | 2026                |  34435              | 2.005451            |\n",
       "| Tasmania            | 2027                |  35133              | 2.027007            |\n",
       "| Tasmania            | 2028                |  35852              | 2.046509            |\n",
       "| Tasmania            | 2029                |  36590              | 2.058463            |\n",
       "| Tasmania            | 2030                |  37346              | 2.066138            |\n",
       "| Tasmania            | 2031                |  38113              | 2.053767            |\n",
       "\n"
      ],
      "text/plain": [
       "    Indigenous_region   TIME Value  rate    \n",
       "1   ACT                 2017  7730  2.888327\n",
       "2   ACT                 2018  7956  2.923674\n",
       "3   ACT                 2019  8189  2.928607\n",
       "4   ACT                 2020  8431  2.955184\n",
       "5   ACT                 2021  8680  2.953386\n",
       "6   ACT                 2022  8936  2.949309\n",
       "7   ACT                 2023  9201  2.965533\n",
       "8   ACT                 2024  9474  2.967069\n",
       "9   ACT                 2025  9757  2.987123\n",
       "10  ACT                 2026 10049  2.992723\n",
       "11  ACT                 2027 10350  2.995323\n",
       "12  ACT                 2028 10659  2.985507\n",
       "13  ACT                 2029 10975  2.964631\n",
       "14  ACT                 2030 11302  2.979499\n",
       "15  ACT                 2031 11638  2.972925\n",
       "16  Adelaide            2017 30882  2.516266\n",
       "17  Adelaide            2018 31670  2.551648\n",
       "18  Adelaide            2019 32486  2.576571\n",
       "19  Adelaide            2020 33337  2.619590\n",
       "20  Adelaide            2021 34220  2.648709\n",
       "21  Adelaide            2022 35133  2.668030\n",
       "22  Adelaide            2023 36075  2.681240\n",
       "23  Adelaide            2024 37046  2.691615\n",
       "24  Adelaide            2025 38051  2.712843\n",
       "25  Adelaide            2026 39086  2.720034\n",
       "26  Adelaide            2027 40149  2.719644\n",
       "27  Adelaide            2028 41243  2.724850\n",
       "28  Adelaide            2029 42368  2.727736\n",
       "29  Adelaide            2030 43524  2.728474\n",
       "30  Adelaide            2031 44711  2.727231\n",
       "... ...                 ...  ...    ...     \n",
       "91  Sydney - Wollongong 2017  83001 1.611067\n",
       "92  Sydney - Wollongong 2018  84388 1.671064\n",
       "93  Sydney - Wollongong 2019  85849 1.731289\n",
       "94  Sydney - Wollongong 2020  87381 1.784529\n",
       "95  Sydney - Wollongong 2021  88982 1.832206\n",
       "96  Sydney - Wollongong 2022  90657 1.882403\n",
       "97  Sydney - Wollongong 2023  92409 1.932559\n",
       "98  Sydney - Wollongong 2024  94232 1.972752\n",
       "99  Sydney - Wollongong 2025  96123 2.006749\n",
       "100 Sydney - Wollongong 2026  98082 2.038014\n",
       "101 Sydney - Wollongong 2027 100111 2.068677\n",
       "102 Sydney - Wollongong 2028 102212 2.098670\n",
       "103 Sydney - Wollongong 2029 104377 2.118147\n",
       "104 Sydney - Wollongong 2030 106604 2.133612\n",
       "105 Sydney - Wollongong 2031 108893 2.147199\n",
       "106 Tasmania            2017  29040 1.762624\n",
       "107 Tasmania            2018  29561 1.794077\n",
       "108 Tasmania            2019  30100 1.823348\n",
       "109 Tasmania            2020  30658 1.853821\n",
       "110 Tasmania            2021  31237 1.888577\n",
       "111 Tasmania            2022  31838 1.924000\n",
       "112 Tasmania            2023  32458 1.947359\n",
       "113 Tasmania            2024  33098 1.971779\n",
       "114 Tasmania            2025  33758 1.994078\n",
       "115 Tasmania            2026  34435 2.005451\n",
       "116 Tasmania            2027  35133 2.027007\n",
       "117 Tasmania            2028  35852 2.046509\n",
       "118 Tasmania            2029  36590 2.058463\n",
       "119 Tasmania            2030  37346 2.066138\n",
       "120 Tasmania            2031  38113 2.053767"
      ]
     },
     "metadata": {},
     "output_type": "display_data"
    }
   ],
   "source": [
    "capital_pop<-capital_pop[capital_pop$TIME!='2016',]\n",
    "capital_pop"
   ]
  },
  {
   "cell_type": "markdown",
   "metadata": {},
   "source": [
    "Next, we plot line graphs containing growth rate of total indigenous population for 8 capitals on the same graph"
   ]
  },
  {
   "cell_type": "code",
   "execution_count": 58,
   "metadata": {},
   "outputs": [
    {
     "data": {
      "image/png": "[encoded data removed]",
      "text/plain": [
       "plot without title"
      ]
     },
     "metadata": {},
     "output_type": "display_data"
    }
   ],
   "source": [
    "capital_pop %>%\n",
    "    ggplot(aes(TIME,rate,colour=Indigenous_region,group=Indigenous_region)) +\n",
    "    scale_x_continuous(breaks=seq(2017,2031,by=1))+\n",
    "    geom_line()+\n",
    "    labs(title='Growth rate of total Indigenous populations for capitals of 8 states across all time periods',\n",
    "        y='Growth rate',x='Time period')"
   ]
  },
  {
   "cell_type": "markdown",
   "metadata": {},
   "source": [
    "From the above graph, it seems like ACT has the highest growth rate. However, given the assumption that we take ACT as the capital of itself, since the actual capital is missing, we should take this result with a grain of salt. On the other hand, capital of Queensland - Brisbane- comes in second in terms of growth rate. Over the years, the growth rates of both of these capitals seem to be relatively consistent, hovering around 2.8% to 2.9%.\n",
    "\n",
    "Perth, Adelaide and Melbourne come next in the list respectively. All of these 3 capitals see an increasing trend in growth rate over the year, with Melbourne having the greatest rate of increase, followed by Adelaide and Perth. It is projected that around 2029 to 2031, all 3 of these capitals will see a consistent growth rate of about 2.75%.\n",
    "\n",
    "Tasmania and Sydney-Wollongong have a lower growth rate, but there is an increasing trend of growth rate over the years, with a more significant increase rate for Sydney-Wollongong. The growth rate is projected to increase from 1.61% in 2017 to 2.14% in 2031 for Sydney-Wollongong. Meanwhile, the numbers are 1.76% in 2017 to 2.05% in 2031 for Tasmania. However, keep in mind that these 2 are not actually capitals but only proxies.\n",
    "\n",
    "Darwin is projected to have the lowest growth rate out of all 8 capitals, with a decreasing trend over the years. It is projected to fall from 1.28% in 2017 to 1.22% in 2031."
   ]
  },
  {
   "cell_type": "markdown",
   "metadata": {},
   "source": [
    "### 1.2 Investigate the Ages of Indigenous Australians <a class=\"anchor\" id=\"1.2\"></a>\n",
    "\n",
    "On average, the lifespan of Indigenous Australians is lower than that of the overall Australian\n",
    "population, due to a variety of socio-economic factors. The data give separate populations\n",
    "for different ages or age groups, but because this is about living populations, not when they die,\n",
    "we can’t use it to calculate average lifespans. Instead, let’s look at how many children are in the\n",
    "populations.\n",
    "\n",
    "We find which region has the highest percentage of children in its total 2016 population"
   ]
  },
  {
   "cell_type": "code",
   "execution_count": 61,
   "metadata": {},
   "outputs": [],
   "source": [
    "children_2016<-indig_byregion %>%\n",
    "    #Consider children to be from age 0 until 9\n",
    "    filter(TIME=='2016',Age %in% c('0 - 4','5 - 9')) %>%\n",
    "    group_by(Indigenous_region) %>%\n",
    "    summarize_at(vars(Value),funs(sum))"
   ]
  },
  {
   "cell_type": "code",
   "execution_count": 62,
   "metadata": {},
   "outputs": [
    {
     "name": "stdout",
     "output_type": "stream",
     "text": [
      "Region with the highest percentage of children in its total 2016 population is  Toowoomba - Roma with the percentage of  27.41452 %"
     ]
    }
   ],
   "source": [
    "#For each region, we calculate the percentage of children and get the region with the highest percentage\n",
    "percent_2016<-merge(children_2016,pop_2016,by.x='Indigenous_region',by.y='Indigenous_region')\n",
    "percent_2016$child_percent<-(percent_2016$Value.x)/(percent_2016$Value.y)*100\n",
    "highest_child_region_2016<-percent_2016[which.max(percent_2016$child_percent),'Indigenous_region']\n",
    "cat('Region with the highest percentage of children in its total 2016 population is ',\n",
    "    highest_child_region_2016, 'with the percentage of ',max(percent_2016$child_percent),'%')"
   ]
  },
  {
   "cell_type": "markdown",
   "metadata": {},
   "source": [
    "Next, make use of `IndigAusPopData_bystate` data, we find out which state or territory has the highest percentage of children in its total 2031 populations"
   ]
  },
  {
   "cell_type": "code",
   "execution_count": 63,
   "metadata": {
    "scrolled": true
   },
   "outputs": [
    {
     "name": "stderr",
     "output_type": "stream",
     "text": [
      "\n",
      "\u001b[36m--\u001b[39m \u001b[1m\u001b[1mColumn specification\u001b[1m\u001b[22m \u001b[36m------------------------------------------------------------------------------------------------\u001b[39m\n",
      "cols(\n",
      "  .default = col_number(),\n",
      "  Age = \u001b[31mcol_character()\u001b[39m,\n",
      "  State = \u001b[31mcol_character()\u001b[39m\n",
      ")\n",
      "\u001b[36mi\u001b[39m Use \u001b[38;5;235m\u001b[48;5;253m\u001b[38;5;235m\u001b[48;5;253m`spec()`\u001b[48;5;253m\u001b[38;5;235m\u001b[49m\u001b[39m for the full column specifications.\n",
      "\n"
     ]
    },
    {
     "data": {
      "text/html": [
       "<table>\n",
       "<thead><tr><th scope=col>Age</th><th scope=col>State</th><th scope=col>Year</th><th scope=col>Value</th></tr></thead>\n",
       "<tbody>\n",
       "\t<tr><td>0   </td><td>NSW </td><td>2006</td><td>6024</td></tr>\n",
       "\t<tr><td>0   </td><td>Vic </td><td>2006</td><td>1255</td></tr>\n",
       "\t<tr><td>0   </td><td>QLD </td><td>2006</td><td>5324</td></tr>\n",
       "\t<tr><td>0   </td><td>SA  </td><td>2006</td><td>1007</td></tr>\n",
       "\t<tr><td>0   </td><td>WA  </td><td>2006</td><td>2391</td></tr>\n",
       "\t<tr><td>0   </td><td>Tas </td><td>2006</td><td> 679</td></tr>\n",
       "\t<tr><td>0   </td><td>NT  </td><td>2006</td><td>1446</td></tr>\n",
       "\t<tr><td>0   </td><td>ACT </td><td>2006</td><td> 158</td></tr>\n",
       "\t<tr><td>1   </td><td>NSW </td><td>2006</td><td>5691</td></tr>\n",
       "\t<tr><td>1   </td><td>Vic </td><td>2006</td><td>1156</td></tr>\n",
       "\t<tr><td>1   </td><td>QLD </td><td>2006</td><td>5183</td></tr>\n",
       "\t<tr><td>1   </td><td>SA  </td><td>2006</td><td> 931</td></tr>\n",
       "\t<tr><td>1   </td><td>WA  </td><td>2006</td><td>2137</td></tr>\n",
       "\t<tr><td>1   </td><td>Tas </td><td>2006</td><td> 624</td></tr>\n",
       "\t<tr><td>1   </td><td>NT  </td><td>2006</td><td>1396</td></tr>\n",
       "\t<tr><td>1   </td><td>ACT </td><td>2006</td><td> 145</td></tr>\n",
       "\t<tr><td>2   </td><td>NSW </td><td>2006</td><td>5726</td></tr>\n",
       "\t<tr><td>2   </td><td>Vic </td><td>2006</td><td>1211</td></tr>\n",
       "\t<tr><td>2   </td><td>QLD </td><td>2006</td><td>4990</td></tr>\n",
       "\t<tr><td>2   </td><td>SA  </td><td>2006</td><td> 922</td></tr>\n",
       "\t<tr><td>2   </td><td>WA  </td><td>2006</td><td>2051</td></tr>\n",
       "\t<tr><td>2   </td><td>Tas </td><td>2006</td><td> 632</td></tr>\n",
       "\t<tr><td>2   </td><td>NT  </td><td>2006</td><td>1377</td></tr>\n",
       "\t<tr><td>2   </td><td>ACT </td><td>2006</td><td> 138</td></tr>\n",
       "\t<tr><td>3   </td><td>NSW </td><td>2006</td><td>5686</td></tr>\n",
       "\t<tr><td>3   </td><td>Vic </td><td>2006</td><td>1205</td></tr>\n",
       "\t<tr><td>3   </td><td>QLD </td><td>2006</td><td>5022</td></tr>\n",
       "\t<tr><td>3   </td><td>SA  </td><td>2006</td><td> 893</td></tr>\n",
       "\t<tr><td>3   </td><td>WA  </td><td>2006</td><td>2114</td></tr>\n",
       "\t<tr><td>3   </td><td>Tas </td><td>2006</td><td> 592</td></tr>\n",
       "\t<tr><td>...</td><td>...</td><td>...</td><td>...</td></tr>\n",
       "\t<tr><td>62         </td><td>QLD        </td><td>2031       </td><td> 2137      </td></tr>\n",
       "\t<tr><td>62         </td><td>SA         </td><td>2031       </td><td>  380      </td></tr>\n",
       "\t<tr><td>62         </td><td>WA         </td><td>2031       </td><td> 1040      </td></tr>\n",
       "\t<tr><td>62         </td><td>Tas        </td><td>2031       </td><td>  337      </td></tr>\n",
       "\t<tr><td>62         </td><td>NT         </td><td>2031       </td><td>  745      </td></tr>\n",
       "\t<tr><td>62         </td><td>ACT        </td><td>2031       </td><td>   86      </td></tr>\n",
       "\t<tr><td>63         </td><td>NSW        </td><td>2031       </td><td> 2418      </td></tr>\n",
       "\t<tr><td>63         </td><td>Vic        </td><td>2031       </td><td>  575      </td></tr>\n",
       "\t<tr><td>63         </td><td>QLD        </td><td>2031       </td><td> 2088      </td></tr>\n",
       "\t<tr><td>63         </td><td>SA         </td><td>2031       </td><td>  400      </td></tr>\n",
       "\t<tr><td>63         </td><td>WA         </td><td>2031       </td><td>  959      </td></tr>\n",
       "\t<tr><td>63         </td><td>Tas        </td><td>2031       </td><td>  319      </td></tr>\n",
       "\t<tr><td>63         </td><td>NT         </td><td>2031       </td><td>  774      </td></tr>\n",
       "\t<tr><td>63         </td><td>ACT        </td><td>2031       </td><td>   92      </td></tr>\n",
       "\t<tr><td>64         </td><td>NSW        </td><td>2031       </td><td> 2258      </td></tr>\n",
       "\t<tr><td>64         </td><td>Vic        </td><td>2031       </td><td>  575      </td></tr>\n",
       "\t<tr><td>64         </td><td>QLD        </td><td>2031       </td><td> 1874      </td></tr>\n",
       "\t<tr><td>64         </td><td>SA         </td><td>2031       </td><td>  386      </td></tr>\n",
       "\t<tr><td>64         </td><td>WA         </td><td>2031       </td><td>  982      </td></tr>\n",
       "\t<tr><td>64         </td><td>Tas        </td><td>2031       </td><td>  282      </td></tr>\n",
       "\t<tr><td>64         </td><td>NT         </td><td>2031       </td><td>  746      </td></tr>\n",
       "\t<tr><td>64         </td><td>ACT        </td><td>2031       </td><td>   83      </td></tr>\n",
       "\t<tr><td>65 and over</td><td>NSW        </td><td>2031       </td><td>29777      </td></tr>\n",
       "\t<tr><td>65 and over</td><td>Vic        </td><td>2031       </td><td> 6316      </td></tr>\n",
       "\t<tr><td>65 and over</td><td>QLD        </td><td>2031       </td><td>23108      </td></tr>\n",
       "\t<tr><td>65 and over</td><td>SA         </td><td>2031       </td><td> 4445      </td></tr>\n",
       "\t<tr><td>65 and over</td><td>WA         </td><td>2031       </td><td>11153      </td></tr>\n",
       "\t<tr><td>65 and over</td><td>Tas        </td><td>2031       </td><td> 3885      </td></tr>\n",
       "\t<tr><td>65 and over</td><td>NT         </td><td>2031       </td><td> 8066      </td></tr>\n",
       "\t<tr><td>65 and over</td><td>ACT        </td><td>2031       </td><td>  792      </td></tr>\n",
       "</tbody>\n",
       "</table>\n"
      ],
      "text/latex": [
       "\\begin{tabular}{r|llll}\n",
       " Age & State & Year & Value\\\\\n",
       "\\hline\n",
       "\t 0    & NSW  & 2006 & 6024\\\\\n",
       "\t 0    & Vic  & 2006 & 1255\\\\\n",
       "\t 0    & QLD  & 2006 & 5324\\\\\n",
       "\t 0    & SA   & 2006 & 1007\\\\\n",
       "\t 0    & WA   & 2006 & 2391\\\\\n",
       "\t 0    & Tas  & 2006 &  679\\\\\n",
       "\t 0    & NT   & 2006 & 1446\\\\\n",
       "\t 0    & ACT  & 2006 &  158\\\\\n",
       "\t 1    & NSW  & 2006 & 5691\\\\\n",
       "\t 1    & Vic  & 2006 & 1156\\\\\n",
       "\t 1    & QLD  & 2006 & 5183\\\\\n",
       "\t 1    & SA   & 2006 &  931\\\\\n",
       "\t 1    & WA   & 2006 & 2137\\\\\n",
       "\t 1    & Tas  & 2006 &  624\\\\\n",
       "\t 1    & NT   & 2006 & 1396\\\\\n",
       "\t 1    & ACT  & 2006 &  145\\\\\n",
       "\t 2    & NSW  & 2006 & 5726\\\\\n",
       "\t 2    & Vic  & 2006 & 1211\\\\\n",
       "\t 2    & QLD  & 2006 & 4990\\\\\n",
       "\t 2    & SA   & 2006 &  922\\\\\n",
       "\t 2    & WA   & 2006 & 2051\\\\\n",
       "\t 2    & Tas  & 2006 &  632\\\\\n",
       "\t 2    & NT   & 2006 & 1377\\\\\n",
       "\t 2    & ACT  & 2006 &  138\\\\\n",
       "\t 3    & NSW  & 2006 & 5686\\\\\n",
       "\t 3    & Vic  & 2006 & 1205\\\\\n",
       "\t 3    & QLD  & 2006 & 5022\\\\\n",
       "\t 3    & SA   & 2006 &  893\\\\\n",
       "\t 3    & WA   & 2006 & 2114\\\\\n",
       "\t 3    & Tas  & 2006 &  592\\\\\n",
       "\t ... & ... & ... & ...\\\\\n",
       "\t 62          & QLD         & 2031        &  2137      \\\\\n",
       "\t 62          & SA          & 2031        &   380      \\\\\n",
       "\t 62          & WA          & 2031        &  1040      \\\\\n",
       "\t 62          & Tas         & 2031        &   337      \\\\\n",
       "\t 62          & NT          & 2031        &   745      \\\\\n",
       "\t 62          & ACT         & 2031        &    86      \\\\\n",
       "\t 63          & NSW         & 2031        &  2418      \\\\\n",
       "\t 63          & Vic         & 2031        &   575      \\\\\n",
       "\t 63          & QLD         & 2031        &  2088      \\\\\n",
       "\t 63          & SA          & 2031        &   400      \\\\\n",
       "\t 63          & WA          & 2031        &   959      \\\\\n",
       "\t 63          & Tas         & 2031        &   319      \\\\\n",
       "\t 63          & NT          & 2031        &   774      \\\\\n",
       "\t 63          & ACT         & 2031        &    92      \\\\\n",
       "\t 64          & NSW         & 2031        &  2258      \\\\\n",
       "\t 64          & Vic         & 2031        &   575      \\\\\n",
       "\t 64          & QLD         & 2031        &  1874      \\\\\n",
       "\t 64          & SA          & 2031        &   386      \\\\\n",
       "\t 64          & WA          & 2031        &   982      \\\\\n",
       "\t 64          & Tas         & 2031        &   282      \\\\\n",
       "\t 64          & NT          & 2031        &   746      \\\\\n",
       "\t 64          & ACT         & 2031        &    83      \\\\\n",
       "\t 65 and over & NSW         & 2031        & 29777      \\\\\n",
       "\t 65 and over & Vic         & 2031        &  6316      \\\\\n",
       "\t 65 and over & QLD         & 2031        & 23108      \\\\\n",
       "\t 65 and over & SA          & 2031        &  4445      \\\\\n",
       "\t 65 and over & WA          & 2031        & 11153      \\\\\n",
       "\t 65 and over & Tas         & 2031        &  3885      \\\\\n",
       "\t 65 and over & NT          & 2031        &  8066      \\\\\n",
       "\t 65 and over & ACT         & 2031        &   792      \\\\\n",
       "\\end{tabular}\n"
      ],
      "text/markdown": [
       "\n",
       "| Age | State | Year | Value |\n",
       "|---|---|---|---|\n",
       "| 0    | NSW  | 2006 | 6024 |\n",
       "| 0    | Vic  | 2006 | 1255 |\n",
       "| 0    | QLD  | 2006 | 5324 |\n",
       "| 0    | SA   | 2006 | 1007 |\n",
       "| 0    | WA   | 2006 | 2391 |\n",
       "| 0    | Tas  | 2006 |  679 |\n",
       "| 0    | NT   | 2006 | 1446 |\n",
       "| 0    | ACT  | 2006 |  158 |\n",
       "| 1    | NSW  | 2006 | 5691 |\n",
       "| 1    | Vic  | 2006 | 1156 |\n",
       "| 1    | QLD  | 2006 | 5183 |\n",
       "| 1    | SA   | 2006 |  931 |\n",
       "| 1    | WA   | 2006 | 2137 |\n",
       "| 1    | Tas  | 2006 |  624 |\n",
       "| 1    | NT   | 2006 | 1396 |\n",
       "| 1    | ACT  | 2006 |  145 |\n",
       "| 2    | NSW  | 2006 | 5726 |\n",
       "| 2    | Vic  | 2006 | 1211 |\n",
       "| 2    | QLD  | 2006 | 4990 |\n",
       "| 2    | SA   | 2006 |  922 |\n",
       "| 2    | WA   | 2006 | 2051 |\n",
       "| 2    | Tas  | 2006 |  632 |\n",
       "| 2    | NT   | 2006 | 1377 |\n",
       "| 2    | ACT  | 2006 |  138 |\n",
       "| 3    | NSW  | 2006 | 5686 |\n",
       "| 3    | Vic  | 2006 | 1205 |\n",
       "| 3    | QLD  | 2006 | 5022 |\n",
       "| 3    | SA   | 2006 |  893 |\n",
       "| 3    | WA   | 2006 | 2114 |\n",
       "| 3    | Tas  | 2006 |  592 |\n",
       "| ... | ... | ... | ... |\n",
       "| 62          | QLD         | 2031        |  2137       |\n",
       "| 62          | SA          | 2031        |   380       |\n",
       "| 62          | WA          | 2031        |  1040       |\n",
       "| 62          | Tas         | 2031        |   337       |\n",
       "| 62          | NT          | 2031        |   745       |\n",
       "| 62          | ACT         | 2031        |    86       |\n",
       "| 63          | NSW         | 2031        |  2418       |\n",
       "| 63          | Vic         | 2031        |   575       |\n",
       "| 63          | QLD         | 2031        |  2088       |\n",
       "| 63          | SA          | 2031        |   400       |\n",
       "| 63          | WA          | 2031        |   959       |\n",
       "| 63          | Tas         | 2031        |   319       |\n",
       "| 63          | NT          | 2031        |   774       |\n",
       "| 63          | ACT         | 2031        |    92       |\n",
       "| 64          | NSW         | 2031        |  2258       |\n",
       "| 64          | Vic         | 2031        |   575       |\n",
       "| 64          | QLD         | 2031        |  1874       |\n",
       "| 64          | SA          | 2031        |   386       |\n",
       "| 64          | WA          | 2031        |   982       |\n",
       "| 64          | Tas         | 2031        |   282       |\n",
       "| 64          | NT          | 2031        |   746       |\n",
       "| 64          | ACT         | 2031        |    83       |\n",
       "| 65 and over | NSW         | 2031        | 29777       |\n",
       "| 65 and over | Vic         | 2031        |  6316       |\n",
       "| 65 and over | QLD         | 2031        | 23108       |\n",
       "| 65 and over | SA          | 2031        |  4445       |\n",
       "| 65 and over | WA          | 2031        | 11153       |\n",
       "| 65 and over | Tas         | 2031        |  3885       |\n",
       "| 65 and over | NT          | 2031        |  8066       |\n",
       "| 65 and over | ACT         | 2031        |   792       |\n",
       "\n"
      ],
      "text/plain": [
       "      Age         State Year Value\n",
       "1     0           NSW   2006 6024 \n",
       "2     0           Vic   2006 1255 \n",
       "3     0           QLD   2006 5324 \n",
       "4     0           SA    2006 1007 \n",
       "5     0           WA    2006 2391 \n",
       "6     0           Tas   2006  679 \n",
       "7     0           NT    2006 1446 \n",
       "8     0           ACT   2006  158 \n",
       "9     1           NSW   2006 5691 \n",
       "10    1           Vic   2006 1156 \n",
       "11    1           QLD   2006 5183 \n",
       "12    1           SA    2006  931 \n",
       "13    1           WA    2006 2137 \n",
       "14    1           Tas   2006  624 \n",
       "15    1           NT    2006 1396 \n",
       "16    1           ACT   2006  145 \n",
       "17    2           NSW   2006 5726 \n",
       "18    2           Vic   2006 1211 \n",
       "19    2           QLD   2006 4990 \n",
       "20    2           SA    2006  922 \n",
       "21    2           WA    2006 2051 \n",
       "22    2           Tas   2006  632 \n",
       "23    2           NT    2006 1377 \n",
       "24    2           ACT   2006  138 \n",
       "25    3           NSW   2006 5686 \n",
       "26    3           Vic   2006 1205 \n",
       "27    3           QLD   2006 5022 \n",
       "28    3           SA    2006  893 \n",
       "29    3           WA    2006 2114 \n",
       "30    3           Tas   2006  592 \n",
       "...   ...         ...   ...  ...  \n",
       "13699 62          QLD   2031  2137\n",
       "13700 62          SA    2031   380\n",
       "13701 62          WA    2031  1040\n",
       "13702 62          Tas   2031   337\n",
       "13703 62          NT    2031   745\n",
       "13704 62          ACT   2031    86\n",
       "13705 63          NSW   2031  2418\n",
       "13706 63          Vic   2031   575\n",
       "13707 63          QLD   2031  2088\n",
       "13708 63          SA    2031   400\n",
       "13709 63          WA    2031   959\n",
       "13710 63          Tas   2031   319\n",
       "13711 63          NT    2031   774\n",
       "13712 63          ACT   2031    92\n",
       "13713 64          NSW   2031  2258\n",
       "13714 64          Vic   2031   575\n",
       "13715 64          QLD   2031  1874\n",
       "13716 64          SA    2031   386\n",
       "13717 64          WA    2031   982\n",
       "13718 64          Tas   2031   282\n",
       "13719 64          NT    2031   746\n",
       "13720 64          ACT   2031    83\n",
       "13721 65 and over NSW   2031 29777\n",
       "13722 65 and over Vic   2031  6316\n",
       "13723 65 and over QLD   2031 23108\n",
       "13724 65 and over SA    2031  4445\n",
       "13725 65 and over WA    2031 11153\n",
       "13726 65 and over Tas   2031  3885\n",
       "13727 65 and over NT    2031  8066\n",
       "13728 65 and over ACT   2031   792"
      ]
     },
     "metadata": {},
     "output_type": "display_data"
    }
   ],
   "source": [
    "indig_bystate <-read_csv(\"IndigAusPopData_bystate.csv\")\n",
    "\n",
    "#We need to transform the data to a tidy long form to make analysis task later easier\n",
    "indig_bystate_tidy <- gather(indig_bystate,\n",
    "                             key=\"Year\",\n",
    "                             value=\"Value\",\n",
    "    \"2006\",\"2007\",\"2008\",\"2009\",\"2010\",\"2011\",\"2012\",\"2013\",\"2014\",\"2015\",\"2016\",\n",
    "    \"2017\",\"2018\",\"2019\",\"2020\",\"2021\",\"2022\",\"2023\",\"2024\",\"2025\",\"2026\",\"2027\",\n",
    "    \"2028\",\"2029\",\"2030\",\"2031\")\n",
    "\n",
    "indig_bystate_tidy"
   ]
  },
  {
   "cell_type": "code",
   "execution_count": 64,
   "metadata": {},
   "outputs": [
    {
     "data": {
      "text/html": [
       "<table>\n",
       "<thead><tr><th scope=col>State</th><th scope=col>Value.x</th><th scope=col>Value.y</th><th scope=col>child_percent</th></tr></thead>\n",
       "<tbody>\n",
       "\t<tr><td>ACT     </td><td>  3107  </td><td> 11324  </td><td>27.43730</td></tr>\n",
       "\t<tr><td>NSW     </td><td>112502  </td><td>354771  </td><td>31.71116</td></tr>\n",
       "\t<tr><td>NT      </td><td> 20563  </td><td> 88170  </td><td>23.32199</td></tr>\n",
       "\t<tr><td>QLD     </td><td> 96730  </td><td>304395  </td><td>31.77779</td></tr>\n",
       "\t<tr><td>SA      </td><td> 17292  </td><td> 57306  </td><td>30.17485</td></tr>\n",
       "\t<tr><td>Tas     </td><td> 10796  </td><td> 37089  </td><td>29.10836</td></tr>\n",
       "\t<tr><td>Vic     </td><td> 26095  </td><td> 83606  </td><td>31.21187</td></tr>\n",
       "\t<tr><td>WA      </td><td> 38318  </td><td>134895  </td><td>28.40580</td></tr>\n",
       "</tbody>\n",
       "</table>\n"
      ],
      "text/latex": [
       "\\begin{tabular}{r|llll}\n",
       " State & Value.x & Value.y & child\\_percent\\\\\n",
       "\\hline\n",
       "\t ACT      &   3107   &  11324   & 27.43730\\\\\n",
       "\t NSW      & 112502   & 354771   & 31.71116\\\\\n",
       "\t NT       &  20563   &  88170   & 23.32199\\\\\n",
       "\t QLD      &  96730   & 304395   & 31.77779\\\\\n",
       "\t SA       &  17292   &  57306   & 30.17485\\\\\n",
       "\t Tas      &  10796   &  37089   & 29.10836\\\\\n",
       "\t Vic      &  26095   &  83606   & 31.21187\\\\\n",
       "\t WA       &  38318   & 134895   & 28.40580\\\\\n",
       "\\end{tabular}\n"
      ],
      "text/markdown": [
       "\n",
       "| State | Value.x | Value.y | child_percent |\n",
       "|---|---|---|---|\n",
       "| ACT      |   3107   |  11324   | 27.43730 |\n",
       "| NSW      | 112502   | 354771   | 31.71116 |\n",
       "| NT       |  20563   |  88170   | 23.32199 |\n",
       "| QLD      |  96730   | 304395   | 31.77779 |\n",
       "| SA       |  17292   |  57306   | 30.17485 |\n",
       "| Tas      |  10796   |  37089   | 29.10836 |\n",
       "| Vic      |  26095   |  83606   | 31.21187 |\n",
       "| WA       |  38318   | 134895   | 28.40580 |\n",
       "\n"
      ],
      "text/plain": [
       "  State Value.x Value.y child_percent\n",
       "1 ACT     3107   11324  27.43730     \n",
       "2 NSW   112502  354771  31.71116     \n",
       "3 NT     20563   88170  23.32199     \n",
       "4 QLD    96730  304395  31.77779     \n",
       "5 SA     17292   57306  30.17485     \n",
       "6 Tas    10796   37089  29.10836     \n",
       "7 Vic    26095   83606  31.21187     \n",
       "8 WA     38318  134895  28.40580     "
      ]
     },
     "metadata": {},
     "output_type": "display_data"
    }
   ],
   "source": [
    "#For 2031 population\n",
    "d2_pop_2031<- indig_bystate_tidy %>% \n",
    "  filter(Year=='2031' ) %>%\n",
    "  group_by(State) %>%\n",
    "  summarise_at(vars(Value),funs(sum))\n",
    "\n",
    "d2_child_2031 <- indig_bystate_tidy %>% \n",
    "  filter(Year=='2031',Age %in% c(0:14) ) %>%\n",
    "  group_by(State) %>%\n",
    "  summarise_at(vars(Value),funs(sum))\n",
    "\n",
    "d2_percent_2031 <-merge(d2_child_2031,d2_pop_2031,by.x=\"State\",by.y=\"State\")\n",
    "d2_percent_2031['child_percent'] <-(d2_percent_2031$Value.x)/(d2_percent_2031$Value.y)*100\n",
    "d2_percent_2031"
   ]
  },
  {
   "cell_type": "code",
   "execution_count": 66,
   "metadata": {},
   "outputs": [
    {
     "name": "stdout",
     "output_type": "stream",
     "text": [
      "Region with the highest percentage of children in its total 2031 population is  QLD with the percentage of  31.77779 %"
     ]
    }
   ],
   "source": [
    "d2_highest_state_2031 <-d2_percent_2031[d2_percent_2031['child_percent']==max(d2_percent_2031['child_percent']),\"State\"]\n",
    "\n",
    "cat('Region with the highest percentage of children in its total 2031 population is ',d2_highest_state_2031,\n",
    "    'with the percentage of ',max(d2_percent_2031['child_percent']),'%')"
   ]
  },
  {
   "cell_type": "markdown",
   "metadata": {},
   "source": [
    "Next, we use R to build a Motion Chart comparing the total Indigenous Australian population of each\n",
    "region to the percentage of Indigenous Australian children in each state/territory. Use the\n",
    "region populations calculated from `IndigAusPopData_byregion` and the child percentage values calculated\n",
    "from `IndigAusPopData_bystate`. The motion chart should show the population on the x-axis, the percentage on\n",
    "the y-axis, the bubble size should depend on the population.\n",
    "\n",
    "Firstly, we need to get the child percentages for each state from 2016 to 2031. The reason why we do not consider the portion of the data from 2006 to 2015 is because we will match this data with the data by region, which is only between 2016 and 2031.\n",
    "\n",
    "The step to get the child percentage for each state is similar to what we have done. Here, we need to run a loop to get the child percentage for each year, from 2016 to 2031. First, i create an empty dataframe, then add dataframes to it."
   ]
  },
  {
   "cell_type": "code",
   "execution_count": 67,
   "metadata": {},
   "outputs": [],
   "source": [
    "percent_year_state <- data.frame(State=character(),\n",
    "                 Value.x=double(),\n",
    "                 Value.y=double(),\n",
    "                 child_percent=double(),\n",
    "                 Year=integer(),\n",
    "                 stringsAsFactors = FALSE\n",
    "                 )\n",
    "\n",
    "\n",
    "for (year in c(2016:2031)){\n",
    "  d2_pop <- indig_bystate_tidy %>%\n",
    "    filter(Year==year) %>%\n",
    "    group_by(State) %>%\n",
    "    summarise_at(vars(Value),funs(sum))\n",
    "  \n",
    "  d2_child <- indig_bystate_tidy %>%\n",
    "    filter(Year==year,Age %in% c(0:14)) %>%\n",
    "    group_by(State) %>%\n",
    "    summarise_at(vars(Value),funs(sum))\n",
    "  \n",
    "  d2_percent <- merge(d2_child,d2_pop,by.x=\"State\",by.y=\"State\")\n",
    "  d2_percent['child_percent'] <- (d2_percent$Value.x)/(d2_percent$Value.y)*100\n",
    "  d2_percent['Year'] <-rep(year,nrow(d2_percent))\n",
    "  percent_year_state <- rbind(percent_year_state,d2_percent)\n",
    "}"
   ]
  },
  {
   "cell_type": "code",
   "execution_count": 69,
   "metadata": {},
   "outputs": [],
   "source": [
    "#Next, we match each region with its corresponding states.\n",
    "#We add a new column “State” in tot_pop_year_region dataframe to fill in this information\n",
    "tot_pop_year_region <- tot_pop_year_region %>% mutate(State=case_when(Indigenous_region %in% c(\"ACT\") ~\"ACT\",\n",
    "      Indigenous_region %in% c(\"Darwin\",\"Dubbo\",\"North-Eastern NSW\",\n",
    "  \"North-Western NSW\",\"NSW Central and North Coast\",\"Riverina - Orange\",\"South-Eastern NSW\",\"Sydney - Wollongong\") ~ \"NSW\",\n",
    "  Indigenous_region %in% c(\"Alice Springs\",\"Apatula\",\"Darwin\",\n",
    "    \"Jabiru - Tiwi\",\"Katherine\",\"Nhulunbuy\",\"Tennant Creek\") ~ \"NT\", \n",
    "  Indigenous_region %in% c(\"Brisbane\",\"Cairns - Atherton\",\"Cape York\",\"Mount Isa\",\"Rockhampton\",\"Toowoomba - Roma\",\n",
    "                           \"Torres Strait\",\"Townsville - Mackay\") ~ \"QLD\",\n",
    "  Indigenous_region %in% c(\"Adelaide\",\"Port Augusta\",\"Port Lincoln - Ceduna\") ~ \"SA\",\n",
    "  Indigenous_region %in% c(\"Tasmania\") ~ \"Tas\",\n",
    "  Indigenous_region %in% c(\"Melbourne\",\"Victoria exc. Melbourne\") ~ \"Vic\",\n",
    "  Indigenous_region %in% c(\"Broome\",\"Geraldton\",\"Kalgoorlie\",\"Kununurra\",\"Perth\",\"South-Western WA\",\"South Hedland\",\n",
    "                           \"West Kimberley\") ~ \"WA\"\n",
    "  ))"
   ]
  },
  {
   "cell_type": "markdown",
   "metadata": {},
   "source": [
    "Then we merge `tot_pop_year_region` with `percent_year_state`, so for any region at any given year, we will know the children percentage. We only keep the relevants columns and also rename ambiguous column’s name"
   ]
  },
  {
   "cell_type": "code",
   "execution_count": 71,
   "metadata": {},
   "outputs": [],
   "source": [
    "region_pop_child <- merge(tot_pop_year_region,percent_year_state,by.x=c(\"State\",\"TIME\"),by.y=c(\"State\",\"Year\"))\n",
    "\n",
    "region_pop_child <-region_pop_child[, !(names(region_pop_child) %in% c(\"Value.x\",\"Value.y\"))]\n",
    "colnames(region_pop_child)[4] <- \"Population\""
   ]
  },
  {
   "cell_type": "markdown",
   "metadata": {},
   "source": [
    "An issue arise as there are duplicated rows in the dataframe. Remove these rows"
   ]
  },
  {
   "cell_type": "code",
   "execution_count": 72,
   "metadata": {},
   "outputs": [],
   "source": [
    "region_pop_child <-region_pop_child[!duplicated(region_pop_child),]"
   ]
  },
  {
   "cell_type": "markdown",
   "metadata": {},
   "source": [
    "Now we have all the data to plot the motion chart. Population as x-axis, child_percent as y-axis and bubble size depends on the population."
   ]
  },
  {
   "cell_type": "code",
   "execution_count": 75,
   "metadata": {},
   "outputs": [],
   "source": [
    "library('googleVis')"
   ]
  },
  {
   "cell_type": "code",
   "execution_count": 76,
   "metadata": {},
   "outputs": [
    {
     "name": "stderr",
     "output_type": "stream",
     "text": [
      "starting httpd help server ... done\n"
     ]
    }
   ],
   "source": [
    "M1 <- gvisMotionChart(region_pop_child, idvar=\"Indigenous_region\", timevar=\"TIME\",\n",
    "                      xvar=\"Population\",yvar = \"child_percent\",sizevar = \"Population\")\n",
    "plot(M1)"
   ]
  },
  {
   "cell_type": "markdown",
   "metadata": {},
   "source": [
    "By looking at Motion Chart, for region in NT(Northern Territory), as we let the slide go from 2016 to 2031, we can see that Apatula’s population overtakes Katherine’s population. It seems to happen around 2021.\n",
    "\n",
    "For regions in NSW(New South Wales), South-Eastern NSW’s population seems to overtake that of Darwin in 2026.\n",
    "\n",
    "In general, for regions with really large population like Brisbane, Sydney-Wollongong and NSW Central and North Coast, the percentage of children in the population is also high. However, the opposite is not always true. Regions with small population do not always also have a small percentage of children in the population. Although regions like Tennant Creek and Alice Spring both have a small population and a small percentage of children in the population, there are regions like Torres Strait and Mount Isa where the total population is small but the percentage of children is very high.\n",
    "\n",
    "In addition, we can see than most data points cluster around the upper left region of the plot, which means a lower total population but a high percentage of children."
   ]
  },
  {
   "cell_type": "markdown",
   "metadata": {},
   "source": [
    "## 2. Exploratory Analysis on Australian Immunisation rates <a class=\"anchor\" id=\"2\"></a>"
   ]
  },
  {
   "cell_type": "code",
   "execution_count": 77,
   "metadata": {},
   "outputs": [
    {
     "name": "stderr",
     "output_type": "stream",
     "text": [
      "Warning message:\n",
      "\"Missing column names filled in: 'X13' [13], 'X14' [14], 'X15' [15], 'X16' [16]\"\n",
      "\u001b[36m--\u001b[39m \u001b[1m\u001b[1mColumn specification\u001b[1m\u001b[22m \u001b[36m------------------------------------------------------------------------------------------------\u001b[39m\n",
      "cols(\n",
      "  State = \u001b[31mcol_character()\u001b[39m,\n",
      "  `PHN code` = \u001b[31mcol_character()\u001b[39m,\n",
      "  `PHN area name` = \u001b[31mcol_character()\u001b[39m,\n",
      "  `Reporting Year` = \u001b[31mcol_character()\u001b[39m,\n",
      "  `Age group` = \u001b[31mcol_character()\u001b[39m,\n",
      "  `Number of registered children` = \u001b[32mcol_number()\u001b[39m,\n",
      "  `Number fully immunised` = \u001b[32mcol_number()\u001b[39m,\n",
      "  `Number not fully immunised` = \u001b[32mcol_number()\u001b[39m,\n",
      "  `Number of registered IndigAus  children` = \u001b[31mcol_character()\u001b[39m,\n",
      "  `Number IndigAus fully immunised` = \u001b[31mcol_character()\u001b[39m,\n",
      "  `Number IndigAus not fully immunised` = \u001b[31mcol_character()\u001b[39m,\n",
      "  `Interpret with caution (#)` = \u001b[31mcol_character()\u001b[39m,\n",
      "  X13 = \u001b[33mcol_logical()\u001b[39m,\n",
      "  X14 = \u001b[33mcol_logical()\u001b[39m,\n",
      "  X15 = \u001b[33mcol_logical()\u001b[39m,\n",
      "  X16 = \u001b[33mcol_logical()\u001b[39m\n",
      ")\n",
      "\n"
     ]
    },
    {
     "data": {
      "text/html": [
       "<table>\n",
       "<thead><tr><th scope=col>State</th><th scope=col>PHN code</th><th scope=col>PHN area name</th><th scope=col>Reporting Year</th><th scope=col>Age group</th><th scope=col>Number of registered children</th><th scope=col>Number fully immunised</th><th scope=col>Number not fully immunised</th><th scope=col>Number of registered IndigAus  children</th><th scope=col>Number IndigAus fully immunised</th><th scope=col>Number IndigAus not fully immunised</th><th scope=col>Interpret with caution (#)</th><th scope=col>X13</th><th scope=col>X14</th><th scope=col>X15</th><th scope=col>X16</th></tr></thead>\n",
       "<tbody>\n",
       "\t<tr><td>ACT                         </td><td>PHN801                      </td><td>Australian Capital Territory</td><td>2015-16                     </td><td>2 years                     </td><td>5679                        </td><td>5215                        </td><td>464                         </td><td>134                         </td><td>112                         </td><td>22                          </td><td>NA                          </td><td>NA                          </td><td>NA                          </td><td>NA                          </td><td>NA                          </td></tr>\n",
       "\t<tr><td>ACT                         </td><td>PHN801                      </td><td>Australian Capital Territory</td><td>2014-15                     </td><td>2 years                     </td><td>5525                        </td><td>5051                        </td><td>474                         </td><td>124                         </td><td>105                         </td><td>19                          </td><td>NA                          </td><td>NA                          </td><td>NA                          </td><td>NA                          </td><td>NA                          </td></tr>\n",
       "\t<tr><td>ACT                         </td><td>PHN801                      </td><td>Australian Capital Territory</td><td>2016-17                     </td><td>2 years                     </td><td>5761                        </td><td>5300                        </td><td>461                         </td><td>141                         </td><td>125                         </td><td>16                          </td><td>NA                          </td><td>NA                          </td><td>NA                          </td><td>NA                          </td><td>NA                          </td></tr>\n",
       "\t<tr><td>ACT                         </td><td>PHN801                      </td><td>Australian Capital Territory</td><td>2012-13                     </td><td>1 year                      </td><td>5381                        </td><td>4989                        </td><td>392                         </td><td>113                         </td><td>101                         </td><td>12                          </td><td>NA                          </td><td>NA                          </td><td>NA                          </td><td>NA                          </td><td>NA                          </td></tr>\n",
       "\t<tr><td>ACT                         </td><td>PHN801                      </td><td>Australian Capital Territory</td><td>2013-14                     </td><td>1 year                      </td><td>5513                        </td><td>5128                        </td><td>385                         </td><td>125                         </td><td>112                         </td><td>13                          </td><td>NA                          </td><td>NA                          </td><td>NA                          </td><td>NA                          </td><td>NA                          </td></tr>\n",
       "\t<tr><td>ACT                         </td><td>PHN801                      </td><td>Australian Capital Territory</td><td>2012-13                     </td><td>2 years                     </td><td>5318                        </td><td>4955                        </td><td>363                         </td><td>120                         </td><td>109                         </td><td>11                          </td><td>NA                          </td><td>NA                          </td><td>NA                          </td><td>NA                          </td><td>NA                          </td></tr>\n",
       "</tbody>\n",
       "</table>\n"
      ],
      "text/latex": [
       "\\begin{tabular}{r|llllllllllllllll}\n",
       " State & PHN code & PHN area name & Reporting Year & Age group & Number of registered children & Number fully immunised & Number not fully immunised & Number of registered IndigAus  children & Number IndigAus fully immunised & Number IndigAus not fully immunised & Interpret with caution (\\#) & X13 & X14 & X15 & X16\\\\\n",
       "\\hline\n",
       "\t ACT                          & PHN801                       & Australian Capital Territory & 2015-16                      & 2 years                      & 5679                         & 5215                         & 464                          & 134                          & 112                          & 22                           & NA                           & NA                           & NA                           & NA                           & NA                          \\\\\n",
       "\t ACT                          & PHN801                       & Australian Capital Territory & 2014-15                      & 2 years                      & 5525                         & 5051                         & 474                          & 124                          & 105                          & 19                           & NA                           & NA                           & NA                           & NA                           & NA                          \\\\\n",
       "\t ACT                          & PHN801                       & Australian Capital Territory & 2016-17                      & 2 years                      & 5761                         & 5300                         & 461                          & 141                          & 125                          & 16                           & NA                           & NA                           & NA                           & NA                           & NA                          \\\\\n",
       "\t ACT                          & PHN801                       & Australian Capital Territory & 2012-13                      & 1 year                       & 5381                         & 4989                         & 392                          & 113                          & 101                          & 12                           & NA                           & NA                           & NA                           & NA                           & NA                          \\\\\n",
       "\t ACT                          & PHN801                       & Australian Capital Territory & 2013-14                      & 1 year                       & 5513                         & 5128                         & 385                          & 125                          & 112                          & 13                           & NA                           & NA                           & NA                           & NA                           & NA                          \\\\\n",
       "\t ACT                          & PHN801                       & Australian Capital Territory & 2012-13                      & 2 years                      & 5318                         & 4955                         & 363                          & 120                          & 109                          & 11                           & NA                           & NA                           & NA                           & NA                           & NA                          \\\\\n",
       "\\end{tabular}\n"
      ],
      "text/markdown": [
       "\n",
       "| State | PHN code | PHN area name | Reporting Year | Age group | Number of registered children | Number fully immunised | Number not fully immunised | Number of registered IndigAus  children | Number IndigAus fully immunised | Number IndigAus not fully immunised | Interpret with caution (#) | X13 | X14 | X15 | X16 |\n",
       "|---|---|---|---|---|---|---|---|---|---|---|---|---|---|---|---|\n",
       "| ACT                          | PHN801                       | Australian Capital Territory | 2015-16                      | 2 years                      | 5679                         | 5215                         | 464                          | 134                          | 112                          | 22                           | NA                           | NA                           | NA                           | NA                           | NA                           |\n",
       "| ACT                          | PHN801                       | Australian Capital Territory | 2014-15                      | 2 years                      | 5525                         | 5051                         | 474                          | 124                          | 105                          | 19                           | NA                           | NA                           | NA                           | NA                           | NA                           |\n",
       "| ACT                          | PHN801                       | Australian Capital Territory | 2016-17                      | 2 years                      | 5761                         | 5300                         | 461                          | 141                          | 125                          | 16                           | NA                           | NA                           | NA                           | NA                           | NA                           |\n",
       "| ACT                          | PHN801                       | Australian Capital Territory | 2012-13                      | 1 year                       | 5381                         | 4989                         | 392                          | 113                          | 101                          | 12                           | NA                           | NA                           | NA                           | NA                           | NA                           |\n",
       "| ACT                          | PHN801                       | Australian Capital Territory | 2013-14                      | 1 year                       | 5513                         | 5128                         | 385                          | 125                          | 112                          | 13                           | NA                           | NA                           | NA                           | NA                           | NA                           |\n",
       "| ACT                          | PHN801                       | Australian Capital Territory | 2012-13                      | 2 years                      | 5318                         | 4955                         | 363                          | 120                          | 109                          | 11                           | NA                           | NA                           | NA                           | NA                           | NA                           |\n",
       "\n"
      ],
      "text/plain": [
       "  State PHN code PHN area name                Reporting Year Age group\n",
       "1 ACT   PHN801   Australian Capital Territory 2015-16        2 years  \n",
       "2 ACT   PHN801   Australian Capital Territory 2014-15        2 years  \n",
       "3 ACT   PHN801   Australian Capital Territory 2016-17        2 years  \n",
       "4 ACT   PHN801   Australian Capital Territory 2012-13        1 year   \n",
       "5 ACT   PHN801   Australian Capital Territory 2013-14        1 year   \n",
       "6 ACT   PHN801   Australian Capital Territory 2012-13        2 years  \n",
       "  Number of registered children Number fully immunised\n",
       "1 5679                          5215                  \n",
       "2 5525                          5051                  \n",
       "3 5761                          5300                  \n",
       "4 5381                          4989                  \n",
       "5 5513                          5128                  \n",
       "6 5318                          4955                  \n",
       "  Number not fully immunised Number of registered IndigAus  children\n",
       "1 464                        134                                    \n",
       "2 474                        124                                    \n",
       "3 461                        141                                    \n",
       "4 392                        113                                    \n",
       "5 385                        125                                    \n",
       "6 363                        120                                    \n",
       "  Number IndigAus fully immunised Number IndigAus not fully immunised\n",
       "1 112                             22                                 \n",
       "2 105                             19                                 \n",
       "3 125                             16                                 \n",
       "4 101                             12                                 \n",
       "5 112                             13                                 \n",
       "6 109                             11                                 \n",
       "  Interpret with caution (#) X13 X14 X15 X16\n",
       "1 NA                         NA  NA  NA  NA \n",
       "2 NA                         NA  NA  NA  NA \n",
       "3 NA                         NA  NA  NA  NA \n",
       "4 NA                         NA  NA  NA  NA \n",
       "5 NA                         NA  NA  NA  NA \n",
       "6 NA                         NA  NA  NA  NA "
      ]
     },
     "metadata": {},
     "output_type": "display_data"
    }
   ],
   "source": [
    "#Load data\n",
    "Aus_immu <- read_csv(\"AusImmunisationData.csv\")\n",
    "head(Aus_immu)"
   ]
  },
  {
   "cell_type": "markdown",
   "metadata": {},
   "source": [
    "There are some columns with a lot of missing data. We investigate this further.\n"
   ]
  },
  {
   "cell_type": "code",
   "execution_count": 78,
   "metadata": {},
   "outputs": [
    {
     "data": {
      "image/png": "[encoded data removed]",
      "text/plain": [
       "plot without title"
      ]
     },
     "metadata": {},
     "output_type": "display_data"
    }
   ],
   "source": [
    "vis_dat(Aus_immu)"
   ]
  },
  {
   "cell_type": "markdown",
   "metadata": {},
   "source": [
    "Columns `X13`,`X14`,`X15`,`X16` are completely full of missing values, so we remove these columns from the dataframe. Although column “Interpret with caution” also contains a lot of missing values, there is a context to it. This column assigns “#” to those rows that have the number of Indigenous Australian fully immunised between 26 and 100, and empty otherwise, so the missing values here also provide a sort of information. Therefore, we keep this column."
   ]
  },
  {
   "cell_type": "code",
   "execution_count": 79,
   "metadata": {},
   "outputs": [],
   "source": [
    "Aus_immu <- Aus_immu[,!(names(Aus_immu) %in% c(\"X13\",\"X14\",\"X15\",\"X16\"))]"
   ]
  },
  {
   "cell_type": "markdown",
   "metadata": {},
   "source": [
    "### 2.1 Values and Variables <a class=\"anchor\" id=\"2.1\"></a>"
   ]
  },
  {
   "cell_type": "code",
   "execution_count": 80,
   "metadata": {},
   "outputs": [
    {
     "name": "stdout",
     "output_type": "stream",
     "text": [
      "There are  31 PHN areas that the data cover"
     ]
    }
   ],
   "source": [
    "#Let's check how many PHN areas does the data cover\n",
    "no_PHN_areas <-length(unique(Aus_immu$`PHN code`))\n",
    "cat(\"There are \",no_PHN_areas,\"PHN areas that the data cover\")"
   ]
  },
  {
   "cell_type": "markdown",
   "metadata": {},
   "source": [
    "Next, we investigate the percentage of Australian children that are fully immunised (which is immunisation rate). We also do the same for Indigenous Australian children. "
   ]
  },
  {
   "cell_type": "code",
   "execution_count": 81,
   "metadata": {},
   "outputs": [
    {
     "name": "stdout",
     "output_type": "stream",
     "text": [
      "The average immunisation rates is  92.06154 % \n",
      "The maximum immunisation rates is  96.15255 % \n",
      "The minimum immunisation rates is  86.09929 %"
     ]
    }
   ],
   "source": [
    "#For Australian children\n",
    "Aus_immu[\"immu_rate\"] <- (Aus_immu$`Number fully immunised`)/(Aus_immu$`Number of registered children`)*100\n",
    "\n",
    "cat(\"The average immunisation rates is \",mean(Aus_immu$immu_rate),\"% \\n\")\n",
    "cat(\"The maximum immunisation rates is \",max(Aus_immu$immu_rate),\"% \\n\")\n",
    "cat(\"The minimum immunisation rates is \",min(Aus_immu$immu_rate),\"%\")"
   ]
  },
  {
   "cell_type": "markdown",
   "metadata": {},
   "source": [
    "For Indigenous Australian children, we add a new column `ind_immu_rate` that has the percentage of Indigenous children that are fully immunised. However, we encounter a problem. In this particular portion of the dataset that we are concerned with, there are some rows with the value “NP” which stands for “Not available for Publication”. Since we cannot do numerical calculation on these values, we will have to exclude these rows from the calculation. In addition, we need to convert these numbers from character to numeric so we can perform numerical operation on them. However, before we can do this, there are some values that have “,” in the middle of the number, so we need to take care of this too."
   ]
  },
  {
   "cell_type": "code",
   "execution_count": 82,
   "metadata": {},
   "outputs": [],
   "source": [
    "filtered_Aus_immu <- Aus_immu %>% filter(!(`Number of registered IndigAus  children`==\"NP\"))\n",
    "\n",
    "filtered_Aus_immu$`Number of registered IndigAus  children` <- as.numeric(gsub(\",\",\"\",\n",
    "                                filtered_Aus_immu$`Number of registered IndigAus  children`))\n",
    "\n",
    "filtered_Aus_immu$`Number IndigAus fully immunised` <- as.numeric(gsub(\",\",\"\",\n",
    "                            filtered_Aus_immu$`Number IndigAus fully immunised`))"
   ]
  },
  {
   "cell_type": "code",
   "execution_count": 83,
   "metadata": {},
   "outputs": [],
   "source": [
    "filtered_Aus_immu[\"ind_immu_rate\"] <- (filtered_Aus_immu$`Number IndigAus fully immunised`)/\n",
    "    (filtered_Aus_immu$`Number of registered IndigAus  children`)*100"
   ]
  },
  {
   "cell_type": "code",
   "execution_count": 84,
   "metadata": {},
   "outputs": [
    {
     "name": "stdout",
     "output_type": "stream",
     "text": [
      "The average immunisation rates for Indigenous children is  89.92436 % \n",
      "The maximum immunisation rates for Indigenous children is  97.68977 % \n",
      "The minimum immunisation rates for Indigenous children is  73.77049 %"
     ]
    }
   ],
   "source": [
    "cat(\"The average immunisation rates for Indigenous children is \",mean(filtered_Aus_immu$ind_immu_rate),\"% \\n\")\n",
    "cat(\"The maximum immunisation rates for Indigenous children is \",max(filtered_Aus_immu$ind_immu_rate),\"% \\n\")\n",
    "cat(\"The minimum immunisation rates for Indigenous children is \",min(filtered_Aus_immu$ind_immu_rate),\"%\")"
   ]
  },
  {
   "cell_type": "markdown",
   "metadata": {},
   "source": [
    "These values seem statistically reasonable to me. Due to various socio_economic factors, immunisation rate of Indigenous children would generally be lower than that of the overall population."
   ]
  },
  {
   "cell_type": "markdown",
   "metadata": {},
   "source": [
    "### 2.2 Variations in rates over Time, Age and Location <a class=\"anchor\" id=\"2.2\"></a>\n",
    "\n",
    "Next, we investigate to see the interaction between immunisation rates and other factors such as year and age."
   ]
  },
  {
   "cell_type": "code",
   "execution_count": 85,
   "metadata": {},
   "outputs": [
    {
     "data": {
      "image/png": "[encoded data removed]",
      "text/plain": [
       "plot without title"
      ]
     },
     "metadata": {},
     "output_type": "display_data"
    }
   ],
   "source": [
    "#Boxplot of immunisation rate versus year\n",
    "Aus_immu %>% ggplot(aes(`Reporting Year`,immu_rate))+\n",
    "  geom_boxplot(alpha=0.5)"
   ]
  },
  {
   "cell_type": "markdown",
   "metadata": {},
   "source": [
    "In general, immunisation rates have improved over time, as the box plot is at a higher immunisation rate in 2016-2017, as compared to 2012-2013.\n",
    "\n",
    "The median, which is the middle line in the box plots, increases. However, this trend is not always the case over the years. The median actually falls first, at a lower immunisation rate in 2014-2015, as compared to 2012-2013. Then after that, it increases back again and in 2016-2017, it reaches a level of immunisation rates that is higher than that in 2012-2013."
   ]
  },
  {
   "cell_type": "code",
   "execution_count": 86,
   "metadata": {},
   "outputs": [
    {
     "data": {
      "image/png": "[encoded data removed]",
      "text/plain": [
       "plot without title"
      ]
     },
     "metadata": {},
     "output_type": "display_data"
    }
   ],
   "source": [
    "#To account for age, we can also plot grouped boxplot\n",
    "Aus_immu %>% ggplot(aes(`Reporting Year`,immu_rate,colour=`Age group`))+\n",
    "  geom_boxplot(alpha=0.5)"
   ]
  },
  {
   "cell_type": "markdown",
   "metadata": {},
   "source": [
    "From the graph, we can see that for the age group of 1 year, immunisation rates improved over time, as the red box plot representing this group is at a higher immunisation rate in 2016-2017, as compared to 2012-2013.\n",
    "\n",
    "For the age group of 2 years, we actually see an overall fall in immunisation rates between 2012-2013 and 2016-2017 as the green box plot representing this group is at a lower immunisation rate in 2016-2017, as compared to 2012-2013. However, from 2014-2015 onwards, there is an increasing trend in immunisation rate for this group\n",
    "\n",
    "For the age group of 5 years, there is a slight improvement in immunisation rates over time, as the blue box plot representing this group is at a higher immunisation rate in 2016-2017, as compared to 2012-2013"
   ]
  },
  {
   "cell_type": "code",
   "execution_count": 87,
   "metadata": {},
   "outputs": [
    {
     "data": {
      "image/png": "[encoded data removed]",
      "text/plain": [
       "plot without title"
      ]
     },
     "metadata": {},
     "output_type": "display_data"
    }
   ],
   "source": [
    "#Generate boxplot of immunisation rate versus State\n",
    "Aus_immu %>% ggplot(aes(State,immu_rate))+\n",
    "  geom_boxplot(alpha=0.5)"
   ]
  },
  {
   "cell_type": "markdown",
   "metadata": {},
   "source": [
    "To determine which states is the most consistent in their immunisation rates, we look for the box plot that is the shortest, with the length between maximum observation (that is below upper inner fence) and minimum observation (that is above lower inner fence) being the shortest as well. It is because this means the variance in immunisation rates is not high.\n",
    "\n",
    "ACT box plot seems to fit this criteria, so ACT is the most consistent in their immunisation rates."
   ]
  },
  {
   "cell_type": "code",
   "execution_count": null,
   "metadata": {},
   "outputs": [],
   "source": []
  }
 ],
 "metadata": {
  "kernelspec": {
   "display_name": "R",
   "language": "R",
   "name": "ir"
  },
  "language_info": {
   "codemirror_mode": "r",
   "file_extension": ".r",
   "mimetype": "text/x-r-source",
   "name": "R",
   "pygments_lexer": "r",
   "version": "3.6.1"
  }
 },
 "nbformat": 4,
 "nbformat_minor": 4
}
